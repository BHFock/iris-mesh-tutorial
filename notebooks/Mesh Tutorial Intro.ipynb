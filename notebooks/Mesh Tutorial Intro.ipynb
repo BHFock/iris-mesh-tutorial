{
 "cells": [
  {
   "cell_type": "markdown",
   "id": "7af83b7a-1477-4505-b5ef-4801bb384a1f",
   "metadata": {},
   "source": [
    "# LFRic + Iris tutorial : Unstructured meshes"
   ]
  },
  {
   "cell_type": "markdown",
   "id": "6e160160-e0d5-48bf-842c-a0b0aeaad176",
   "metadata": {
    "tags": []
   },
   "source": [
    "---\n",
    "\n",
    "Some important initial setup (always do first) .."
   ]
  },
  {
   "cell_type": "code",
   "execution_count": 1,
   "id": "4cf019bd-f46a-42d4-8f99-23f5ab603951",
   "metadata": {},
   "outputs": [],
   "source": [
    "# Make PyVista (VTK 3d output) appears an interactive window in the notebook.\n",
    "# (NOTE: without this, VTK output appears as static embedded images)\n",
    "import pyvista as pv\n",
    "pv.rcParams[\"use_ipyvtk\"] = True"
   ]
  },
  {
   "cell_type": "markdown",
   "id": "1fb1e41a-1b09-485c-b3a9-21e7b9cee16a",
   "metadata": {},
   "source": [
    "# Important : use + stability of notebooks\n",
    "\n",
    "A good deal of the content relies on code which is still experimental.\n",
    "We must expect that there are various outstanding problems, and things sometimes crash.\n",
    "\n",
    "A particular problem is getting things working *within notebooks*.  For that purpose, the following may be useful general notes :\n",
    "\n",
    "whenever something seems to be taking a long time with no result...\n",
    "   1. ***first*** look at \"kernel status\" in top-right of the JupyterLab notebook pane  \n",
    "       meanings as described in its mouse-over text : \n",
    "       * white circle = \"idle\" (ok, done)\n",
    "       * grey circle = \"busy\"\n",
    "       * \"electric zap\" icon = \"connecting\"  ***-- this one often means \"crashed\"***\n",
    "   2. if stuck, you can always \"restart the kernel\"  \n",
    "      (the arrow-round-a-circle icon, in controls at top left of notebook pane)  \n",
    "      but note :\n",
    "        1. this will destroy the entire session :  you need to rerun all notebook cells from the start again\n",
    "        2. after resetting, **do not attempt anything further** until the kernel state shows \"idle\" again\n",
    "   3. sometimes gets *really* stuck\n",
    "      - e.g. after restart, kernel status persists in \"connecting\" / \"restarting\" state\n",
    "      then *close* the JupyterLab window + restart\n",
    "      * i.e. `$ jupyter-lab`"
   ]
  },
  {
   "cell_type": "markdown",
   "id": "a4bf9666-e64b-4fd6-9be3-1136489c41b6",
   "metadata": {},
   "source": [
    "---\n",
    "Create generally useful imports"
   ]
  },
  {
   "cell_type": "code",
   "execution_count": 4,
   "id": "a2aaa628-948f-44af-991f-253a0a109bfc",
   "metadata": {},
   "outputs": [],
   "source": [
    "from geovista.pantry import um_orca2\n",
    "import geovista.theme\n",
    "\n",
    "import iris"
   ]
  },
  {
   "cell_type": "markdown",
   "id": "869b28b8-3e4a-4e6b-8e6a-ce6c02ff6702",
   "metadata": {},
   "source": [
    "---\n",
    "\n",
    "# **EXAMPLES OF FORMAT**\n",
    "\n",
    "Some ideas of how we may present...  \n",
    "And (later) a **list of topics for discussion** ...\n"
   ]
  },
  {
   "cell_type": "markdown",
   "id": "19a199cc-3253-4a8a-a1f9-687d7d91c266",
   "metadata": {},
   "source": [
    "# 3D visualisation\n",
    "\n",
    "While LFRic data can be presented in 2D plots with a map projection, it is often more profitable way to explore it with a 3D viewer.  \n",
    "\n",
    "There are a few reasons for this :\n",
    "  1. the LFRic model grid does not follow a 2d, lat-lon aligned structure (unlike UM)\n",
    "  2. LFRic data is now tending to be too large for matplotlib-style plotting (~6 million cells)\n",
    "\n",
    "Simple Pyvista testcase"
   ]
  },
  {
   "cell_type": "markdown",
   "id": "efd9df44-f172-4f9b-9768-538d4e25017b",
   "metadata": {},
   "source": [
    "# Ongoing structure question\n",
    "how to organise / sectionalise / navigate the tutorial ?\n",
    "\n",
    "### 1. Links to other notebooks\n",
    "[\"trial\" notebook](./trial.ipynb)\n",
    "\n",
    "### 2. TOC provision\n",
    "TBD, not yet tried.  See : https://github.com/jupyterlab/jupyterlab-toc#readme"
   ]
  },
  {
   "cell_type": "markdown",
   "id": "5e796f9a-54a5-45f4-bee8-b93efc937315",
   "metadata": {},
   "source": [
    "## Reference : terminology (probably, a separate linked glossary ??)\n",
    "  * LFRic\n",
    "  * cubesphere\n",
    "  * mesh\n",
    "  * unstructured\n",
    "  * ugrid\n",
    "  * VTK\n",
    "  * geovista\n",
    "  * pyvista\n",
    "  * iris-esmf-regrid\n"
   ]
  },
  {
   "cell_type": "markdown",
   "id": "2108c1f9-472e-421d-9e31-c4b67306da94",
   "metadata": {},
   "source": [
    "# **TOPICS LIST?**\n",
    "\n",
    "A draft list of topics for discussion.  \n",
    "NOTE : all these basically need re-casting as interactive sections lead by task questions.  \n",
    "E.G. (a) \"how can you tell this is mesh data ?\". (b) \"\n",
    "\n",
    "  1. Basics\n",
    "     * concepts\n",
    "       * unstructured (LFRic)\n",
    "       * UGRID\n",
    "     * terminology to be covered (PLUS probably, a separate glossary ? -- see above section)\n",
    "\n",
    "\n",
    "  1. Iris existing features, ***extended***\n",
    "     * cf Iris docs : https://scitools-iris.readthedocs.io/en/stable/further_topics/ugrid/operations.html#working-with-mesh-data\n",
    "     * BASICS ..\n",
    "       * loading\n",
    "       * printing (cubes)\n",
    "          * beginnings of questions\n",
    "       * saving\n",
    "\n",
    "  1. plotting\n",
    "     * 3d plotting ((see beginnings of discussion section ..above))\n",
    "     * 2d plots (projections)\n",
    "\n",
    "  1. Exploring / comparing UM and LFRIc data\n",
    "       * cube printouts -- similarity + difference\n",
    "       * regridding\n",
    "       * side-by-side inspection (linked 3d plots)\n",
    "\n",
    "  1. region extraction\n",
    "     * cf Iris docs : https://scitools-iris.readthedocs.io/en/stable/further_topics/ugrid/operations.html#region-extraction  \n",
    "       (expand the example code section)\n",
    "\n",
    "  1. working with connectivity (API)\n",
    "\n",
    "  1. regridding\n",
    "     * cf Iris docs : https://scitools-iris.readthedocs.io/en/stable/further_topics/ugrid/operations.html#regridding  \n",
    "       (expand the example code section)\n",
    "     * Iris support (extended existing features)\n",
    "     * iris-esmf-regrid\n",
    "\n",
    "  1. zonal means via regridding\n",
    "     * cf : https://iris-esmf-regrid.readthedocs.io/en/latest/_api_generated/esmf_regrid.experimental.unstructured_scheme.html#esmf_regrid.experimental.unstructured_scheme.MeshToGridESMFRegridder  \n",
    "       look at : `latitude`"
   ]
  },
  {
   "cell_type": "code",
   "execution_count": null,
   "id": "d3d77b76-90c0-4935-b667-c29a69dc4fe8",
   "metadata": {},
   "outputs": [],
   "source": []
  },
  {
   "cell_type": "code",
   "execution_count": null,
   "id": "b8346151-8bbc-4dd2-9aea-0f59a19151e1",
   "metadata": {},
   "outputs": [],
   "source": []
  }
 ],
 "metadata": {
  "kernelspec": {
   "display_name": "Python 3 (ipykernel)",
   "language": "python",
   "name": "python3"
  },
  "language_info": {
   "codemirror_mode": {
    "name": "ipython",
    "version": 3
   },
   "file_extension": ".py",
   "mimetype": "text/x-python",
   "name": "python",
   "nbconvert_exporter": "python",
   "pygments_lexer": "ipython3",
   "version": "3.9.15"
  }
 },
 "nbformat": 4,
 "nbformat_minor": 5
}
