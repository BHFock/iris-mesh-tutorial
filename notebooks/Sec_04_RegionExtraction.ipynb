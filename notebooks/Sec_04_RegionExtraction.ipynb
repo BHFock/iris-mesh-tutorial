{
 "cells": [
  {
   "cell_type": "markdown",
   "id": "f3ece436-9fe8-4e3f-9dd1-990c82c3efdd",
   "metadata": {},
   "source": [
    "# Section 4 : Extracting a region from a mesh\n",
    "\n",
    "This process is considerably more involved than with \"structured\" data like UM.\n",
    "\n",
    "For instance, UM data has data and coordinates with X and Y dimensions, corresponding to cell indices in the model arrays, and longitudes and latitudes of cells on the globe.  \n",
    "Therefore, we can slice out a rectangular range of X and Y indices, e.g. `my_datacube[..., 10:40, 4:77]` and the result is some contiguous region of the globe within a defined range of latitude+longitude.\n",
    "\n",
    "However, the unstructured mesh does not visit locations on the globe in any particular, simple regular pattern.  So crucially, a slice of data from the (now 1-D) arrays is not a contiguous geographical region.  And conversely a contiguous region of the data is generally not contained in a contiguous range of data indices.  \n",
    "( *TODO: picture of this ?* )\n",
    "\n",
    "So we must use geographical calculations to extract mesh data within a required region.  \n",
    "Since this is a geographical concept, Geovista provides support for it.\n",
    "\n",
    "Here's an example of how to extract the mesh falling within a defined lat-lon region ...  \n",
    "**NOTE: as with the plotting example, there are no Iris utility functions for this, so a fair amount of user code is currently required to mediate between the Iris and Geovista/PyVista worlds.**"
   ]
  },
  {
   "cell_type": "markdown",
   "id": "3a175eb0-8956-4754-ac89-f554250afd7f",
   "metadata": {},
   "source": [
    "---\n",
    "\n",
    "**First, import the utility function `lfric_rh_datacube` from `testdata_fetching`, and call it to get a global LFRic test cube.**"
   ]
  },
  {
   "cell_type": "code",
   "execution_count": 1,
   "id": "0d189559-f75e-4872-a4bb-6509393c4394",
   "metadata": {},
   "outputs": [
    {
     "data": {
      "text/html": [
       "\n",
       "<style>\n",
       "  a.iris {\n",
       "      text-decoration: none !important;\n",
       "  }\n",
       "  table.iris {\n",
       "      white-space: pre;\n",
       "      border: 1px solid;\n",
       "      border-color: #9c9c9c;\n",
       "      font-family: monaco, monospace;\n",
       "  }\n",
       "  th.iris {\n",
       "      background: #303f3f;\n",
       "      color: #e0e0e0;\n",
       "      border-left: 1px solid;\n",
       "      border-color: #9c9c9c;\n",
       "      font-size: 1.05em;\n",
       "      min-width: 50px;\n",
       "      max-width: 125px;\n",
       "  }\n",
       "  tr.iris :first-child {\n",
       "      border-right: 1px solid #9c9c9c !important;\n",
       "  }\n",
       "  td.iris-title {\n",
       "      background: #d5dcdf;\n",
       "      border-top: 1px solid #9c9c9c;\n",
       "      font-weight: bold;\n",
       "  }\n",
       "  .iris-word-cell {\n",
       "      text-align: left !important;\n",
       "      white-space: pre;\n",
       "  }\n",
       "  .iris-subheading-cell {\n",
       "      padding-left: 2em !important;\n",
       "  }\n",
       "  .iris-inclusion-cell {\n",
       "      padding-right: 1em !important;\n",
       "  }\n",
       "  .iris-panel-body {\n",
       "      padding-top: 0px;\n",
       "  }\n",
       "  .iris-panel-title {\n",
       "      padding-left: 3em;\n",
       "  }\n",
       "  .iris-panel-title {\n",
       "      margin-top: 7px;\n",
       "  }\n",
       "</style>\n",
       "<table class=\"iris\" id=\"140531290378784\">\n",
       "    <tr class=\"iris\">\n",
       "<th class=\"iris iris-word-cell\">Relative Humidity At Screen Level (1)</th>\n",
       "<th class=\"iris iris-word-cell\">--</th>\n",
       "</tr>\n",
       "    <tr class=\"iris\">\n",
       "<td class=\"iris-word-cell iris-subheading-cell\">Shape</td>\n",
       "<td class=\"iris iris-inclusion-cell\">221184</td>\n",
       "</tr>\n",
       "    <tr class=\"iris\">\n",
       "    <td class=\"iris-title iris-word-cell\">Mesh coordinates</td>\n",
       "    <td class=\"iris-title\"></td>\n",
       "</tr>\n",
       "<tr class=\"iris\">\n",
       "    <td class=\"iris-word-cell iris-subheading-cell\">\tlatitude</td>\n",
       "    <td class=\"iris-inclusion-cell\">x</td>\n",
       "</tr>\n",
       "<tr class=\"iris\">\n",
       "    <td class=\"iris-word-cell iris-subheading-cell\">\tlongitude</td>\n",
       "    <td class=\"iris-inclusion-cell\">x</td>\n",
       "</tr>\n",
       "<tr class=\"iris\">\n",
       "    <td class=\"iris-title iris-word-cell\">Mesh</td>\n",
       "    <td class=\"iris-title\"></td>\n",
       "</tr>\n",
       "<tr class=\"iris\">\n",
       "    <td class=\"iris-word-cell iris-subheading-cell\">\tname</td>\n",
       "    <td class=\"iris-word-cell\" colspan=\"1\">Topology data of 2D unstructured mesh</td>\n",
       "</tr>\n",
       "<tr class=\"iris\">\n",
       "    <td class=\"iris-word-cell iris-subheading-cell\">\tlocation</td>\n",
       "    <td class=\"iris-word-cell\" colspan=\"1\">face</td>\n",
       "</tr>\n",
       "<tr class=\"iris\">\n",
       "    <td class=\"iris-title iris-word-cell\">Scalar coordinates</td>\n",
       "    <td class=\"iris-title\"></td>\n",
       "</tr>\n",
       "<tr class=\"iris\">\n",
       "    <td class=\"iris-word-cell iris-subheading-cell\">\tforecast_period</td>\n",
       "    <td class=\"iris-word-cell\" colspan=\"1\">21600 seconds</td>\n",
       "</tr>\n",
       "<tr class=\"iris\">\n",
       "    <td class=\"iris-word-cell iris-subheading-cell\">\tforecast_reference_time</td>\n",
       "    <td class=\"iris-word-cell\" colspan=\"1\">2021-03-24 00:00:00</td>\n",
       "</tr>\n",
       "<tr class=\"iris\">\n",
       "    <td class=\"iris-word-cell iris-subheading-cell\">\ttime</td>\n",
       "    <td class=\"iris-word-cell\" colspan=\"1\">2021-03-24 06:00:00</td>\n",
       "</tr>\n",
       "<tr class=\"iris\">\n",
       "    <td class=\"iris-title iris-word-cell\">Cell methods</td>\n",
       "    <td class=\"iris-title\"></td>\n",
       "</tr>\n",
       "<tr class=\"iris\">\n",
       "    <td class=\"iris-word-cell iris-subheading-cell\">\tpoint</td>\n",
       "    <td class=\"iris-word-cell\" colspan=\"1\">time</td>\n",
       "</tr>\n",
       "<tr class=\"iris\">\n",
       "    <td class=\"iris-title iris-word-cell\">Attributes</td>\n",
       "    <td class=\"iris-title\"></td>\n",
       "</tr>\n",
       "<tr class=\"iris\">\n",
       "    <td class=\"iris-word-cell iris-subheading-cell\">\tConventions</td>\n",
       "    <td class=\"iris-word-cell\" colspan=\"1\">&#x27;CF-1.7&#x27;</td>\n",
       "</tr>\n",
       "<tr class=\"iris\">\n",
       "    <td class=\"iris-word-cell iris-subheading-cell\">\tdescription</td>\n",
       "    <td class=\"iris-word-cell\" colspan=\"1\">&#x27;Created by xios&#x27;</td>\n",
       "</tr>\n",
       "<tr class=\"iris\">\n",
       "    <td class=\"iris-word-cell iris-subheading-cell\">\tinterval_operation</td>\n",
       "    <td class=\"iris-word-cell\" colspan=\"1\">&#x27;6 h&#x27;</td>\n",
       "</tr>\n",
       "<tr class=\"iris\">\n",
       "    <td class=\"iris-word-cell iris-subheading-cell\">\tinterval_write</td>\n",
       "    <td class=\"iris-word-cell\" colspan=\"1\">&#x27;6 h&#x27;</td>\n",
       "</tr>\n",
       "<tr class=\"iris\">\n",
       "    <td class=\"iris-word-cell iris-subheading-cell\">\tonline_operation</td>\n",
       "    <td class=\"iris-word-cell\" colspan=\"1\">&#x27;instant&#x27;</td>\n",
       "</tr>\n",
       "<tr class=\"iris\">\n",
       "    <td class=\"iris-word-cell iris-subheading-cell\">\ttitle</td>\n",
       "    <td class=\"iris-word-cell\" colspan=\"1\">&#x27;Created by xios&#x27;</td>\n",
       "</tr>\n",
       "</table>\n",
       "        "
      ],
      "text/plain": [
       "<iris 'Cube' of relative_humidity_at_screen_level / (1) (-- : 221184)>"
      ]
     },
     "execution_count": 1,
     "metadata": {},
     "output_type": "execute_result"
    }
   ],
   "source": [
    "from testdata_fetching import lfric_rh_singletime_2d\n",
    "lfric_rh = lfric_rh_singletime_2d()\n",
    "lfric_rh"
   ]
  },
  {
   "cell_type": "markdown",
   "id": "fe96bfb8-1dda-43ef-83bc-8e06c360e6bd",
   "metadata": {},
   "source": [
    "---\n",
    "\n",
    "**Create a Polydata object from this.**  \n",
    "Use the routine `pv_from_lfric_cube` from the package `pv_conversions`, which we used in the plotting section."
   ]
  },
  {
   "cell_type": "code",
   "execution_count": 3,
   "id": "db0280ff-3ebd-42c9-a9eb-8f9c8117eeee",
   "metadata": {},
   "outputs": [],
   "source": [
    "from pv_conversions import pv_from_lfric_cube\n",
    "pv_global_rh = pv_from_lfric_cube(lfric_rh)"
   ]
  },
  {
   "cell_type": "markdown",
   "id": "d9ee71c7-e3cc-4479-aea9-2972c0424bd5",
   "metadata": {},
   "source": [
    "---\n",
    "\n",
    "Now we will create a tool to extract over a desired region."
   ]
  },
  {
   "cell_type": "markdown",
   "id": "9b3b61bc-d827-4faf-93ee-637a020cd496",
   "metadata": {},
   "source": [
    "**Import the class `BBox` from `geovista.geodesic`, and make one...**  "
   ]
  },
  {
   "cell_type": "code",
   "execution_count": 4,
   "id": "2e7b1bd1-f126-4900-a8bc-a56e4c98dca6",
   "metadata": {},
   "outputs": [],
   "source": [
    "from geovista.geodesic import BBox"
   ]
  },
  {
   "cell_type": "markdown",
   "id": "01602100-f556-475a-a470-f7459a04371a",
   "metadata": {},
   "source": [
    "Note: the name here is short for \"Bounding Box\".\n",
    "\n",
    "**Use the notebook \"?\" command to display the function signature of its constructor : `?BBox.__init__`**"
   ]
  },
  {
   "cell_type": "code",
   "execution_count": 5,
   "id": "c914e991-5400-4912-9771-db367b9058f8",
   "metadata": {},
   "outputs": [
    {
     "data": {
      "text/plain": [
       "\u001b[0;31mSignature:\u001b[0m\n",
       "\u001b[0mBBox\u001b[0m\u001b[0;34m.\u001b[0m\u001b[0m__init__\u001b[0m\u001b[0;34m(\u001b[0m\u001b[0;34m\u001b[0m\n",
       "\u001b[0;34m\u001b[0m    \u001b[0mself\u001b[0m\u001b[0;34m,\u001b[0m\u001b[0;34m\u001b[0m\n",
       "\u001b[0;34m\u001b[0m    \u001b[0mlons\u001b[0m\u001b[0;34m:\u001b[0m \u001b[0mUnion\u001b[0m\u001b[0;34m[\u001b[0m\u001b[0mnumpy\u001b[0m\u001b[0;34m.\u001b[0m\u001b[0m__array_like\u001b[0m\u001b[0;34m.\u001b[0m\u001b[0m_SupportsArray\u001b[0m\u001b[0;34m[\u001b[0m\u001b[0mnumpy\u001b[0m\u001b[0;34m.\u001b[0m\u001b[0mdtype\u001b[0m\u001b[0;34m]\u001b[0m\u001b[0;34m,\u001b[0m \u001b[0mnumpy\u001b[0m\u001b[0;34m.\u001b[0m\u001b[0m__nested_sequence\u001b[0m\u001b[0;34m.\u001b[0m\u001b[0m_NestedSequence\u001b[0m\u001b[0;34m[\u001b[0m\u001b[0mnumpy\u001b[0m\u001b[0;34m.\u001b[0m\u001b[0m__array_like\u001b[0m\u001b[0;34m.\u001b[0m\u001b[0m_SupportsArray\u001b[0m\u001b[0;34m[\u001b[0m\u001b[0mnumpy\u001b[0m\u001b[0;34m.\u001b[0m\u001b[0mdtype\u001b[0m\u001b[0;34m]\u001b[0m\u001b[0;34m]\u001b[0m\u001b[0;34m,\u001b[0m \u001b[0mbool\u001b[0m\u001b[0;34m,\u001b[0m \u001b[0mint\u001b[0m\u001b[0;34m,\u001b[0m \u001b[0mfloat\u001b[0m\u001b[0;34m,\u001b[0m \u001b[0mcomplex\u001b[0m\u001b[0;34m,\u001b[0m \u001b[0mstr\u001b[0m\u001b[0;34m,\u001b[0m \u001b[0mbytes\u001b[0m\u001b[0;34m,\u001b[0m \u001b[0mnumpy\u001b[0m\u001b[0;34m.\u001b[0m\u001b[0m__nested_sequence\u001b[0m\u001b[0;34m.\u001b[0m\u001b[0m_NestedSequence\u001b[0m\u001b[0;34m[\u001b[0m\u001b[0mUnion\u001b[0m\u001b[0;34m[\u001b[0m\u001b[0mbool\u001b[0m\u001b[0;34m,\u001b[0m \u001b[0mint\u001b[0m\u001b[0;34m,\u001b[0m \u001b[0mfloat\u001b[0m\u001b[0;34m,\u001b[0m \u001b[0mcomplex\u001b[0m\u001b[0;34m,\u001b[0m \u001b[0mstr\u001b[0m\u001b[0;34m,\u001b[0m \u001b[0mbytes\u001b[0m\u001b[0;34m]\u001b[0m\u001b[0;34m]\u001b[0m\u001b[0;34m]\u001b[0m\u001b[0;34m,\u001b[0m\u001b[0;34m\u001b[0m\n",
       "\u001b[0;34m\u001b[0m    \u001b[0mlats\u001b[0m\u001b[0;34m:\u001b[0m \u001b[0mUnion\u001b[0m\u001b[0;34m[\u001b[0m\u001b[0mnumpy\u001b[0m\u001b[0;34m.\u001b[0m\u001b[0m__array_like\u001b[0m\u001b[0;34m.\u001b[0m\u001b[0m_SupportsArray\u001b[0m\u001b[0;34m[\u001b[0m\u001b[0mnumpy\u001b[0m\u001b[0;34m.\u001b[0m\u001b[0mdtype\u001b[0m\u001b[0;34m]\u001b[0m\u001b[0;34m,\u001b[0m \u001b[0mnumpy\u001b[0m\u001b[0;34m.\u001b[0m\u001b[0m__nested_sequence\u001b[0m\u001b[0;34m.\u001b[0m\u001b[0m_NestedSequence\u001b[0m\u001b[0;34m[\u001b[0m\u001b[0mnumpy\u001b[0m\u001b[0;34m.\u001b[0m\u001b[0m__array_like\u001b[0m\u001b[0;34m.\u001b[0m\u001b[0m_SupportsArray\u001b[0m\u001b[0;34m[\u001b[0m\u001b[0mnumpy\u001b[0m\u001b[0;34m.\u001b[0m\u001b[0mdtype\u001b[0m\u001b[0;34m]\u001b[0m\u001b[0;34m]\u001b[0m\u001b[0;34m,\u001b[0m \u001b[0mbool\u001b[0m\u001b[0;34m,\u001b[0m \u001b[0mint\u001b[0m\u001b[0;34m,\u001b[0m \u001b[0mfloat\u001b[0m\u001b[0;34m,\u001b[0m \u001b[0mcomplex\u001b[0m\u001b[0;34m,\u001b[0m \u001b[0mstr\u001b[0m\u001b[0;34m,\u001b[0m \u001b[0mbytes\u001b[0m\u001b[0;34m,\u001b[0m \u001b[0mnumpy\u001b[0m\u001b[0;34m.\u001b[0m\u001b[0m__nested_sequence\u001b[0m\u001b[0;34m.\u001b[0m\u001b[0m_NestedSequence\u001b[0m\u001b[0;34m[\u001b[0m\u001b[0mUnion\u001b[0m\u001b[0;34m[\u001b[0m\u001b[0mbool\u001b[0m\u001b[0;34m,\u001b[0m \u001b[0mint\u001b[0m\u001b[0;34m,\u001b[0m \u001b[0mfloat\u001b[0m\u001b[0;34m,\u001b[0m \u001b[0mcomplex\u001b[0m\u001b[0;34m,\u001b[0m \u001b[0mstr\u001b[0m\u001b[0;34m,\u001b[0m \u001b[0mbytes\u001b[0m\u001b[0;34m]\u001b[0m\u001b[0;34m]\u001b[0m\u001b[0;34m]\u001b[0m\u001b[0;34m,\u001b[0m\u001b[0;34m\u001b[0m\n",
       "\u001b[0;34m\u001b[0m    \u001b[0mellps\u001b[0m\u001b[0;34m:\u001b[0m \u001b[0mOptional\u001b[0m\u001b[0;34m[\u001b[0m\u001b[0mstr\u001b[0m\u001b[0;34m]\u001b[0m \u001b[0;34m=\u001b[0m \u001b[0;34m'WGS84'\u001b[0m\u001b[0;34m,\u001b[0m\u001b[0;34m\u001b[0m\n",
       "\u001b[0;34m\u001b[0m    \u001b[0mc\u001b[0m\u001b[0;34m:\u001b[0m \u001b[0mOptional\u001b[0m\u001b[0;34m[\u001b[0m\u001b[0mint\u001b[0m\u001b[0;34m]\u001b[0m \u001b[0;34m=\u001b[0m \u001b[0;36m256\u001b[0m\u001b[0;34m,\u001b[0m\u001b[0;34m\u001b[0m\n",
       "\u001b[0;34m\u001b[0m    \u001b[0mtriangulate\u001b[0m\u001b[0;34m:\u001b[0m \u001b[0mOptional\u001b[0m\u001b[0;34m[\u001b[0m\u001b[0mbool\u001b[0m\u001b[0;34m]\u001b[0m \u001b[0;34m=\u001b[0m \u001b[0;32mFalse\u001b[0m\u001b[0;34m,\u001b[0m\u001b[0;34m\u001b[0m\n",
       "\u001b[0;34m\u001b[0m\u001b[0;34m)\u001b[0m\u001b[0;34m\u001b[0m\u001b[0;34m\u001b[0m\u001b[0m\n",
       "\u001b[0;31mDocstring:\u001b[0m\n",
       "Create a 3D geodesic bounding-box for extracting an enclosed surface, lines\n",
       "or points.\n",
       "\n",
       "The bounding-box region is specified in terms of its four corners, in\n",
       "degrees of longitude and latitude. As the bounding-box is a geodesic, it\n",
       "can only ever at most enclose half of an ellipsoid.\n",
       "\n",
       "The geometry of the bounding-box may be specified as either an open or\n",
       "closed longitude/latitude geometry i.e., 4 or 5 longitude/latitude values.\n",
       "\n",
       "Parameters\n",
       "----------\n",
       "lons : ArrayLike\n",
       "    The longitudes (degrees) of the bounding-box, in the half-closed interval\n",
       "    [-180, 180). Note that, longitudes will be wrapped to this interval.\n",
       "lats : ArrayLike\n",
       "    The latitudes (degrees) of the bounding-box, in the closed interval [-90, 90].\n",
       "ellps : str, default=ELLIPSE\n",
       "    The ellipsoid for geodesic calculations. See :func:`pyproj.get_ellps_map`.\n",
       "c : float, default=BBOX_C\n",
       "    The bounding-box face geometry will contain ``c**2`` cells.\n",
       "triangulate : bool, default=False\n",
       "    Specify whether the bounding-box faces are triangulated.\n",
       "\n",
       "Notes\n",
       "-----\n",
       ".. versionadded:: 0.1.0\n",
       "\u001b[0;31mFile:\u001b[0m      /net/home/h05/itpp/git/geovista/src/geovista/geodesic.py\n",
       "\u001b[0;31mType:\u001b[0m      function"
      ]
     },
     "metadata": {},
     "output_type": "display_data"
    }
   ],
   "source": [
    "?BBox.__init__"
   ]
  },
  {
   "cell_type": "markdown",
   "id": "96e6e603-94c0-48c8-85d2-0f397bca9010",
   "metadata": {},
   "source": [
    "---\n",
    "\n",
    "**Create a BBox to specify a bounding rectangle in lat-lon space.**  \n",
    "Give it `lons` and `lats` arguments which specify the points of a bounding rectangle,\n",
    "in lat-lon space, from 0..70 in longitude and -24..+45 in latitude.  \n",
    "( *Note:* do ***not*** supply a duplicate 'end' point -- a closed loop is automatically generated. )"
   ]
  },
  {
   "cell_type": "code",
   "execution_count": 6,
   "id": "22f13977-864b-4c49-be0d-5d6e158bbd9e",
   "metadata": {},
   "outputs": [],
   "source": [
    "bbox = BBox(lons=[0, 70, 70, 0], lats=[-25, -25, 45, 45])"
   ]
  },
  {
   "cell_type": "markdown",
   "id": "32c47cdb-477d-4f0c-87e1-2f7c960163b3",
   "metadata": {},
   "source": [
    "---\n",
    "\n",
    "**Now \"apply\" the BBox to the global mesh data, by passing it to the `BBox.enclosed` method.**  \n",
    "And show the resulting object."
   ]
  },
  {
   "cell_type": "code",
   "execution_count": 7,
   "id": "c1c4cd2d-367d-4ddf-b6dc-ea99e9407139",
   "metadata": {},
   "outputs": [
    {
     "data": {
      "text/html": [
       "<table><tr><th>Header</th><th>Data Arrays</th></tr><tr><td>\n",
       "<table>\n",
       "<tr><th>PolyData</th><th>Information</th></tr>\n",
       "<tr><td>N Cells</td><td>27029</td></tr>\n",
       "<tr><td>N Points</td><td>27380</td></tr>\n",
       "<tr><td>N Strips</td><td>0</td></tr>\n",
       "<tr><td>X Bounds</td><td>2.370e-01, 1.000e+00</td></tr>\n",
       "<tr><td>Y Bounds</td><td>-8.181e-03, 9.415e-01</td></tr>\n",
       "<tr><td>Z Bounds</td><td>-5.033e-01, 7.787e-01</td></tr>\n",
       "<tr><td>N Arrays</td><td>5</td></tr>\n",
       "</table>\n",
       "\n",
       "</td><td>\n",
       "<table>\n",
       "<tr><th>Name</th><th>Field</th><th>Type</th><th>N Comp</th><th>Min</th><th>Max</th></tr>\n",
       "<tr><td>SelectedPoints</td><td>Points</td><td>uint8</td><td>1</td><td>0.000e+00</td><td>1.000e+00</td></tr>\n",
       "<tr><td><b>relative_humidity_at_screen_level</b></td><td>Cells</td><td>float64</td><td>1</td><td>2.368e+00</td><td>1.118e+02</td></tr>\n",
       "<tr><td>gvCRS</td><td>Fields</td><td><U821</td><td>1</td><td>nan</td><td>nan</td></tr>\n",
       "<tr><td>gvRadius</td><td>Fields</td><td>float64</td><td>1</td><td>1.000e+00</td><td>1.000e+00</td></tr>\n",
       "<tr><td>gvName</td><td>Fields</td><td><U33</td><td>1</td><td>nan</td><td>nan</td></tr>\n",
       "</table>\n",
       "\n",
       "</td></tr> </table>"
      ],
      "text/plain": [
       "PolyData (0x7fcfe604d9a0)\n",
       "  N Cells:\t27029\n",
       "  N Points:\t27380\n",
       "  N Strips:\t0\n",
       "  X Bounds:\t2.370e-01, 1.000e+00\n",
       "  Y Bounds:\t-8.181e-03, 9.415e-01\n",
       "  Z Bounds:\t-5.033e-01, 7.787e-01\n",
       "  N Arrays:\t5"
      ]
     },
     "execution_count": 7,
     "metadata": {},
     "output_type": "execute_result"
    }
   ],
   "source": [
    "# 'Apply' the region to the PolyData object.\n",
    "pv_regional_rh = bbox.enclosed(pv_global_rh)\n",
    "pv_regional_rh"
   ]
  },
  {
   "cell_type": "markdown",
   "id": "0df8fdde-bb55-400a-bd01-9683bf383c01",
   "metadata": {},
   "source": [
    "You can see that the new (regional) polydata has fewer cells than the original (global) one.\n",
    "\n",
    "**Now just plot this data.**  \n",
    "Note : it will be useful to add coastlines as a reference to this plot.  \n",
    "See \n",
    "\n",
    "<details><summary>Sample code solution  <b>click to reveal</b></summary>\n",
    "\n",
    "```python\n",
    "plotter = GeoVista.Plotter()\n",
    "plotter.add_coastlines()\n",
    "plotter.add_mesh(pv\n",
    "plotter.show()\n",
    "```\n",
    "</details>"
   ]
  },
  {
   "cell_type": "code",
   "execution_count": 12,
   "id": "98f9e436-ddf4-496f-a8a2-c05f66fb3a56",
   "metadata": {},
   "outputs": [
    {
     "data": {
      "application/vnd.jupyter.widget-view+json": {
       "model_id": "85e0376659954419b84ec14a26337d76",
       "version_major": 2,
       "version_minor": 0
      },
      "text/plain": [
       "ViewInteractiveWidget(height=768, layout=Layout(height='auto', width='100%'), width=1024)"
      ]
     },
     "metadata": {},
     "output_type": "display_data"
    }
   ],
   "source": [
    "# ... space for user code ...\n",
    "import geovista as gv\n",
    "plotter = gv.GeoPlotter()\n",
    "plotter.add_coastlines()\n",
    "plotter.add_mesh(pv_regional_rh)\n",
    "plotter.show()\n"
   ]
  },
  {
   "cell_type": "markdown",
   "id": "e87c5707-cb64-4d05-8e59-e1e8668e8ca2",
   "metadata": {},
   "source": [
    "**Now index the regional PolyData with `pv[\"vtkOriginalCellIds\"]`, to get an array of cell indexes**  \n",
    "and show the result."
   ]
  },
  {
   "cell_type": "code",
   "execution_count": 32,
   "id": "0aee31fa-1be4-498d-97cc-20267e1ba3cb",
   "metadata": {},
   "outputs": [
    {
     "data": {
      "text/plain": [
       "pyvista_ndarray([    95,     96,     97, ..., 184179, 184180, 184181])"
      ]
     },
     "execution_count": 32,
     "metadata": {},
     "output_type": "execute_result"
    }
   ],
   "source": [
    "# Get the remaining face indices, to use for indexing the Cube.\n",
    "region_indices = pv_regional_rh[\"vtkOriginalCellIds\"]\n",
    "region_indices"
   ]
  },
  {
   "cell_type": "markdown",
   "id": "8c3f341f-f33a-4c9e-93f0-bbce49517c00",
   "metadata": {},
   "source": [
    "**Note:** This shows the original cell indices of the cells which fall within the region.\n",
    "\n",
    "Now we can use these to select only those cell *from the Iris cube*.\n",
    "\n",
    "**Apply these cells as an index to the 'mesh dimension' of the original Iris lfric-rh cube**  \n",
    "and show that"
   ]
  },
  {
   "cell_type": "code",
   "execution_count": 52,
   "id": "cd812f99-73b3-4247-a975-a59bb49a42aa",
   "metadata": {},
   "outputs": [
    {
     "data": {
      "text/html": [
       "\n",
       "<style>\n",
       "  a.iris {\n",
       "      text-decoration: none !important;\n",
       "  }\n",
       "  table.iris {\n",
       "      white-space: pre;\n",
       "      border: 1px solid;\n",
       "      border-color: #9c9c9c;\n",
       "      font-family: monaco, monospace;\n",
       "  }\n",
       "  th.iris {\n",
       "      background: #303f3f;\n",
       "      color: #e0e0e0;\n",
       "      border-left: 1px solid;\n",
       "      border-color: #9c9c9c;\n",
       "      font-size: 1.05em;\n",
       "      min-width: 50px;\n",
       "      max-width: 125px;\n",
       "  }\n",
       "  tr.iris :first-child {\n",
       "      border-right: 1px solid #9c9c9c !important;\n",
       "  }\n",
       "  td.iris-title {\n",
       "      background: #d5dcdf;\n",
       "      border-top: 1px solid #9c9c9c;\n",
       "      font-weight: bold;\n",
       "  }\n",
       "  .iris-word-cell {\n",
       "      text-align: left !important;\n",
       "      white-space: pre;\n",
       "  }\n",
       "  .iris-subheading-cell {\n",
       "      padding-left: 2em !important;\n",
       "  }\n",
       "  .iris-inclusion-cell {\n",
       "      padding-right: 1em !important;\n",
       "  }\n",
       "  .iris-panel-body {\n",
       "      padding-top: 0px;\n",
       "  }\n",
       "  .iris-panel-title {\n",
       "      padding-left: 3em;\n",
       "  }\n",
       "  .iris-panel-title {\n",
       "      margin-top: 7px;\n",
       "  }\n",
       "</style>\n",
       "<table class=\"iris\" id=\"139923659514544\">\n",
       "    <tr class=\"iris\">\n",
       "<th class=\"iris iris-word-cell\">Relative Humidity At Screen Level (1)</th>\n",
       "<th class=\"iris iris-word-cell\">--</th>\n",
       "</tr>\n",
       "    <tr class=\"iris\">\n",
       "<td class=\"iris-word-cell iris-subheading-cell\">Shape</td>\n",
       "<td class=\"iris iris-inclusion-cell\">27029</td>\n",
       "</tr>\n",
       "    <tr class=\"iris\">\n",
       "    <td class=\"iris-title iris-word-cell\">Auxiliary coordinates</td>\n",
       "    <td class=\"iris-title\"></td>\n",
       "</tr>\n",
       "<tr class=\"iris\">\n",
       "    <td class=\"iris-word-cell iris-subheading-cell\">\tlatitude</td>\n",
       "    <td class=\"iris-inclusion-cell\">x</td>\n",
       "</tr>\n",
       "<tr class=\"iris\">\n",
       "    <td class=\"iris-word-cell iris-subheading-cell\">\tlongitude</td>\n",
       "    <td class=\"iris-inclusion-cell\">x</td>\n",
       "</tr>\n",
       "<tr class=\"iris\">\n",
       "    <td class=\"iris-title iris-word-cell\">Scalar coordinates</td>\n",
       "    <td class=\"iris-title\"></td>\n",
       "</tr>\n",
       "<tr class=\"iris\">\n",
       "    <td class=\"iris-word-cell iris-subheading-cell\">\tforecast_period</td>\n",
       "    <td class=\"iris-word-cell\" colspan=\"1\">21600 seconds</td>\n",
       "</tr>\n",
       "<tr class=\"iris\">\n",
       "    <td class=\"iris-word-cell iris-subheading-cell\">\tforecast_reference_time</td>\n",
       "    <td class=\"iris-word-cell\" colspan=\"1\">2021-03-24 00:00:00</td>\n",
       "</tr>\n",
       "<tr class=\"iris\">\n",
       "    <td class=\"iris-word-cell iris-subheading-cell\">\ttime</td>\n",
       "    <td class=\"iris-word-cell\" colspan=\"1\">2021-03-24 06:00:00</td>\n",
       "</tr>\n",
       "<tr class=\"iris\">\n",
       "    <td class=\"iris-title iris-word-cell\">Cell methods</td>\n",
       "    <td class=\"iris-title\"></td>\n",
       "</tr>\n",
       "<tr class=\"iris\">\n",
       "    <td class=\"iris-word-cell iris-subheading-cell\">\tpoint</td>\n",
       "    <td class=\"iris-word-cell\" colspan=\"1\">time</td>\n",
       "</tr>\n",
       "<tr class=\"iris\">\n",
       "    <td class=\"iris-title iris-word-cell\">Attributes</td>\n",
       "    <td class=\"iris-title\"></td>\n",
       "</tr>\n",
       "<tr class=\"iris\">\n",
       "    <td class=\"iris-word-cell iris-subheading-cell\">\tConventions</td>\n",
       "    <td class=\"iris-word-cell\" colspan=\"1\">&#x27;CF-1.7&#x27;</td>\n",
       "</tr>\n",
       "<tr class=\"iris\">\n",
       "    <td class=\"iris-word-cell iris-subheading-cell\">\tdescription</td>\n",
       "    <td class=\"iris-word-cell\" colspan=\"1\">&#x27;Created by xios&#x27;</td>\n",
       "</tr>\n",
       "<tr class=\"iris\">\n",
       "    <td class=\"iris-word-cell iris-subheading-cell\">\tinterval_operation</td>\n",
       "    <td class=\"iris-word-cell\" colspan=\"1\">&#x27;6 h&#x27;</td>\n",
       "</tr>\n",
       "<tr class=\"iris\">\n",
       "    <td class=\"iris-word-cell iris-subheading-cell\">\tinterval_write</td>\n",
       "    <td class=\"iris-word-cell\" colspan=\"1\">&#x27;6 h&#x27;</td>\n",
       "</tr>\n",
       "<tr class=\"iris\">\n",
       "    <td class=\"iris-word-cell iris-subheading-cell\">\tonline_operation</td>\n",
       "    <td class=\"iris-word-cell\" colspan=\"1\">&#x27;instant&#x27;</td>\n",
       "</tr>\n",
       "<tr class=\"iris\">\n",
       "    <td class=\"iris-word-cell iris-subheading-cell\">\ttitle</td>\n",
       "    <td class=\"iris-word-cell\" colspan=\"1\">&#x27;Created by xios&#x27;</td>\n",
       "</tr>\n",
       "</table>\n",
       "        "
      ],
      "text/plain": [
       "<iris 'Cube' of relative_humidity_at_screen_level / (1) (-- : 27029)>"
      ]
     },
     "execution_count": 52,
     "metadata": {},
     "output_type": "execute_result"
    }
   ],
   "source": [
    "lfric_rh_region = lfric_rh[..., region_indices]\n",
    "lfric_rh_region"
   ]
  },
  {
   "cell_type": "markdown",
   "id": "6d102893-e661-412d-a7c1-5de9964ce72c",
   "metadata": {},
   "source": [
    "This cube contains the mesh data within our selected region.\n",
    "\n",
    "However, there is a catch here :  Once indexed, our cube ***no longer has a mesh***.  \n",
    "You can see this in the printout, which lists \"Auxiliary coordinates\" but no \"Mesh coordinates\".\n",
    "This problem will probably be fixed in future.  See [here in the Iris docs](https://scitools-iris.readthedocs.io/en/latest/further_topics/ugrid/operations.html#region-extraction) for a discussion.\n",
    "\n",
    "For now, what we need to do is to re-create a mesh for the regional cube.\n",
    "We do that in a few steps ...\n",
    "\n",
    "---\n",
    "\n",
    "Step 1 : **Get the X and Y-axis coordinates from the region cube.**\n",
    "Use `Cube.coords('longitude')` etc."
   ]
  },
  {
   "cell_type": "code",
   "execution_count": 53,
   "id": "2d43b8c0-2a25-4dee-8610-c26438209eef",
   "metadata": {},
   "outputs": [],
   "source": [
    "x_coord = lfric_rh_region.coord('longitude')\n",
    "y_coord = lfric_rh_region.coord('latitude')"
   ]
  },
  {
   "cell_type": "markdown",
   "id": "387b22d4-78c9-4c88-a320-9c8d4be8e1fb",
   "metadata": {},
   "source": [
    "Step 2 : **Create a new `iris.experimental.ugrid.Mesh`-class object, passing the X,Y coords as arguments**"
   ]
  },
  {
   "cell_type": "code",
   "execution_count": 54,
   "id": "d6b2345b-1cca-4f2e-8cc7-c5ab9fc6aab9",
   "metadata": {},
   "outputs": [],
   "source": [
    "from iris.experimental.ugrid.mesh import Mesh\n",
    "mesh = Mesh.from_coords(x_coord, y_coord)"
   ]
  },
  {
   "cell_type": "markdown",
   "id": "be9af3e5-ba74-4ab0-9a52-bf80a50a6334",
   "metadata": {},
   "source": [
    "( Step 2a : **`print()` the Mesh object**  \n",
    "Note : `Mesh` does not provide a notebook display method.  \n",
    ")"
   ]
  },
  {
   "cell_type": "code",
   "execution_count": 55,
   "id": "12e8fba7-2f5b-43c9-a95a-0c487364678c",
   "metadata": {},
   "outputs": [
    {
     "name": "stdout",
     "output_type": "stream",
     "text": [
      "Mesh : 'unknown'\n",
      "    topology_dimension: 2\n",
      "    node\n",
      "        node_dimension: 'Mesh2d_node'\n",
      "        node coordinates\n",
      "            <AuxCoord: longitude / (degrees)  <lazy>  shape(108116,)>\n",
      "            <AuxCoord: latitude / (degrees)  <lazy>  shape(108116,)>\n",
      "    face\n",
      "        face_dimension: 'Mesh2d_face'\n",
      "        face_node_connectivity: <Connectivity: unknown / (unknown)  <lazy>  shape(27029, 4)>\n",
      "        face coordinates\n",
      "            <AuxCoord: longitude / (degrees)  <lazy>  shape(27029,)>\n",
      "            <AuxCoord: latitude / (degrees)  <lazy>  shape(27029,)>\n"
     ]
    }
   ],
   "source": [
    "print(mesh)"
   ]
  },
  {
   "cell_type": "markdown",
   "id": "767e4c6c-4665-4e58-9bb2-8b1a7ea8749a",
   "metadata": {},
   "source": [
    "---\n",
    "Step 3 : **call `Mesh.to_MeshCoords` to create a pair of `MeshCoord`s containing this mesh**  \n",
    "Note : you must specify the keyword `location=\"face\"` :  This matches the data location of the original data -- i.e. the data cells are faces."
   ]
  },
  {
   "cell_type": "code",
   "execution_count": 56,
   "id": "8c84b276-36b7-435f-a4da-7e8fbf104d8d",
   "metadata": {},
   "outputs": [
    {
     "data": {
      "text/plain": [
       "(<MeshCoord: longitude / (degrees)  mesh(<Mesh object at 0x7f427f7821c0>) location(face)  <lazy>+bounds  shape(27029,)>,\n",
       " <MeshCoord: latitude / (degrees)  mesh(<Mesh object at 0x7f427f7821c0>) location(face)  <lazy>+bounds  shape(27029,)>)"
      ]
     },
     "execution_count": 56,
     "metadata": {},
     "output_type": "execute_result"
    }
   ],
   "source": [
    "mesh_coords = mesh.to_MeshCoords(location=\"face\")\n",
    "mesh_coords"
   ]
  },
  {
   "cell_type": "markdown",
   "id": "365ca473-5e01-4e3d-9731-6309362dd07a",
   "metadata": {},
   "source": [
    "---\n",
    "Step 4 : (finally!!)  \n",
    "**Use `Cube.remove_coord` and `Cube.add_aux_coord` to replace each AuxCoord with its corresponding `MeshCoord` from the previous step.** Note : for 'add_aux_coord', you also need to specify the relevant cube dimension(s) : See [`Cube.add_aux_coord` in the Iris docs](https://scitools-iris.readthedocs.io/en/latest/generated/api/iris/cube.html?highlight=add_aux_coord#iris.cube.Cube.add_aux_coord)  \n",
    "\n",
    "And show the cube .."
   ]
  },
  {
   "cell_type": "code",
   "execution_count": 57,
   "id": "184b796b-9e1e-40d3-8b88-d086c2093c58",
   "metadata": {},
   "outputs": [],
   "source": [
    "lfric_rh_region.remove_coord('longitude')"
   ]
  },
  {
   "cell_type": "code",
   "execution_count": 58,
   "id": "6ee58d1d-d67d-4241-8113-e260ae07c4bf",
   "metadata": {},
   "outputs": [],
   "source": [
    "lfric_rh_region.remove_coord('latitude')"
   ]
  },
  {
   "cell_type": "code",
   "execution_count": 62,
   "id": "4b1c7d7f-18b3-44f3-bf89-688e2e60658d",
   "metadata": {},
   "outputs": [
    {
     "data": {
      "text/html": [
       "\n",
       "<style>\n",
       "  a.iris {\n",
       "      text-decoration: none !important;\n",
       "  }\n",
       "  table.iris {\n",
       "      white-space: pre;\n",
       "      border: 1px solid;\n",
       "      border-color: #9c9c9c;\n",
       "      font-family: monaco, monospace;\n",
       "  }\n",
       "  th.iris {\n",
       "      background: #303f3f;\n",
       "      color: #e0e0e0;\n",
       "      border-left: 1px solid;\n",
       "      border-color: #9c9c9c;\n",
       "      font-size: 1.05em;\n",
       "      min-width: 50px;\n",
       "      max-width: 125px;\n",
       "  }\n",
       "  tr.iris :first-child {\n",
       "      border-right: 1px solid #9c9c9c !important;\n",
       "  }\n",
       "  td.iris-title {\n",
       "      background: #d5dcdf;\n",
       "      border-top: 1px solid #9c9c9c;\n",
       "      font-weight: bold;\n",
       "  }\n",
       "  .iris-word-cell {\n",
       "      text-align: left !important;\n",
       "      white-space: pre;\n",
       "  }\n",
       "  .iris-subheading-cell {\n",
       "      padding-left: 2em !important;\n",
       "  }\n",
       "  .iris-inclusion-cell {\n",
       "      padding-right: 1em !important;\n",
       "  }\n",
       "  .iris-panel-body {\n",
       "      padding-top: 0px;\n",
       "  }\n",
       "  .iris-panel-title {\n",
       "      padding-left: 3em;\n",
       "  }\n",
       "  .iris-panel-title {\n",
       "      margin-top: 7px;\n",
       "  }\n",
       "</style>\n",
       "<table class=\"iris\" id=\"139923659514544\">\n",
       "    <tr class=\"iris\">\n",
       "<th class=\"iris iris-word-cell\">Relative Humidity At Screen Level (1)</th>\n",
       "<th class=\"iris iris-word-cell\">--</th>\n",
       "</tr>\n",
       "    <tr class=\"iris\">\n",
       "<td class=\"iris-word-cell iris-subheading-cell\">Shape</td>\n",
       "<td class=\"iris iris-inclusion-cell\">27029</td>\n",
       "</tr>\n",
       "    <tr class=\"iris\">\n",
       "    <td class=\"iris-title iris-word-cell\">Mesh coordinates</td>\n",
       "    <td class=\"iris-title\"></td>\n",
       "</tr>\n",
       "<tr class=\"iris\">\n",
       "    <td class=\"iris-word-cell iris-subheading-cell\">\tlatitude</td>\n",
       "    <td class=\"iris-inclusion-cell\">x</td>\n",
       "</tr>\n",
       "<tr class=\"iris\">\n",
       "    <td class=\"iris-word-cell iris-subheading-cell\">\tlongitude</td>\n",
       "    <td class=\"iris-inclusion-cell\">x</td>\n",
       "</tr>\n",
       "<tr class=\"iris\">\n",
       "    <td class=\"iris-title iris-word-cell\">Mesh</td>\n",
       "    <td class=\"iris-title\"></td>\n",
       "</tr>\n",
       "<tr class=\"iris\">\n",
       "    <td class=\"iris-word-cell iris-subheading-cell\">\tname</td>\n",
       "    <td class=\"iris-word-cell\" colspan=\"1\">unknown</td>\n",
       "</tr>\n",
       "<tr class=\"iris\">\n",
       "    <td class=\"iris-word-cell iris-subheading-cell\">\tlocation</td>\n",
       "    <td class=\"iris-word-cell\" colspan=\"1\">face</td>\n",
       "</tr>\n",
       "<tr class=\"iris\">\n",
       "    <td class=\"iris-title iris-word-cell\">Scalar coordinates</td>\n",
       "    <td class=\"iris-title\"></td>\n",
       "</tr>\n",
       "<tr class=\"iris\">\n",
       "    <td class=\"iris-word-cell iris-subheading-cell\">\tforecast_period</td>\n",
       "    <td class=\"iris-word-cell\" colspan=\"1\">21600 seconds</td>\n",
       "</tr>\n",
       "<tr class=\"iris\">\n",
       "    <td class=\"iris-word-cell iris-subheading-cell\">\tforecast_reference_time</td>\n",
       "    <td class=\"iris-word-cell\" colspan=\"1\">2021-03-24 00:00:00</td>\n",
       "</tr>\n",
       "<tr class=\"iris\">\n",
       "    <td class=\"iris-word-cell iris-subheading-cell\">\ttime</td>\n",
       "    <td class=\"iris-word-cell\" colspan=\"1\">2021-03-24 06:00:00</td>\n",
       "</tr>\n",
       "<tr class=\"iris\">\n",
       "    <td class=\"iris-title iris-word-cell\">Cell methods</td>\n",
       "    <td class=\"iris-title\"></td>\n",
       "</tr>\n",
       "<tr class=\"iris\">\n",
       "    <td class=\"iris-word-cell iris-subheading-cell\">\tpoint</td>\n",
       "    <td class=\"iris-word-cell\" colspan=\"1\">time</td>\n",
       "</tr>\n",
       "<tr class=\"iris\">\n",
       "    <td class=\"iris-title iris-word-cell\">Attributes</td>\n",
       "    <td class=\"iris-title\"></td>\n",
       "</tr>\n",
       "<tr class=\"iris\">\n",
       "    <td class=\"iris-word-cell iris-subheading-cell\">\tConventions</td>\n",
       "    <td class=\"iris-word-cell\" colspan=\"1\">&#x27;CF-1.7&#x27;</td>\n",
       "</tr>\n",
       "<tr class=\"iris\">\n",
       "    <td class=\"iris-word-cell iris-subheading-cell\">\tdescription</td>\n",
       "    <td class=\"iris-word-cell\" colspan=\"1\">&#x27;Created by xios&#x27;</td>\n",
       "</tr>\n",
       "<tr class=\"iris\">\n",
       "    <td class=\"iris-word-cell iris-subheading-cell\">\tinterval_operation</td>\n",
       "    <td class=\"iris-word-cell\" colspan=\"1\">&#x27;6 h&#x27;</td>\n",
       "</tr>\n",
       "<tr class=\"iris\">\n",
       "    <td class=\"iris-word-cell iris-subheading-cell\">\tinterval_write</td>\n",
       "    <td class=\"iris-word-cell\" colspan=\"1\">&#x27;6 h&#x27;</td>\n",
       "</tr>\n",
       "<tr class=\"iris\">\n",
       "    <td class=\"iris-word-cell iris-subheading-cell\">\tonline_operation</td>\n",
       "    <td class=\"iris-word-cell\" colspan=\"1\">&#x27;instant&#x27;</td>\n",
       "</tr>\n",
       "<tr class=\"iris\">\n",
       "    <td class=\"iris-word-cell iris-subheading-cell\">\ttitle</td>\n",
       "    <td class=\"iris-word-cell\" colspan=\"1\">&#x27;Created by xios&#x27;</td>\n",
       "</tr>\n",
       "</table>\n",
       "        "
      ],
      "text/plain": [
       "<iris 'Cube' of relative_humidity_at_screen_level / (1) (-- : 27029)>"
      ]
     },
     "execution_count": 62,
     "metadata": {},
     "output_type": "execute_result"
    }
   ],
   "source": [
    "xco, yco = mesh_coords\n",
    "\n",
    "lfric_rh_region.add_aux_coord(xco, 0)\n",
    "lfric_rh_region.add_aux_coord(yco, 0)\n",
    "\n",
    "# Result : a regional Mesh-Cube with a subset of the original faces.\n",
    "lfric_rh_region"
   ]
  },
  {
   "cell_type": "markdown",
   "id": "98494731-0cb2-4747-b370-4a54ef3ae273",
   "metadata": {},
   "source": [
    "Lastly, plot this to see what we get.\n",
    "\n",
    "The following steps ...\n",
    "  * create a PolyData from the regional cube with `pv_conversions.pv_from_lfric_cube`\n",
    "  * follow the steps shown in the Plotting section"
   ]
  },
  {
   "cell_type": "code",
   "execution_count": null,
   "id": "8fbf4066-7806-4bcb-9f06-d8e0c1a9414d",
   "metadata": {},
   "outputs": [],
   "source": [
    "pv = pv_from_lfric_cube(lfric_rh_region)\n",
    "from geovista import GeoPlotter\n",
    "plotter = GeoPlotter()\n",
    "plotter.add_mesh(pv)\n",
    "plotter.show()"
   ]
  },
  {
   "cell_type": "markdown",
   "id": "5b1b5c9b-1835-4fb9-81cd-0217cab7bed4",
   "metadata": {},
   "source": [
    "----\n",
    "\n",
    "**Investigation:** It is useful to add some extra background information to make this more visible.\n",
    "\n",
    "As a minimum you can use `plotter.add_coastlines()`.\n",
    "\n",
    "Another useful one is `plotter.add_base_layer()`\n",
    "**What does that do ?**"
   ]
  },
  {
   "cell_type": "code",
   "execution_count": null,
   "id": "b2c8eccc-c1cb-4af2-97dd-4c362f8f4d35",
   "metadata": {},
   "outputs": [],
   "source": [
    "plotter.add_coastlines()\n",
    "plotter.add_base_layer()\n",
    "plotter.show()\n"
   ]
  },
  {
   "cell_type": "markdown",
   "id": "d11f66da-232c-4e4b-afab-89bbd4a4cd6a",
   "metadata": {},
   "source": [
    "----\n",
    "\n",
    "**Investigation:** \n",
    "If you rotate the above images, you will see they don't behave liekt e\n",
    "\n",
    "As a minimum you can use `plotter.add_coastlines()`.\n",
    "\n",
    "Another useful one is `plotter.add_base_layer()`\n",
    "**What does that do ?**"
   ]
  },
  {
   "cell_type": "code",
   "execution_count": null,
   "id": "bc933dc1-267f-4705-a6c9-07ca320f2f1d",
   "metadata": {},
   "outputs": [],
   "source": []
  }
 ],
 "metadata": {
  "kernelspec": {
   "display_name": "Python 3 (ipykernel)",
   "language": "python",
   "name": "python3"
  },
  "language_info": {
   "codemirror_mode": {
    "name": "ipython",
    "version": 3
   },
   "file_extension": ".py",
   "mimetype": "text/x-python",
   "name": "python",
   "nbconvert_exporter": "python",
   "pygments_lexer": "ipython3",
   "version": "3.9.15"
  }
 },
 "nbformat": 4,
 "nbformat_minor": 5
}
