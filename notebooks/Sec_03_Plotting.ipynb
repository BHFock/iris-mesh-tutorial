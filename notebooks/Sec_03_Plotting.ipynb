{
 "cells": [
  {
   "cell_type": "markdown",
   "id": "b575ede6-8433-418a-bb04-949b0ea52abe",
   "metadata": {},
   "source": [
    "# Section 3 : 3d visualisation and plotting\n",
    "\n",
    "Schema :\n",
    "  * Introduce Geovista\n",
    "  * Explain context of 3D and \"traditional\" matplotlib-based plotting"
   ]
  },
  {
   "cell_type": "markdown",
   "id": "db2305c4-585a-46eb-9bd5-a68215ea3f63",
   "metadata": {},
   "source": [
    "## 3D visualisation\n",
    "\n",
    "While LFRic data can be presented in 2D plots with a map projection, it is often more profitable way to explore it with a 3D viewer.  \n",
    "\n",
    "There are a few reasons for this :\n",
    "  1. the LFRic model grid does not follow a 2d, lat-lon aligned structure (unlike UM)\n",
    "  2. LFRic data is now tending to be too large for matplotlib-style plotting (~6 million cells)\n"
   ]
  },
  {
   "cell_type": "code",
   "execution_count": 1,
   "id": "0b5b0263-6a04-468f-9102-97383238e368",
   "metadata": {
    "tags": []
   },
   "outputs": [],
   "source": [
    "# Essential setup\n",
    "# %matplotlib inline\n",
    "# import pyvista as pv\n",
    "# pv.rcParams[\"use_ipyvtk\"] = True"
   ]
  },
  {
   "cell_type": "markdown",
   "id": "1b88968a-e91c-470b-8b8e-f4333cae027e",
   "metadata": {},
   "source": [
    "## What Geovista is for\n",
    "\n",
    "  * **VTK** : highly mature 3D visualisation library (C++)\n",
    "  * **PyVista** : VTK for normal humans (in Python)\n",
    "  * **Geovista** : geolocation for PyVista\n",
    "     * map projections + transforms\n",
    "     * geolocated data and regions\n",
    "     * coastlines\n",
    "\n"
   ]
  },
  {
   "cell_type": "code",
   "execution_count": 3,
   "id": "9add492c-2a5a-4f59-ab8b-80f8f8fac8db",
   "metadata": {},
   "outputs": [],
   "source": [
    "# Import things from Geovista\n",
    "import geovista as gv"
   ]
  },
  {
   "cell_type": "code",
   "execution_count": 4,
   "id": "09c1686e-e950-4587-a736-b4ecd1022b97",
   "metadata": {},
   "outputs": [],
   "source": [
    "# Copied from : https://github.com/bjlittle/geovista/blob/main/src/geovista/examples/from_2d__orca.py\n",
    "from geovista.pantry import um_orca2\n",
    "\n",
    "sample = um_orca2()"
   ]
  },
  {
   "cell_type": "code",
   "execution_count": 5,
   "id": "90a0ff98-d0d3-41e8-bb79-8943b7210546",
   "metadata": {},
   "outputs": [
    {
     "data": {
      "text/plain": [
       "(148, 180, 4)"
      ]
     },
     "execution_count": 5,
     "metadata": {},
     "output_type": "execute_result"
    }
   ],
   "source": [
    "sample.lats.shape"
   ]
  },
  {
   "cell_type": "code",
   "execution_count": 6,
   "id": "f6941576-760c-4d22-b0b7-4227e384ea1a",
   "metadata": {},
   "outputs": [],
   "source": [
    "# Handy routine\n",
    "import display_demo_routines\n",
    "from importlib import reload\n",
    "reload(display_demo_routines)\n",
    "\n",
    "from display_demo_routines import popup_2d_data_xx_yy\n"
   ]
  },
  {
   "cell_type": "markdown",
   "id": "4103669b-bf62-47c3-9392-645477453e74",
   "metadata": {},
   "source": [
    "## Geovista basic demo : an interactive plot of ocean data"
   ]
  },
  {
   "cell_type": "code",
   "execution_count": 7,
   "id": "bf6d26c5-3363-4cc6-aa3a-c91e4cd48319",
   "metadata": {},
   "outputs": [
    {
     "data": {
      "application/vnd.jupyter.widget-view+json": {
       "model_id": "15237c3ce1424cbba798e00566afc105",
       "version_major": 2,
       "version_minor": 0
      },
      "text/plain": [
       "ViewInteractiveWidget(height=768, layout=Layout(height='auto', width='100%'), width=1024)"
      ]
     },
     "metadata": {},
     "output_type": "display_data"
    }
   ],
   "source": [
    "popup_2d_data_xx_yy(sample, \"ORCA test data\")"
   ]
  },
  {
   "cell_type": "markdown",
   "id": "13d0d7a8-2784-4873-bac1-31214e91ce86",
   "metadata": {},
   "source": [
    "**NOTE**\n",
    "  * Geovista is not Iris-dependent\n",
    "  * Iris does not (yet) fully integrate Geovista\n",
    "  * .. therefore user code is currently needed to bridge the two\n",
    "  * .. **but** the gap is fairly small, and this makes Geovista more generally useful\n",
    "\n",
    "\n"
   ]
  },
  {
   "cell_type": "markdown",
   "id": "605153c6-365f-47a7-8ee0-385e7671fa2a",
   "metadata": {},
   "source": [
    "## Create a plotter, and display 3D visualisation\n",
    "\n",
    "The above example shows some interesting features, but it is only a 'potted' demonstration.  \n",
    "Let's grab some actual LFRic data and examine the actual plotting mechanism in a bit more detail.  \n",
    "\n",
    "The simplest way, as seen in [Sec#02 - Quick 3d plotting](./Sec_02_Meshes.ipynb#Quick-3d-plotting), is just to call `PolyData.plot()`, but that is rather limited in what it can do.\n",
    "\n",
    "For more control, we need to deal with the GeoVista/PyVista `Plotter` object.  \n",
    "The full process for this requires a number of several discrete steps ...\n",
    "\n",
    "**(1) First load in the same 2D 'relative_humidity' datacube we loaded back in [Section#02 \"Fetch some sample data\"](./Sec_02_Meshes.ipynb#Fetch-some-sample-unstructured-data,-as-used-in-Section#01)**"
   ]
  },
  {
   "cell_type": "code",
   "execution_count": 8,
   "id": "f1ba1220-14d3-43e8-88b4-5cf2f7e41723",
   "metadata": {},
   "outputs": [],
   "source": [
    "# TODO: remove when switched to fulltime lower-res test data\n",
    "from testdata_fetching import switch_data\n",
    "switch_data(use_newer_smaller_c48_data=True)"
   ]
  },
  {
   "cell_type": "code",
   "execution_count": 9,
   "id": "b31e909d-ff33-461a-9689-39bb5c0e9f41",
   "metadata": {},
   "outputs": [],
   "source": [
    "from testdata_fetching import lfric_rh_singletime_2d\n",
    "lfric_rh = lfric_rh_singletime_2d()"
   ]
  },
  {
   "cell_type": "markdown",
   "id": "5957460c-1915-4344-82dd-66b92c9af359",
   "metadata": {},
   "source": [
    "---\n",
    "\n",
    "**(2) convert the Iris cube to a PyVista `PolyData`, as in [Section#02 \"Convert a cube to PyVista form\"](./Sec_02_Meshes.ipynb#Convert-a-cube-to-PyVista-form-for-plotting)**"
   ]
  },
  {
   "cell_type": "code",
   "execution_count": 10,
   "id": "fe9923ba-e4b7-46ff-8235-0c1810eb82c7",
   "metadata": {},
   "outputs": [],
   "source": [
    "from pv_conversions import pv_from_lfric_cube\n",
    "pv = pv_from_lfric_cube(lfric_rh)"
   ]
  },
  {
   "cell_type": "markdown",
   "id": "f4bc521f-1881-489c-9bde-6105655b8544",
   "metadata": {},
   "source": [
    "---\n",
    "\n",
    "Now, we need a [PyVista \"plotter\"](https://docs.pyvista.org/api/plotting/_autosummary/pyvista.Plotter.html#pyvista.Plotter) object to display things in 3D.  \n",
    "Since our data is geo-located, we will use the special subtype `GeoPlotter`, from [GeoVista](https://github.com/bjlittle/geovista#philisophy) for this.\n",
    "\n",
    "**Import the class `GeoPlotter` from the `geovista` package, and create one** (with no arguments)\n",
    "<details><summary>Sample code solution : <b>click to reveal</b></summary>\n",
    "\n",
    "```python\n",
    "from geovista import GeoPlotter\n",
    "plotter = GeoPlotter()\n",
    "```\n",
    "</details>"
   ]
  },
  {
   "cell_type": "code",
   "execution_count": 11,
   "id": "9cfaa77a-cae2-49f0-9dcb-f0ff0d146867",
   "metadata": {},
   "outputs": [],
   "source": [
    "from geovista import GeoPlotter\n",
    "plotter = GeoPlotter()"
   ]
  },
  {
   "cell_type": "markdown",
   "id": "46e337d9-4b1a-468e-82c4-9a7de167232c",
   "metadata": {},
   "source": [
    "Note: various control arguments can be added to `GeoPlotter()`.  \n",
    "But none are required by default.\n",
    "\n",
    "---\n",
    "\n",
    "**Now call the plotter `add_mesh` function, passing in our PolyData object with the Rh cube data in it.**  \n",
    "( **N.B.** don't worry about the object which this passes back -- just discard it, for now ).\n",
    "<details><summary>Sample code solution : <b>click to reveal</b></summary>\n",
    "\n",
    "```python\n",
    "_ = plotter.add_mesh(pv)\n",
    "```\n",
    "</details>"
   ]
  },
  {
   "cell_type": "code",
   "execution_count": 12,
   "id": "73305329-3509-4d70-aa7c-b901ef5d667f",
   "metadata": {},
   "outputs": [],
   "source": [
    "_ = plotter.add_mesh(pv)"
   ]
  },
  {
   "cell_type": "markdown",
   "id": "d98b11b4-b2f7-4276-a471-28d8b01e92cf",
   "metadata": {},
   "source": [
    "---\n",
    "\n",
    "**Finally, simply plot this, by calling the plotter function \"show\" (with no args).**\n",
    "<details><summary>Sample code solution : <b>click to reveal</b></summary>\n",
    "\n",
    "```python\n",
    "plotter.show()\n",
    "```\n",
    "</details>"
   ]
  },
  {
   "cell_type": "code",
   "execution_count": null,
   "id": "5d213f99-faf3-4f3a-a159-a021a9478539",
   "metadata": {},
   "outputs": [],
   "source": [
    "plotter.show()"
   ]
  },
  {
   "cell_type": "markdown",
   "id": "f7353ec4-56a9-4726-a7a3-3d2959410daa",
   "metadata": {},
   "source": [
    "**Some odd notes:**\n",
    "  * VTK/PyVista doesn't use plot \"types\".  \n",
    "    Instead, you add meshes to a plotter + can subsequently control the presentation.\n",
    "  * By default, `plotter.show()` opens an interactive window : **you can rotate and zoom it with the mouse**.\n",
    "    * you can instead generate static output \n",
    "        * in a notebook, you do this with `jupyter_backend='static'`\n",
    "        * or in a Python session, try `interactive=False`\n",
    "  * GeoVista can also produce more familiar 2D plots (described in a later section ...)\n"
   ]
  },
  {
   "cell_type": "markdown",
   "id": "cde0e7c6-bfdb-4bef-bc19-625bfdf1e898",
   "metadata": {},
   "source": [
    "***TODO:*** can suggest some of these as follow-on exercises"
   ]
  },
  {
   "cell_type": "markdown",
   "id": "745cd7fd-ba22-4fd6-8afb-15fc47da4d27",
   "metadata": {},
   "source": [
    "## Additional features\n",
    "\n",
    "The above hasn't yet added anything to the basic `PolyData.plot()` call.\n",
    "\n",
    "However, when you create your own GeoPlotter, you can do a lot more to control the view, and add useful aspects.\n",
    "\n",
    "**What can each of the following GeoPlotter methods do ?...**\n",
    "( N.B. there is no rendered GeoVista API yet, but you can see the code docstrings, e.g. [here] )\n",
    "  * **`add_coastlines`**\n",
    "  * **`add_axes`**\n",
    "  * **`add_base_layer`**  (hint: look in the source of the `demo_display_2d_xx_yy_data` routine)\n",
    "  * **`add_camera_orientation_widget`**\n",
    "\n",
    "Note : of these, 'coastlines' and 'base_layer' are GeoVista concepts, while 'axes' and 'camera_orientation_widget' are from PyVista.  The `GeoPlotter` is simply a specialised (extended) version of a `PyVista.Plotter`.\n",
    "\n",
    "Another very useful resource is the GeoVista runnable examples.  \n",
    "See : https://github.com/bjlittle/geovista/tree/main/src/geovista/examples"
   ]
  },
  {
   "cell_type": "code",
   "execution_count": 73,
   "id": "506ab6ac-0402-41d4-a03a-62725edbf5b1",
   "metadata": {},
   "outputs": [],
   "source": [
    "# .. space for user code (E.G. try \"add_coastlines\") ..."
   ]
  },
  {
   "cell_type": "code",
   "execution_count": 74,
   "id": "a0672533-e726-4117-9527-5247fa1fa269",
   "metadata": {},
   "outputs": [],
   "source": [
    "# .. space for user code (E.G. try \"add_base_layer\") ..."
   ]
  },
  {
   "cell_type": "code",
   "execution_count": 75,
   "id": "47b098b4-dc3f-4cff-aa9a-7dcb03c48210",
   "metadata": {},
   "outputs": [],
   "source": [
    "# .. space for user code (E.G. try \"add_axes\") ..."
   ]
  },
  {
   "cell_type": "markdown",
   "id": "2c003d32-4c57-45da-8034-c692c9949ec1",
   "metadata": {},
   "source": [
    "# Comparing UM and LFRic fields"
   ]
  },
  {
   "cell_type": "code",
   "execution_count": 22,
   "id": "75fa9c8f-317f-4163-8036-72c4e7c291f7",
   "metadata": {},
   "outputs": [
    {
     "data": {
      "text/html": [
       "\n",
       "<style>\n",
       "  a.iris {\n",
       "      text-decoration: none !important;\n",
       "  }\n",
       "  table.iris {\n",
       "      white-space: pre;\n",
       "      border: 1px solid;\n",
       "      border-color: #9c9c9c;\n",
       "      font-family: monaco, monospace;\n",
       "  }\n",
       "  th.iris {\n",
       "      background: #303f3f;\n",
       "      color: #e0e0e0;\n",
       "      border-left: 1px solid;\n",
       "      border-color: #9c9c9c;\n",
       "      font-size: 1.05em;\n",
       "      min-width: 50px;\n",
       "      max-width: 125px;\n",
       "  }\n",
       "  tr.iris :first-child {\n",
       "      border-right: 1px solid #9c9c9c !important;\n",
       "  }\n",
       "  td.iris-title {\n",
       "      background: #d5dcdf;\n",
       "      border-top: 1px solid #9c9c9c;\n",
       "      font-weight: bold;\n",
       "  }\n",
       "  .iris-word-cell {\n",
       "      text-align: left !important;\n",
       "      white-space: pre;\n",
       "  }\n",
       "  .iris-subheading-cell {\n",
       "      padding-left: 2em !important;\n",
       "  }\n",
       "  .iris-inclusion-cell {\n",
       "      padding-right: 1em !important;\n",
       "  }\n",
       "  .iris-panel-body {\n",
       "      padding-top: 0px;\n",
       "  }\n",
       "  .iris-panel-title {\n",
       "      padding-left: 3em;\n",
       "  }\n",
       "  .iris-panel-title {\n",
       "      margin-top: 7px;\n",
       "  }\n",
       "</style>\n",
       "<table class=\"iris\" id=\"140291629518272\">\n",
       "    <tr class=\"iris\">\n",
       "<th class=\"iris iris-word-cell\">Um Rh Data (%)</th>\n",
       "<th class=\"iris iris-word-cell\">latitude</th>\n",
       "<th class=\"iris iris-word-cell\">longitude</th>\n",
       "</tr>\n",
       "    <tr class=\"iris\">\n",
       "<td class=\"iris-word-cell iris-subheading-cell\">Shape</td>\n",
       "<td class=\"iris iris-inclusion-cell\">144</td>\n",
       "<td class=\"iris iris-inclusion-cell\">192</td>\n",
       "</tr>\n",
       "    <tr class=\"iris\">\n",
       "    <td class=\"iris-title iris-word-cell\">Dimension coordinates</td>\n",
       "    <td class=\"iris-title\"></td>\n",
       "    <td class=\"iris-title\"></td>\n",
       "</tr>\n",
       "<tr class=\"iris\">\n",
       "    <td class=\"iris-word-cell iris-subheading-cell\">\tlatitude</td>\n",
       "    <td class=\"iris-inclusion-cell\">x</td>\n",
       "    <td class=\"iris-inclusion-cell\">-</td>\n",
       "</tr>\n",
       "<tr class=\"iris\">\n",
       "    <td class=\"iris-word-cell iris-subheading-cell\">\tlongitude</td>\n",
       "    <td class=\"iris-inclusion-cell\">-</td>\n",
       "    <td class=\"iris-inclusion-cell\">x</td>\n",
       "</tr>\n",
       "<tr class=\"iris\">\n",
       "    <td class=\"iris-title iris-word-cell\">Scalar coordinates</td>\n",
       "    <td class=\"iris-title\"></td>\n",
       "    <td class=\"iris-title\"></td>\n",
       "</tr>\n",
       "<tr class=\"iris\">\n",
       "    <td class=\"iris-word-cell iris-subheading-cell\">\tforecast_period</td>\n",
       "    <td class=\"iris-word-cell\" colspan=\"2\">21600 seconds</td>\n",
       "</tr>\n",
       "<tr class=\"iris\">\n",
       "    <td class=\"iris-word-cell iris-subheading-cell\">\tforecast_reference_time</td>\n",
       "    <td class=\"iris-word-cell\" colspan=\"2\">2021-03-24 00:00:00</td>\n",
       "</tr>\n",
       "<tr class=\"iris\">\n",
       "    <td class=\"iris-word-cell iris-subheading-cell\">\theight</td>\n",
       "    <td class=\"iris-word-cell\" colspan=\"2\">1.5 m</td>\n",
       "</tr>\n",
       "<tr class=\"iris\">\n",
       "    <td class=\"iris-word-cell iris-subheading-cell\">\ttime</td>\n",
       "    <td class=\"iris-word-cell\" colspan=\"2\">2021-03-24 06:00:00</td>\n",
       "</tr>\n",
       "<tr class=\"iris\">\n",
       "    <td class=\"iris-title iris-word-cell\">Attributes</td>\n",
       "    <td class=\"iris-title\"></td>\n",
       "    <td class=\"iris-title\"></td>\n",
       "</tr>\n",
       "<tr class=\"iris\">\n",
       "    <td class=\"iris-word-cell iris-subheading-cell\">\tConventions</td>\n",
       "    <td class=\"iris-word-cell\" colspan=\"2\">&#x27;CF-1.7&#x27;</td>\n",
       "</tr>\n",
       "<tr class=\"iris\">\n",
       "    <td class=\"iris-word-cell iris-subheading-cell\">\tSTASH</td>\n",
       "    <td class=\"iris-word-cell\" colspan=\"2\">m01s03i245</td>\n",
       "</tr>\n",
       "<tr class=\"iris\">\n",
       "    <td class=\"iris-word-cell iris-subheading-cell\">\tsource</td>\n",
       "    <td class=\"iris-word-cell\" colspan=\"2\">&#x27;Data from Met Office Unified Model&#x27;</td>\n",
       "</tr>\n",
       "<tr class=\"iris\">\n",
       "    <td class=\"iris-word-cell iris-subheading-cell\">\tum_version</td>\n",
       "    <td class=\"iris-word-cell\" colspan=\"2\">&#x27;12.2&#x27;</td>\n",
       "</tr>\n",
       "</table>\n",
       "        "
      ],
      "text/plain": [
       "<iris 'Cube' of UM Rh data / (%) (latitude: 144; longitude: 192)>"
      ]
     },
     "execution_count": 22,
     "metadata": {},
     "output_type": "execute_result"
    }
   ],
   "source": [
    "from testdata_fetching import um_rh_singletime_2d\n",
    "#um_rh = iris.load_cube(um_filepth, 'relative_humidity')\n",
    "um_rh = um_rh_singletime_2d()\n",
    "# Rename so we are clear which model this came from\n",
    "um_rh.rename('UM Rh data')\n",
    "um_rh"
   ]
  },
  {
   "cell_type": "markdown",
   "id": "4a57aece-f9b3-467a-b26a-6277517fa744",
   "metadata": {},
   "source": [
    "---\n",
    "\n",
    "Just as a reference, let's quickly show that on an old-style Iris matplotlib plot.\n",
    "\n",
    "**Display this cube (ordinary, \"structured\" data) by passing it into the routine `iris.quickplot.pcolormesh`.**"
   ]
  },
  {
   "cell_type": "code",
   "execution_count": 23,
   "id": "25d9d1a3-44c0-4f8b-b6fd-d909e94cc54f",
   "metadata": {},
   "outputs": [
    {
     "data": {
      "text/plain": [
       "<cartopy.mpl.geocollection.GeoQuadMesh at 0x7f9830b4ad60>"
      ]
     },
     "execution_count": 23,
     "metadata": {},
     "output_type": "execute_result"
    },
    {
     "data": {
      "image/png": "[encoded data removed]",
      "text/plain": [
       "<Figure size 640x480 with 2 Axes>"
      ]
     },
     "metadata": {},
     "output_type": "display_data"
    }
   ],
   "source": [
    "import iris.quickplot  as qplt\n",
    "qplt.pcolormesh(um_rh)"
   ]
  },
  {
   "cell_type": "markdown",
   "id": "f369d191-6071-451b-a47d-40b4a1abb90c",
   "metadata": {},
   "source": [
    "---\n",
    "Now to plot this in 3d.  \n",
    "\n",
    "For this, we have another utility routine which allows us to convert \"ordinary\" structured cubes into PyVista `PolyData`.\n",
    "\n",
    "**Convert this UM cube to a PolyData, with the routine `pv_conversions.pv_from_um_cube`, and display it in 3D.** "
   ]
  },
  {
   "cell_type": "code",
   "execution_count": 24,
   "id": "d54b18fb-6fc3-49e9-a293-5820be7da3d9",
   "metadata": {},
   "outputs": [
    {
     "data": {
      "application/vnd.jupyter.widget-view+json": {
       "model_id": "770c2c159a3142b3a5082efb6f5fde3c",
       "version_major": 2,
       "version_minor": 0
      },
      "text/plain": [
       "ViewInteractiveWidget(height=768, layout=Layout(height='auto', width='100%'), width=1024)"
      ]
     },
     "metadata": {},
     "output_type": "display_data"
    }
   ],
   "source": [
    "from pv_conversions import pv_from_um_cube\n",
    "um_pv = pv_from_um_cube(um_rh)\n",
    "um_pv.plot()"
   ]
  },
  {
   "cell_type": "markdown",
   "id": "f33d74da-f2f9-43f3-983c-885d79c7d942",
   "metadata": {},
   "source": [
    "**Note :** \n",
    "This is still traditional \"structured\" data on its original UM lat-lon grid.\n",
    "\n",
    "You can see this clearly by zooming in on a pole, where the cells get very narrow."
   ]
  },
  {
   "cell_type": "markdown",
   "id": "dedd186f-6d98-43ea-a229-525685a8c79a",
   "metadata": {},
   "source": [
    "## Simple side-by-side plotting : UM vs LFRic data\n",
    "\n",
    "Let's compare the matched UM and LFRic data fields by eye, in side-by-side 3D view.\n",
    "\n",
    "This is mostly a demonstration of what can be achived, somewhat complicated,  \n",
    "so we have provided another utility routine ...\n",
    "\n",
    "**import the function `side_by_side_plotter` from `display_demo_routines`, and apply it to the UM and LFRic data cubes as arguments.  \n",
    "Then display the `Plotter` which this returns.**"
   ]
  },
  {
   "cell_type": "code",
   "execution_count": null,
   "id": "8abc8959-3c15-40cc-ba55-378fb34d1427",
   "metadata": {},
   "outputs": [],
   "source": [
    "from display_demo_routines import side_by_side_plotter\n",
    "plt = side_by_side_plotter(pv, um_pv)\n",
    "plt.show()"
   ]
  },
  {
   "cell_type": "code",
   "execution_count": null,
   "id": "8ba571cc-0bc9-468e-a81c-98c11f1c1806",
   "metadata": {},
   "outputs": [],
   "source": []
  },
  {
   "cell_type": "markdown",
   "id": "a0ced5da-ddb9-4ae6-ac1f-dadef35e5b2c",
   "metadata": {},
   "source": [
    "## A handy hint : how to record + re-use a camera view"
   ]
  },
  {
   "cell_type": "code",
   "execution_count": null,
   "id": "a40ce0bc-9b0c-4938-b29b-c16e413b1d5c",
   "metadata": {},
   "outputs": [],
   "source": [
    "viewpoint = my_plotter.camera_position\n",
    "viewpoint"
   ]
  },
  {
   "cell_type": "code",
   "execution_count": null,
   "id": "cc9484f4-7edc-499a-a0be-39f8db4b90ae",
   "metadata": {},
   "outputs": [],
   "source": [
    "# This pre-loaded position focusses on a cubesphere \"corner\" in the middle East\n",
    "viewpoint = [\n",
    "    (0.9550352379408845, 0.9378277371075855, 0.9637172962958191),\n",
    "    (0.0, 0.0, 0.0),\n",
    "    (-0.3202752464164225, -0.5004192729867466, 0.8043657860428399)\n",
    "]\n",
    "viewpoint = [\n",
    "    (1.1555926379084704, 1.1347715619001786, 1.1660979285179414),\n",
    "    (0.0, 0.0, 0.0),\n",
    "    (-0.3202752464164226, -0.5004192729867467, 0.80436578604284)\n",
    "]"
   ]
  },
  {
   "cell_type": "code",
   "execution_count": null,
   "id": "5eb8be9f-feba-433f-949b-3461ed127049",
   "metadata": {},
   "outputs": [],
   "source": [
    "# Plot just the LFRIC data with the same view ...\n",
    "new_plotter = GeoPlotter()\n",
    "new_plotter.add_coastlines()\n",
    "new_plotter.add_mesh(pv, show_edges=True)\n",
    "new_plotter.camera_position = viewpoint\n",
    "new_plotter.show(jupyter_backend='static')"
   ]
  },
  {
   "cell_type": "code",
   "execution_count": null,
   "id": "7d252a64-f4ca-481b-a8df-a92387f4479d",
   "metadata": {},
   "outputs": [],
   "source": [
    "new_plotter.camera_position"
   ]
  },
  {
   "cell_type": "code",
   "execution_count": null,
   "id": "e04f8a10-77cb-4c9d-bc0b-6b7ee3bfc7f2",
   "metadata": {},
   "outputs": [],
   "source": [
    "# WIP : projected 2D plotting"
   ]
  },
  {
   "cell_type": "code",
   "execution_count": null,
   "id": "4e61e2c1-7907-47c4-8517-ad70096c1a08",
   "metadata": {},
   "outputs": [],
   "source": [
    "# GeoVista coastline projection not yet supported. Use a representation of coastlines as Cube data instead.\n",
    "\n",
    "# import requests\n",
    "# r = requests.get(\"https://github.com/SciTools-incubator/presentations/raw/main/ngms_champions_2022-04-12/coastline_grid.nc\")\n",
    "# open(\"coastline_grid.nc\", \"wb\").write(r.content)\n",
    "\n",
    "# coastline_cube = iris.load_cube(\"coastline_grid.nc\")\n",
    "\n",
    "# coastline_polydata = pv_from_structcube(coastline_cube)\n",
    "# # Remove all NaN's (grid squares that aren't on a coast).\n",
    "# coastline_polydata = coastline_polydata.threshold()"
   ]
  },
  {
   "cell_type": "code",
   "execution_count": null,
   "id": "c2d56c7b-b80e-488d-8a74-fe57e5dbc567",
   "metadata": {},
   "outputs": [],
   "source": [
    "def plot_projected(my_polydata, plotter=None):\n",
    "    \"\"\"Plot polydata on a given plotter\"\"\"\n",
    "    if plotter is None:\n",
    "        plotter = GeoPlotter()\n",
    "    # Add the coastline cells 'above' the data itself.\n",
    "    plotter.add_mesh(\n",
    "        coastline_polydata,\n",
    "        color=\"white\",\n",
    "        show_edges=True,\n",
    "        edge_color=\"white\",\n",
    "        radius=1.1,     # For globe plots\n",
    "        zlevel=10,       # For planar plots\n",
    "    )\n",
    "    plot_polydata = my_polydata.copy()\n",
    "    plotter.add_mesh(plot_polydata)\n",
    "    # if plotter.crs != WGS84:\n",
    "    #     # Projected plot.\n",
    "    #     plotter.camera_position = \"xy\"\n",
    "    #     backend = \"static\"\n",
    "    # else:\n",
    "    #     backend = \"pythreejs\"\n",
    "#         backend = \"static\"\n",
    "    plotter.show()  # jupyter_backend=backend)"
   ]
  },
  {
   "cell_type": "code",
   "execution_count": null,
   "id": "f41a5a31-2e00-4f39-8505-d261a4d9c053",
   "metadata": {},
   "outputs": [],
   "source": [
    "# Plot these side-by-side ...\n"
   ]
  }
 ],
 "metadata": {
  "kernelspec": {
   "display_name": "Python 3 (ipykernel)",
   "language": "python",
   "name": "python3"
  },
  "language_info": {
   "codemirror_mode": {
    "name": "ipython",
    "version": 3
   },
   "file_extension": ".py",
   "mimetype": "text/x-python",
   "name": "python",
   "nbconvert_exporter": "python",
   "pygments_lexer": "ipython3",
   "version": "3.9.15"
  },
  "toc-showmarkdowntxt": false
 },
 "nbformat": 4,
 "nbformat_minor": 5
}
