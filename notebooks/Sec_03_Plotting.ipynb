{
 "cells": [
  {
   "cell_type": "markdown",
   "id": "b575ede6-8433-418a-bb04-949b0ea52abe",
   "metadata": {},
   "source": [
    "# Section 3 : 3D visualisation and plotting\n",
    "\n",
    "Here we explain the use of 3D plotting, and introduce GeoVista and PyVista\n"
   ]
  },
  {
   "cell_type": "markdown",
   "id": "db2305c4-585a-46eb-9bd5-a68215ea3f63",
   "metadata": {},
   "source": [
    "## 3D visualisation\n",
    "\n",
    "Unlike UM data, which is mostly plotted on a map projection, the most usual way to plot LFRic data is in a 3D viewer.  \n",
    "\n",
    "There are a few key reasons for this :\n",
    "  1. LFRic gridcells are not lat-lon aligned like the UM, so 2D plotting is not such a direct operation\n",
    "  2. LFRic data often has too many cells for easy plotting with matplotlib\n"
   ]
  },
  {
   "cell_type": "markdown",
   "id": "254e9b66-5382-4cd7-82e9-85b73f0563c2",
   "metadata": {},
   "source": [
    "### What Geovista is for\n",
    "\n",
    "GeoVista adds geo-location facilities to PyVista, allowing us to plot geolocated data in a 3D view.\n",
    "\n",
    "The key supporting softweare components are these (***follow links for more detail***):\n",
    "  * [**VTK**](https://vtk.org/) : highly mature 3D visualisation library (C++)\n",
    "  * [**PyVista**](https://pyvista.org/) : VTK for Python\n",
    "  * [**GeoVista**](https://github.com/bjlittle/geovista#readme) : geolocation for PyVista\n",
    "     * map projections + transforms\n",
    "     * geolocated data and regions\n",
    "     * coastlines"
   ]
  },
  {
   "cell_type": "markdown",
   "id": "c2385a63-6232-4c85-8e71-b3d51598e22a",
   "metadata": {},
   "source": [
    "### Geovista basic demo : an interactive plot of ocean data\n",
    "\n",
    "A simple self-contained demonstration"
   ]
  },
  {
   "cell_type": "code",
   "execution_count": null,
   "id": "9add492c-2a5a-4f59-ab8b-80f8f8fac8db",
   "metadata": {},
   "outputs": [],
   "source": [
    "# Import things from Geovista\n",
    "import geovista as gv"
   ]
  },
  {
   "cell_type": "code",
   "execution_count": null,
   "id": "09c1686e-e950-4587-a736-b4ecd1022b97",
   "metadata": {},
   "outputs": [],
   "source": [
    "# Copied from : https://github.com/bjlittle/geovista/blob/main/src/geovista/examples/from_2d__orca.py\n",
    "from geovista.pantry import um_orca2\n",
    "\n",
    "sample = um_orca2()"
   ]
  },
  {
   "cell_type": "code",
   "execution_count": null,
   "id": "f6941576-760c-4d22-b0b7-4227e384ea1a",
   "metadata": {},
   "outputs": [],
   "source": [
    "# A local utility routine\n",
    "import display_demo_routines\n",
    "\n",
    "from display_demo_routines import popup_2d_data_xx_yy"
   ]
  },
  {
   "cell_type": "code",
   "execution_count": null,
   "id": "bf6d26c5-3363-4cc6-aa3a-c91e4cd48319",
   "metadata": {},
   "outputs": [],
   "source": [
    "# launch\n",
    "popup_2d_data_xx_yy(sample, \"ORCA test data\")"
   ]
  },
  {
   "cell_type": "markdown",
   "id": "6411b71e-c5ab-4520-aa6a-0e3a768d2f1e",
   "metadata": {},
   "source": [
    "## Using GeoVista/PyVista with Iris"
   ]
  },
  {
   "cell_type": "markdown",
   "id": "9b1b4171-a981-40d3-8c3c-d2b61667c18a",
   "metadata": {
    "incorrectly_encoded_metadata": "jp-MarkdownHeadingCollapsed=true",
    "tags": []
   },
   "source": [
    "\n",
    "There are as yet *no* facilities in Iris for plotting unstructed cubes.  \n",
    "We can do that using PyVista, but first, we need to convert the data to a PyVista format.  \n",
    "\n",
    "**NOTE**\n",
    "  * Geovista is not Iris-dependent\n",
    "  * Iris does not (yet) fully integrate Geovista\n",
    "  * .. therefore user code is currently needed to bridge the two\n",
    "  * .. **but** the gap is fairly small, and this makes Geovista more generally useful"
   ]
  },
  {
   "cell_type": "code",
   "execution_count": null,
   "id": "8d03708e-f039-45fd-9fa2-e43e9fb2da32",
   "metadata": {},
   "outputs": [],
   "source": [
    "# Load a 2D 'relative_humidity' cube data, with tutorial utility function as before\n",
    "# This is the same cube we loaded back in [Section#02 \"Fetch some sample data\"](./Sec_02_Meshes.ipynb#Fetch-some-sample-unstructured-data,-as-used-in-Section#01)**\n",
    "from testdata_fetching import lfric_rh_singletime_2d\n",
    "lfric_rh = lfric_rh_singletime_2d()"
   ]
  },
  {
   "cell_type": "markdown",
   "id": "6bab81a6-97fe-40b7-bcfa-65b2e81541b2",
   "metadata": {},
   "source": [
    "### Convert an Iris cube to a PyVista `PolyData`\n",
    "\n",
    "As the conversion code is non-trivial, we provided a utility function.  \n",
    "We import and use `pv_conversions.pv_from_lfric_cube` (provided here in the tutorial)."
   ]
  },
  {
   "cell_type": "code",
   "execution_count": null,
   "id": "3ca979c0-6a31-4106-99cf-26bad4da3d2f",
   "metadata": {},
   "outputs": [],
   "source": [
    "from pv_conversions import pv_from_lfric_cube\n",
    "\n",
    "pv = pv_from_lfric_cube(lfric_rh)"
   ]
  },
  {
   "cell_type": "markdown",
   "id": "37ff7d39-8e3b-4dd6-8dbd-7e03c55db030",
   "metadata": {},
   "source": [
    "This produces a PyVista [\"PolyData\"](https://docs.pyvista.org/api/core/_autosummary/pyvista.PolyData.html#pyvista-polydata) object.  \n",
    "\n",
    "**Print that to take a look a it.**"
   ]
  },
  {
   "cell_type": "code",
   "execution_count": null,
   "id": "9625239a-4957-40b6-bcb6-46a7432e4e40",
   "metadata": {
    "tags": []
   },
   "outputs": [],
   "source": [
    "pv"
   ]
  },
  {
   "cell_type": "markdown",
   "id": "944789ae-9cd7-4a4b-845e-6838e4f80b09",
   "metadata": {},
   "source": [
    "Note: like `Cube`s + `CubeList`s, these `PolyData` objects are provided with a specific visible within the Jupyter notebooks.  \n",
    "This is displayed when you just enter the variable in a cell.  \n",
    "\n",
    "You can also use \"print(x)\" to display the standard string representation of the object, but usually the notebook-style output is a bit more useful."
   ]
  },
  {
   "cell_type": "markdown",
   "id": "316ad090-6dfb-4635-a9ab-96e648e9edd0",
   "metadata": {},
   "source": [
    "### Instant 3D plot\n",
    "\n",
    "We can plot a `PolyData` simply by calling its `.plot()` method."
   ]
  },
  {
   "cell_type": "code",
   "execution_count": null,
   "id": "a7248121-fe19-43ba-a95f-dc71a6710e79",
   "metadata": {},
   "outputs": [],
   "source": [
    "pv.plot()"
   ]
  },
  {
   "cell_type": "markdown",
   "id": "3c961a2c-ee27-4b2b-ba37-f6e283c9e862",
   "metadata": {},
   "source": [
    "**NOTES**:\n",
    "  * this plot is interactive -- try dragging to rotate, and the mouse scroll-wheel to zoom\n",
    "  * this obviously causes some clutter and uses up some space (e.g. you can't easily scroll past it)  \n",
    "    * To ***remove*** a plot output, use \"Clear Output\" from the \"Edit\" menu (or from right-click on the cell)\n",
    "  * alternatively, set the keyword `jupyter_backend='static'` in the command, for output as a plain image\n",
    "\n"
   ]
  },
  {
   "cell_type": "markdown",
   "id": "9a2c62bc-9b81-4b4a-87c5-2486f5f0d87f",
   "metadata": {},
   "source": [
    "### Create a plotter to display 3D visualisation of data from Iris\n",
    "\n",
    "There are a lot more keywords available to [the `PolyData.plot()` method](https://docs.pyvista.org/api/core/_autosummary/pyvista.PolyData.plot.html), but it is not ideal to overcomplicate these calls.  \n",
    "\n",
    "Finer control is better achieved in a different way:  We create a GeoVista/PyVista `Plotter` object, and deal with that directly.\n",
    "\n",
    "The full process for this involves a few steps ..."
   ]
  },
  {
   "cell_type": "markdown",
   "id": "6065795a-754e-4e0b-b371-893fdce41c00",
   "metadata": {},
   "source": [
    "#### Create a `pyvista.Plotter `\n",
    "We will create a [PyVista \"plotter\"](https://docs.pyvista.org/api/plotting/_autosummary/pyvista.Plotter.html#pyvista.Plotter) object to display things in 3D.  \n",
    "\n",
    "However, since our data is geo-located, we will use the special subtype `GeoPlotter`, from [GeoVista](https://github.com/bjlittle/geovista#philisophy) for this."
   ]
  },
  {
   "cell_type": "code",
   "execution_count": null,
   "id": "9cfaa77a-cae2-49f0-9dcb-f0ff0d146867",
   "metadata": {
    "tags": []
   },
   "outputs": [],
   "source": [
    "from geovista import GeoPlotter\n",
    "plotter = GeoPlotter()"
   ]
  },
  {
   "cell_type": "markdown",
   "id": "ea9735c2-70d0-4827-b1de-3457a693e5a5",
   "metadata": {},
   "source": [
    "Note: various control arguments can be added to `GeoPlotter()`.  \n",
    "But none are required by default.\n",
    "\n",
    "---"
   ]
  },
  {
   "cell_type": "markdown",
   "id": "be4c464d-9942-42f6-8cd8-fef4398aa24f",
   "metadata": {},
   "source": [
    "#### Call the plotter [`add_mesh`](https://docs.pyvista.org/api/plotting/_autosummary/pyvista.BasePlotter.add_mesh.html#add-mesh) function\n",
    "We pass in the PolyData object.  \n",
    "There are lots of possible other keywords, but none are required.\n",
    "\n",
    "( **N.B.** don't worry about the object which this passes back -- just discard it, for now )."
   ]
  },
  {
   "cell_type": "code",
   "execution_count": null,
   "id": "73305329-3509-4d70-aa7c-b901ef5d667f",
   "metadata": {},
   "outputs": [],
   "source": [
    "_ = plotter.add_mesh(pv)"
   ]
  },
  {
   "cell_type": "markdown",
   "id": "d98b11b4-b2f7-4276-a471-28d8b01e92cf",
   "metadata": {},
   "source": [
    "#### Call [`Plotter.show()`](https://docs.pyvista.org/api/plotting/_autosummary/pyvista.Plotter.show.html#pyvista.Plotter.show) to display\n",
    "<details><summary>Sample code solution : <b>click to reveal</b></summary>\n",
    "\n",
    "```python\n",
    "plotter.show()\n",
    "```\n",
    "</details>"
   ]
  },
  {
   "cell_type": "code",
   "execution_count": null,
   "id": "5d213f99-faf3-4f3a-a159-a021a9478539",
   "metadata": {},
   "outputs": [],
   "source": [
    "plotter.show()"
   ]
  },
  {
   "cell_type": "markdown",
   "id": "f7353ec4-56a9-4726-a7a3-3d2959410daa",
   "metadata": {},
   "source": [
    "**Some odd notes:**\n",
    "  * VTK/PyVista doesn't use plot \"types\".  \n",
    "    Instead, you add meshes to a plotter + can subsequently control the presentation.\n",
    "  * By default, `plotter.show()` opens an interactive window : **you can rotate and zoom it with the mouse**.\n",
    "    * you can instead generate static output \n",
    "        * in a notebook, you do this with `jupyter_backend='static'`\n",
    "        * or in a Python session, try `interactive=False`\n",
    "  * GeoVista can also produce more familiar 2D plots (described in a later section ...)\n"
   ]
  },
  {
   "cell_type": "markdown",
   "id": "745cd7fd-ba22-4fd6-8afb-15fc47da4d27",
   "metadata": {},
   "source": [
    "### Additional features\n",
    "\n",
    "The above hasn't yet actually added to what we can do with a simple`PolyData.plot()`.\n",
    "\n",
    "However, when you create your own GeoPlotter, you can do a lot more to control the view, and add useful aspects.\n",
    "\n",
    "**What can each of the following GeoPlotter methods do ?...**\n",
    "( N.B. there is no rendered GeoVista API yet, but you can see the code docstrings, e.g. [here](https://github.com/bjlittle/geovista/blob/v0.1.1/src/geovista/geoplotter.py#L69) )\n",
    "  * [add_coastlines](https://github.com/bjlittle/geovista/blob/v0.1.1/src/geovista/geoplotter.py#L193-L215) \n",
    "  * [add_axes](https://docs.pyvista.org/api/plotting/_autosummary/pyvista.BasePlotter.add_axes.html#pyvista.BasePlotter.add_axes)\n",
    "  * [add_base_layer](https://github.com/bjlittle/geovista/blob/v0.1.1/src/geovista/geoplotter.py#L122-L159)  (hint: look in the source of the `demo_display_2d_xx_yy_data` routine)\n",
    "  * add_camera_orientation_widget\n",
    "\n",
    "Note : of these, 'coastlines' and 'base_layer' are GeoVista concepts, while 'axes' and 'camera_orientation_widget' are from PyVista.  \n",
    "The `GeoPlotter` is simply a specialised (extended) version of a `PyVista.Plotter`.\n",
    "\n",
    "Another very useful resource is the GeoVista runnable examples.  \n",
    "See : https://github.com/bjlittle/geovista/tree/main/src/geovista/examples"
   ]
  },
  {
   "cell_type": "code",
   "execution_count": null,
   "id": "506ab6ac-0402-41d4-a03a-62725edbf5b1",
   "metadata": {
    "tags": []
   },
   "outputs": [],
   "source": [
    "# .. space for user code (E.G. try \"add_coastlines\") ..."
   ]
  },
  {
   "cell_type": "markdown",
   "id": "e72cebbf-bb7a-418f-8df7-6b2b1b716f0f",
   "metadata": {},
   "source": [
    "### Controlling the 3D view\n",
    "\n",
    "Unlike 2D plotting, we can't simply set the view to show a given coordinate range.\n",
    "However, we can record and control the camera position."
   ]
  },
  {
   "cell_type": "code",
   "execution_count": null,
   "id": "4c0b1428-8d9b-4b5f-87ee-a69a79941b3f",
   "metadata": {
    "tags": []
   },
   "outputs": [],
   "source": [
    "viewpoint = my_plotter.camera_position\n",
    "viewpoint"
   ]
  },
  {
   "cell_type": "markdown",
   "id": "383898bf-62cd-41cc-aa96-d576b8da4931",
   "metadata": {
    "tags": []
   },
   "source": [
    "---\n",
    "\n",
    "**For example**, this pre-loaded position focusses the view on a cubesphere \"corner\" in the middle East :"
   ]
  },
  {
   "cell_type": "code",
   "execution_count": null,
   "id": "525be08a-2b91-4c4b-ad3f-64f16e670d21",
   "metadata": {
    "tags": []
   },
   "outputs": [],
   "source": [
    "viewpoint = [\n",
    "    (1.1555926379084704, 1.1347715619001786, 1.1660979285179414),\n",
    "    (0.0, 0.0, 0.0),\n",
    "    (-0.3202752464164226, -0.5004192729867467, 0.80436578604284)\n",
    "]"
   ]
  },
  {
   "cell_type": "code",
   "execution_count": null,
   "id": "09740353-a2d5-4a4e-ad88-9d09e5a03841",
   "metadata": {
    "tags": []
   },
   "outputs": [],
   "source": [
    "# Plot the LFRIC data with this same view ...\n",
    "new_plotter = GeoPlotter()\n",
    "new_plotter.add_coastlines()\n",
    "new_plotter.add_mesh(pv, show_edges=True)\n",
    "new_plotter.camera_position = viewpoint\n",
    "new_plotter.show(jupyter_backend='static')"
   ]
  },
  {
   "cell_type": "markdown",
   "id": "06e0c01a-634c-4f3d-ba00-6a42ee5b0274",
   "metadata": {},
   "source": [
    "---\n",
    "\n",
    "The easiest way to manage this is to manually rotate and zoom, and then capture the result,  \n",
    "***like this ...***"
   ]
  },
  {
   "cell_type": "code",
   "execution_count": null,
   "id": "d314147f-2f3d-43ae-840e-561c07ddd340",
   "metadata": {
    "tags": []
   },
   "outputs": [],
   "source": [
    "view = new_plotter.camera_position\n",
    "\n",
    "print(view)"
   ]
  },
  {
   "cell_type": "markdown",
   "id": "2a7335eb-8c1a-43b7-867f-7438d72c46a6",
   "metadata": {},
   "source": [
    "***A Simple Exercise:*** \n",
    "  * zoom + scroll the above window as desired, and then capture the result in a variable, as just shown.  \n",
    "  * show that you can reproduce that view with other data.\n"
   ]
  },
  {
   "cell_type": "markdown",
   "id": "a3d50858-9581-4ced-9605-c0f8cb264c3a",
   "metadata": {},
   "source": [
    "## Comparing UM and LFRic fields\n",
    "\n",
    "### Fetch some equivalent UM data"
   ]
  },
  {
   "cell_type": "code",
   "execution_count": null,
   "id": "75fa9c8f-317f-4163-8036-72c4e7c291f7",
   "metadata": {
    "tags": []
   },
   "outputs": [],
   "source": [
    "from testdata_fetching import um_rh_singletime_2d\n",
    "#um_rh = iris.load_cube(um_filepth, 'relative_humidity')\n",
    "um_rh = um_rh_singletime_2d()\n",
    "# Rename so we are clear which model this came from\n",
    "um_rh.rename('UM Rh data')\n",
    "um_rh"
   ]
  },
  {
   "cell_type": "markdown",
   "id": "4a57aece-f9b3-467a-b26a-6277517fa744",
   "metadata": {},
   "source": [
    "---\n",
    "#### Plot in matplotlib\n",
    "For reference, as this is ordinary \"structured\" data, let's quickly plot it on an old-style Iris matplotlib plot.\n"
   ]
  },
  {
   "cell_type": "code",
   "execution_count": null,
   "id": "25d9d1a3-44c0-4f8b-b6fd-d909e94cc54f",
   "metadata": {
    "tags": []
   },
   "outputs": [],
   "source": [
    "import iris.quickplot  as qplt\n",
    "qplt.pcolormesh(um_rh)"
   ]
  },
  {
   "cell_type": "markdown",
   "id": "f369d191-6071-451b-a47d-40b4a1abb90c",
   "metadata": {},
   "source": [
    "---\n",
    "### Convert the UM cube to a PolyData\n",
    "\n",
    "To plot this in 3d, we must convert it to PolyData.  \n",
    "\n",
    "For this, we have another utility routine which allows us to convert \"ordinary\" structured cubes.  \n",
    "See : `pv_conversions.pv_from_um_cube`"
   ]
  },
  {
   "cell_type": "code",
   "execution_count": null,
   "id": "d54b18fb-6fc3-49e9-a293-5820be7da3d9",
   "metadata": {
    "tags": []
   },
   "outputs": [],
   "source": [
    "from pv_conversions import pv_from_um_cube\n",
    "um_pv = pv_from_um_cube(um_rh)\n",
    "um_pv.plot()"
   ]
  },
  {
   "cell_type": "markdown",
   "id": "f33d74da-f2f9-43f3-983c-885d79c7d942",
   "metadata": {},
   "source": [
    "**Note :** \n",
    "This is still traditional \"structured\" data on its original UM lat-lon grid.\n",
    "\n",
    "***Simple Exercise:***\n",
    "You can see this clearly by zooming in on one pole -- where the cells get very narrow."
   ]
  },
  {
   "cell_type": "markdown",
   "id": "dedd186f-6d98-43ea-a229-525685a8c79a",
   "metadata": {},
   "source": [
    "## Simple side-by-side plotting : UM vs LFRic data\n",
    "\n",
    "Let's compare the matched UM and LFRic data fields by eye, in side-by-side 3D view.\n",
    "\n",
    "This is mostly a demonstration of what can be achieved, which is fairly complicated,  \n",
    "so we have provided another utility routine ...\n",
    "\n",
    "**Using the function `display_demo_routines.side_by_side_plotter` ...**"
   ]
  },
  {
   "cell_type": "code",
   "execution_count": null,
   "id": "8abc8959-3c15-40cc-ba55-378fb34d1427",
   "metadata": {
    "tags": []
   },
   "outputs": [],
   "source": [
    "from display_demo_routines import side_by_side_plotter\n",
    "plt = side_by_side_plotter(pv, um_pv)\n",
    "plt.show()"
   ]
  },
  {
   "cell_type": "markdown",
   "id": "400bd2f8-1735-4bf7-ba45-859b4336c78a",
   "metadata": {},
   "source": [
    "---\n",
    "\n",
    "**For reference : a focussed, static plot of the same**"
   ]
  },
  {
   "cell_type": "code",
   "execution_count": null,
   "id": "32950de2-82d3-4124-a3a6-c5f118b12779",
   "metadata": {
    "tags": []
   },
   "outputs": [],
   "source": [
    "plt.camera_position = viewpoint\n",
    "plt.show(jupyter_backend='static')"
   ]
  },
  {
   "cell_type": "markdown",
   "id": "96177033-b331-4fb0-a374-f62414369c62",
   "metadata": {},
   "source": [
    "## Projected 2D plotting using GeoVista\n",
    "\n",
    "As it provides, Geovista \n",
    "...\n",
    "extra notebook.\n"
   ]
  },
  {
   "cell_type": "code",
   "execution_count": null,
   "id": "4e61e2c1-7907-47c4-8517-ad70096c1a08",
   "metadata": {},
   "outputs": [],
   "source": [
    "# GeoVista coastline projection not yet supported. Use a representation of coastlines as Cube data instead.\n",
    "\n",
    "# import requests\n",
    "# r = requests.get(\"https://github.com/SciTools-incubator/presentations/raw/main/ngms_champions_2022-04-12/coastline_grid.nc\")\n",
    "# open(\"coastline_grid.nc\", \"wb\").write(r.content)\n",
    "\n",
    "# coastline_cube = iris.load_cube(\"coastline_grid.nc\")\n",
    "\n",
    "# coastline_polydata = pv_from_structcube(coastline_cube)\n",
    "# # Remove all NaN's (grid squares that aren't on a coast).\n",
    "# coastline_polydata = coastline_polydata.threshold()"
   ]
  },
  {
   "cell_type": "code",
   "execution_count": null,
   "id": "c2d56c7b-b80e-488d-8a74-fe57e5dbc567",
   "metadata": {},
   "outputs": [],
   "source": [
    "def plot_projected(my_polydata, plotter=None):\n",
    "    \"\"\"Plot polydata on a given plotter\"\"\"\n",
    "    if plotter is None:\n",
    "        plotter = GeoPlotter()\n",
    "    # Add the coastline cells 'above' the data itself.\n",
    "    plotter.add_mesh(\n",
    "        coastline_polydata,\n",
    "        color=\"white\",\n",
    "        show_edges=True,\n",
    "        edge_color=\"white\",\n",
    "        radius=1.1,     # For globe plots\n",
    "        zlevel=10,       # For planar plots\n",
    "    )\n",
    "    plot_polydata = my_polydata.copy()\n",
    "    plotter.add_mesh(plot_polydata)\n",
    "    # if plotter.crs != WGS84:\n",
    "    #     # Projected plot.\n",
    "    #     plotter.camera_position = \"xy\"\n",
    "    #     backend = \"static\"\n",
    "    # else:\n",
    "    #     backend = \"pythreejs\"\n",
    "#         backend = \"static\"\n",
    "    plotter.show()  # jupyter_backend=backend)"
   ]
  },
  {
   "cell_type": "code",
   "execution_count": null,
   "id": "f41a5a31-2e00-4f39-8505-d261a4d9c053",
   "metadata": {},
   "outputs": [],
   "source": [
    "# Plot these side-by-side ...\n"
   ]
  },
  {
   "cell_type": "markdown",
   "id": "b7cb74d0-a572-4062-80f9-314676aa1740",
   "metadata": {},
   "source": [
    "## Next notebook\n",
    "See the next section : [04 - Regridding and UM data comparison](./Sec_04_Regridding.ipynb)"
   ]
  },
  {
   "cell_type": "code",
   "execution_count": null,
   "id": "1134c44e-2138-4e0f-b774-0bb7bf292fcf",
   "metadata": {},
   "outputs": [],
   "source": []
  }
 ],
 "metadata": {
  "kernelspec": {
   "display_name": "Python 3 (ipykernel)",
   "language": "python",
   "name": "python3"
  },
  "language_info": {
   "codemirror_mode": {
    "name": "ipython",
    "version": 3
   },
   "file_extension": ".py",
   "mimetype": "text/x-python",
   "name": "python",
   "nbconvert_exporter": "python",
   "pygments_lexer": "ipython3",
   "version": "3.9.16"
  },
  "toc-showmarkdowntxt": false
 },
 "nbformat": 4,
 "nbformat_minor": 5
}
