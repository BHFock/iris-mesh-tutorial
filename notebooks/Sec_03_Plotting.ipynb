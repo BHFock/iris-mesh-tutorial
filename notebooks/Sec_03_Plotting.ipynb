{
 "cells": [
  {
   "cell_type": "markdown",
   "id": "b575ede6-8433-418a-bb04-949b0ea52abe",
   "metadata": {},
   "source": [
    "# Section 3 : 3d visualisation and plotting\n",
    "\n",
    "Schema :\n",
    "  * Introduce Geovista\n",
    "  * Explain context of 3D and \"traditional\" matplotlib-based plotting"
   ]
  },
  {
   "cell_type": "markdown",
   "id": "db2305c4-585a-46eb-9bd5-a68215ea3f63",
   "metadata": {},
   "source": [
    "# 3D visualisation\n",
    "\n",
    "While LFRic data can be presented in 2D plots with a map projection, it is often more profitable way to explore it with a 3D viewer.  \n",
    "\n",
    "There are a few reasons for this :\n",
    "  1. the LFRic model grid does not follow a 2d, lat-lon aligned structure (unlike UM)\n",
    "  2. LFRic data is now tending to be too large for matplotlib-style plotting (~6 million cells)\n"
   ]
  },
  {
   "cell_type": "code",
   "execution_count": null,
   "id": "fa1f436f-44d5-4190-ae8c-83291535691b",
   "metadata": {},
   "outputs": [],
   "source": []
  },
  {
   "cell_type": "code",
   "execution_count": 14,
   "id": "0b5b0263-6a04-468f-9102-97383238e368",
   "metadata": {
    "tags": []
   },
   "outputs": [],
   "source": [
    "# Essential setup\n",
    "%matplotlib inline\n",
    "import pyvista as pv\n",
    "pv.rcParams[\"use_ipyvtk\"] = True"
   ]
  },
  {
   "cell_type": "markdown",
   "id": "1b88968a-e91c-470b-8b8e-f4333cae027e",
   "metadata": {},
   "source": [
    "### What Geovista is for\n",
    "\n",
    "  * **VTK** : highly mature 3D visualisation library (C++)\n",
    "  * **PyVista** : VTK for normal humans (in Python)\n",
    "  * **Geovista** : geolocation for PyVista\n",
    "     * map projections + transforms\n",
    "     * geolocated data and regions\n",
    "     * coastlines\n",
    "\n"
   ]
  },
  {
   "cell_type": "code",
   "execution_count": 3,
   "id": "9add492c-2a5a-4f59-ab8b-80f8f8fac8db",
   "metadata": {},
   "outputs": [],
   "source": [
    "# Import things from Geovista\n",
    "import geovista as gv\n",
    "import geovista.theme"
   ]
  },
  {
   "cell_type": "code",
   "execution_count": 4,
   "id": "40bfda98-3795-4ead-aae7-d6b607b39ee3",
   "metadata": {},
   "outputs": [],
   "source": [
    "# Copied from : https://github.com/bjlittle/geovista/blob/main/src/geovista/examples/from_2d__orca.py\n",
    "from geovista.pantry import um_orca2\n",
    "\n",
    "sample = um_orca2()"
   ]
  },
  {
   "cell_type": "code",
   "execution_count": 7,
   "id": "f6941576-760c-4d22-b0b7-4227e384ea1a",
   "metadata": {},
   "outputs": [],
   "source": [
    "# Handy routine\n",
    "\n",
    "def trial_display(xx, yy, data, title=\"\") -> None:\n",
    "    # create the mesh from the sample data\n",
    "    mesh = gv.Transform.from_2d(xx, yy, data=data)\n",
    "\n",
    "    # remove cells from the mesh with nan values\n",
    "    mesh = mesh.threshold()\n",
    "\n",
    "    # plot the mesh\n",
    "    plotter = gv.GeoPlotter()\n",
    "    sargs = dict(title=f\"{sample.name} / {sample.units}\", shadow=True)\n",
    "    plotter.add_mesh(mesh, show_edges=True, scalar_bar_args=sargs)\n",
    "    plotter.add_base_layer(texture=gv.natural_earth_1())\n",
    "    plotter.add_coastlines()\n",
    "    plotter.add_axes()\n",
    "    plotter.add_text(\n",
    "        title,\n",
    "        position=\"upper_left\",\n",
    "        font_size=10,\n",
    "        shadow=True,\n",
    "    )\n",
    "    plotter.show()"
   ]
  },
  {
   "cell_type": "markdown",
   "id": "4103669b-bf62-47c3-9392-645477453e74",
   "metadata": {},
   "source": [
    "#### Geovista basic demo : an interactive plot of ocean data"
   ]
  },
  {
   "cell_type": "code",
   "execution_count": 9,
   "id": "bf6d26c5-3363-4cc6-aa3a-c91e4cd48319",
   "metadata": {},
   "outputs": [
    {
     "name": "stderr",
     "output_type": "stream",
     "text": [
      "\u001b[0m\u001b[33m2023-01-17 15:55:21.204 ( 237.745s) [        2E7C0740]       vtkThreshold.cxx:99    WARN| vtkThreshold::ThresholdBetween was deprecated for VTK 9.1 and will be removed in a future version.\u001b[0m\n"
     ]
    },
    {
     "data": {
      "application/vnd.jupyter.widget-view+json": {
       "model_id": "3801c9baf3e14163bbedf3db6ceabc52",
       "version_major": 2,
       "version_minor": 0
      },
      "text/plain": [
       "ViewInteractiveWidget(height=768, layout=Layout(height='auto', width='100%'), width=1024)"
      ]
     },
     "metadata": {},
     "output_type": "display_data"
    }
   ],
   "source": [
    "trial_display(sample.data, sample.lats, sample.lons, \"ORCA test data\")"
   ]
  },
  {
   "cell_type": "markdown",
   "id": "9ce4f44d-be41-4f79-9895-f92171d332b7",
   "metadata": {},
   "source": [
    "sdsadas&\n",
    "\n",
    "\n"
   ]
  },
  {
   "cell_type": "markdown",
   "id": "13d0d7a8-2784-4873-bac1-31214e91ce86",
   "metadata": {},
   "source": [
    "**NOTE**\n",
    "  * Geovista is not Iris-dependent\n",
    "  * Iris does not (yet) fully integrate Geovista\n",
    "  * .. therefore user code is currently needed to bridge the two\n",
    "  * .. **but** the gap is fairly small, and this makes Geovista more generally useful\n",
    "\n",
    "\n"
   ]
  }
 ],
 "metadata": {
  "kernelspec": {
   "display_name": "Python 3 (ipykernel)",
   "language": "python",
   "name": "python3"
  },
  "language_info": {
   "codemirror_mode": {
    "name": "ipython",
    "version": 3
   },
   "file_extension": ".py",
   "mimetype": "text/x-python",
   "name": "python",
   "nbconvert_exporter": "python",
   "pygments_lexer": "ipython3",
   "version": "3.9.15"
  }
 },
 "nbformat": 4,
 "nbformat_minor": 5
}
