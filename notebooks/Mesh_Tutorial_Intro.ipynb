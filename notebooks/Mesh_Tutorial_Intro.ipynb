{
 "cells": [
  {
   "cell_type": "markdown",
   "id": "7af83b7a-1477-4505-b5ef-4801bb384a1f",
   "metadata": {},
   "source": [
    "# LFRic + Iris tutorial : Unstructured meshes"
   ]
  },
  {
   "cell_type": "markdown",
   "id": "1fb1e41a-1b09-485c-b3a9-21e7b9cee16a",
   "metadata": {},
   "source": [
    "## Important Preliminary : use + stability of notebooks\n",
    "\n",
    "A good deal of the content relies on code which is still experimental.\n",
    "We must expect that there are various outstanding problems, and things sometimes crash.\n",
    "\n",
    "A particular problem is getting things working *within notebooks*.  For that purpose, the following may be useful general notes :\n",
    "\n",
    "whenever something seems to be taking a long time with no result...\n",
    "   1. ***first*** look at \"kernel status\" in top-right of the JupyterLab notebook pane  \n",
    "       meanings as described in its mouse-over text : \n",
    "       * white circle = \"idle\" (ok, done)\n",
    "       * grey circle = \"busy\"\n",
    "       * \"electric zap\" icon = \"connecting\"  ***-- this one often means \"crashed\"***\n",
    "   2. if stuck, you can always \"restart the kernel\"  \n",
    "      (the arrow-round-a-circle icon, in controls at top left of notebook pane)  \n",
    "      but note :\n",
    "        1. this will destroy the entire session :  you need to rerun all notebook cells from the start again\n",
    "        2. after resetting, **do not attempt anything further** until the kernel state shows \"idle\" again\n",
    "   3. sometimes gets *really* stuck  \n",
    "      -- e.g. after restart, kernel status persists in \"connecting\" / \"restarting\" state  \n",
    "      In such cases, *close* the JupyterLab window + restart\n",
    "      * i.e. `$ jupyter-lab`"
   ]
  },
  {
   "cell_type": "markdown",
   "id": "a4bf9666-e64b-4fd6-9be3-1136489c41b6",
   "metadata": {},
   "source": [
    "---\n",
    "## Tutorial sections : --> individual notebooks\n",
    "   * [01 - Load and Examine some LFRic data](./Sec_01_Load_and_Examine.ipynb)\n",
    "   * [02 - Mesh concepts and Meshes in Iris](./Sec_02_Meshes.ipynb)\n",
    "   * [03 - Plotting and Visualisation](./Sec_03_Plotting.ipynb)\n",
    "   * [04 - Regridding and UM data comparison](./Sec_05_Regridding.ipynb)\n",
    "   * [05 - Regional Extraction](./Sec_04_RegionExtraction.ipynb)\n",
    "   "
   ]
  },
  {
   "cell_type": "markdown",
   "id": "5e796f9a-54a5-45f4-bee8-b93efc937315",
   "metadata": {},
   "source": [
    "## Reference : terminology (probably, a separate linked glossary ??)\n",
    "  * LFRic\n",
    "  * cubesphere\n",
    "  * mesh\n",
    "  * unstructured\n",
    "  * ugrid\n",
    "  * xios\n",
    "  * VTK\n",
    "  * geovista\n",
    "  * pyvista\n",
    "  * iris-esmf-regrid\n"
   ]
  },
  {
   "cell_type": "markdown",
   "id": "2108c1f9-472e-421d-9e31-c4b67306da94",
   "metadata": {},
   "source": [
    "# Work To Do : **TOPICS LIST**\n",
    "\n",
    "A draft list of topics for discussion.  \n",
    "NOTE : all these basically need re-casting as interactive sections lead by task questions.  \n",
    "E.G. (a) \"how can you tell this is mesh data ?\". (b) \"\n",
    "\n",
    "  1. Basics\n",
    "     * concepts\n",
    "       * unstructured (LFRic)\n",
    "       * UGRID\n",
    "     * terminology to be covered (PLUS probably, a separate glossary ? -- see above section)\n",
    "\n",
    "\n",
    "  1. Iris existing features, ***extended***\n",
    "     * cf Iris docs : https://scitools-iris.readthedocs.io/en/stable/further_topics/ugrid/operations.html#working-with-mesh-data\n",
    "     * assume basic Iris knowledge (but maybe no more)\n",
    "        * but would like to focus initially on LFRic, not UM ?\n",
    "     * BASICS ..\n",
    "       * loading\n",
    "          * BRIEFLY show UM/structured loading\n",
    "          * then LFRic -- highlight differences\n",
    "       * printing (cubes)\n",
    "          * beginnings of questions\n",
    "          * cube.mesh, cube.mesh_dim ?\n",
    "       * saving\n",
    "\n",
    "  1. plotting\n",
    "     * 3d plotting ((see beginnings of discussion section ..above))\n",
    "     * 2d plots (projections)\n",
    "\n",
    "  1. Exploring / comparing UM and LFRIc data\n",
    "       * \"back out\" to details of the differences\n",
    "          * ?MAYBE? split extra info from this section to the 2nd session (post 1st hour)\n",
    "       * cube printouts -- similarity + difference\n",
    "       * regridding\n",
    "         * cf Iris docs : https://scitools-iris.readthedocs.io/en/stable/further_topics/ugrid/operations.html#regridding  \n",
    "           (expand the example code section)\n",
    "         * Iris support (extended existing features)\n",
    "         * iris-esmf-regrid\n",
    "       * side-by-side inspection (linked 3d plots)\n",
    "\n",
    "  1. ??first hour finishes here ??\n",
    "\n",
    "  1. region extraction\n",
    "     * cf Iris docs : https://scitools-iris.readthedocs.io/en/stable/further_topics/ugrid/operations.html#region-extraction  \n",
    "       (expand the example code section)\n",
    "\n",
    "  1. zonal means via regridding\n",
    "     * possibly BONUS material?\n",
    "     * cf : https://iris-esmf-regrid.readthedocs.io/en/latest/_api_generated/esmf_regrid.experimental.unstructured_scheme.html#esmf_regrid.experimental.unstructured_scheme.MeshToGridESMFRegridder  \n",
    "       look at : `latitude`\n",
    "       \n",
    "  1. working with connectivity (API)\n",
    "     * possibly BONUS material?\n",
    "\n"
   ]
  },
  {
   "cell_type": "code",
   "execution_count": null,
   "id": "d3d77b76-90c0-4935-b667-c29a69dc4fe8",
   "metadata": {},
   "outputs": [],
   "source": [
    "# NOTE: some random changes : to check Jupytext automation"
   ]
  },
  {
   "cell_type": "code",
   "execution_count": null,
   "id": "b8346151-8bbc-4dd2-9aea-0f59a19151e1",
   "metadata": {},
   "outputs": [],
   "source": []
  }
 ],
 "metadata": {
  "kernelspec": {
   "display_name": "Python 3 (ipykernel)",
   "language": "python",
   "name": "python3"
  },
  "language_info": {
   "codemirror_mode": {
    "name": "ipython",
    "version": 3
   },
   "file_extension": ".py",
   "mimetype": "text/x-python",
   "name": "python",
   "nbconvert_exporter": "python",
   "pygments_lexer": "ipython3",
   "version": "3.9.15"
  },
  "toc-autonumbering": false,
  "toc-showcode": false,
  "toc-showmarkdowntxt": false
 },
 "nbformat": 4,
 "nbformat_minor": 5
}
