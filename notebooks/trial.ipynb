{
 "cells": [
  {
   "cell_type": "code",
   "execution_count": 13,
   "id": "cca15432-c5ab-499c-9fcc-1c0360cee032",
   "metadata": {},
   "outputs": [
    {
     "name": "stdout",
     "output_type": "stream",
     "text": [
      "trial...\n"
     ]
    }
   ],
   "source": [
    "print('trial...')"
   ]
  },
  {
   "cell_type": "code",
   "execution_count": 14,
   "id": "14eb7780-f7f2-4f08-8a6b-7906e5d206a1",
   "metadata": {
    "tags": []
   },
   "outputs": [],
   "source": [
    "# setup\n",
    "%matplotlib inline\n",
    "import pyvista as pv\n",
    "pv.rcParams[\"use_ipyvtk\"] = True"
   ]
  },
  {
   "cell_type": "code",
   "execution_count": 15,
   "id": "addc929e-5400-4f1b-91f8-e6712c799408",
   "metadata": {},
   "outputs": [],
   "source": [
    "# Trial\n",
    "\n",
    "import geovista as gv"
   ]
  },
  {
   "cell_type": "code",
   "execution_count": 16,
   "id": "81cab33d-642b-4d7e-b2b5-f60720a81f0b",
   "metadata": {},
   "outputs": [],
   "source": [
    "from geovista.pantry import um_orca2\n",
    "import geovista.theme"
   ]
  },
  {
   "cell_type": "code",
   "execution_count": 17,
   "id": "8649ebf9-b473-4e88-8416-956779188125",
   "metadata": {},
   "outputs": [],
   "source": [
    "# Copied from : https://github.com/bjlittle/geovista/blob/main/src/geovista/examples/from_2d__orca.py\n",
    "\n",
    "def trial_main() -> None:\n",
    "    # load sample data\n",
    "    sample = um_orca2()\n",
    "\n",
    "    # create the mesh from the sample data\n",
    "    mesh = gv.Transform.from_2d(sample.lons, sample.lats, data=sample.data)\n",
    "\n",
    "    # remove cells from the mesh with nan values\n",
    "    mesh = mesh.threshold()\n",
    "\n",
    "    # plot the mesh\n",
    "    plotter = gv.GeoPlotter()\n",
    "    sargs = dict(title=f\"{sample.name} / {sample.units}\", shadow=True)\n",
    "    plotter.add_mesh(mesh, show_edges=True, scalar_bar_args=sargs)\n",
    "    plotter.add_base_layer(texture=gv.natural_earth_1())\n",
    "    plotter.add_coastlines()\n",
    "    plotter.add_axes()\n",
    "    plotter.add_text(\n",
    "        \"ORCA (10m Coastlines)\",\n",
    "        position=\"upper_left\",\n",
    "        font_size=10,\n",
    "        shadow=True,\n",
    "    )\n",
    "    plotter.show()"
   ]
  },
  {
   "cell_type": "code",
   "execution_count": 18,
   "id": "9ea2cd68-f66e-41f5-b7b6-c4847e4611a0",
   "metadata": {},
   "outputs": [
    {
     "name": "stderr",
     "output_type": "stream",
     "text": [
      "\u001b[0m\u001b[33m2023-01-10 14:05:17.742 (1152.856s) [         8D12740]       vtkThreshold.cxx:99    WARN| vtkThreshold::ThresholdBetween was deprecated for VTK 9.1 and will be removed in a future version.\u001b[0m\n"
     ]
    },
    {
     "data": {
      "application/vnd.jupyter.widget-view+json": {
       "model_id": "8d3db0c01a65420d96dc0329f75b05a1",
       "version_major": 2,
       "version_minor": 0
      },
      "text/plain": [
       "ViewInteractiveWidget(height=768, layout=Layout(height='auto', width='100%'), width=1024)"
      ]
     },
     "metadata": {},
     "output_type": "display_data"
    }
   ],
   "source": [
    "trial_main()"
   ]
  },
  {
   "cell_type": "code",
   "execution_count": null,
   "id": "563b7980-4297-4f9b-92eb-40a2111d390a",
   "metadata": {},
   "outputs": [],
   "source": []
  }
 ],
 "metadata": {
  "kernelspec": {
   "display_name": "Python 3 (ipykernel)",
   "language": "python",
   "name": "python3"
  },
  "language_info": {
   "codemirror_mode": {
    "name": "ipython",
    "version": 3
   },
   "file_extension": ".py",
   "mimetype": "text/x-python",
   "name": "python",
   "nbconvert_exporter": "python",
   "pygments_lexer": "ipython3",
   "version": "3.9.15"
  },
  "toc-showcode": false,
  "toc-showmarkdowntxt": true
 },
 "nbformat": 4,
 "nbformat_minor": 5
}
