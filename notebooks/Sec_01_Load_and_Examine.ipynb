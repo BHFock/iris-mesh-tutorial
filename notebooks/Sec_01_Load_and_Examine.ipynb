{
 "cells": [
  {
   "cell_type": "markdown",
   "id": "b575ede6-8433-418a-bb04-949b0ea52abe",
   "metadata": {},
   "source": [
    "# Section 1 : Loading and Examining some LFRic data\n",
    "\n",
    "Let's dive right in by taking a look at some output file contents.\n",
    "\n",
    "**TODO: data needs to be available somewhere sensible**"
   ]
  },
  {
   "cell_type": "code",
   "execution_count": null,
   "id": "252135b3-18a5-494a-b0fc-2ab5f9fd347d",
   "metadata": {
    "tags": []
   },
   "outputs": [],
   "source": [
    "from pathlib import Path\n",
    "datadir = Path('/scratch/sworsley/lfric_data')\n",
    "datadir.exists()"
   ]
  },
  {
   "cell_type": "code",
   "execution_count": null,
   "id": "a2dad4ef-f075-4348-a805-b1d6481757b5",
   "metadata": {},
   "outputs": [],
   "source": [
    "%ls -1l {datadir}"
   ]
  },
  {
   "cell_type": "code",
   "execution_count": null,
   "id": "8464b04b-f5ab-41ad-916f-b42bea2c7fe5",
   "metadata": {},
   "outputs": [],
   "source": [
    "import iris\n",
    "iris.FUTURE.datum_support = True  # avoids some irritating warnings"
   ]
  },
  {
   "cell_type": "code",
   "execution_count": null,
   "id": "ae46d2e7-8673-4cb3-9f67-9b161b0c16a4",
   "metadata": {},
   "outputs": [],
   "source": [
    "# From these, grab one UM and one LFRic datafile, which roughly correspond\n",
    "\n",
    "um_filepth = datadir / '20210324T0000Z_um_latlon.nc'\n",
    "lfric_filepth = datadir / '20210324T0000Z_lf_ugrid.nc'"
   ]
  },
  {
   "cell_type": "markdown",
   "id": "f671cdbb-6f27-4780-a97c-1de8dd6a6b8e",
   "metadata": {
    "tags": []
   },
   "source": [
    "## Just for reference : some UM data, and what that looks like in Iris ..."
   ]
  },
  {
   "cell_type": "code",
   "execution_count": null,
   "id": "e643ca9b-4347-4458-84ad-daa7992922a4",
   "metadata": {},
   "outputs": [],
   "source": [
    "um_cubes = iris.load(um_filepth)"
   ]
  },
  {
   "cell_type": "code",
   "execution_count": null,
   "id": "387c1757-de5e-424f-a3b0-115a2f0835a1",
   "metadata": {},
   "outputs": [],
   "source": [
    "print(\"n(UM-cubes) = \", len(um_cubes))\n",
    "print(\"first 10 cubes ...\")\n",
    "um_cubes[:10]"
   ]
  },
  {
   "cell_type": "code",
   "execution_count": null,
   "id": "e21b725b-258f-45e8-9f6b-3a57c19fff12",
   "metadata": {},
   "outputs": [],
   "source": [
    "um_rh = um_cubes.extract_cube('relative_humidity')\n",
    "um_rh"
   ]
  },
  {
   "cell_type": "markdown",
   "id": "a879a924-b2ad-4928-ba84-d128a3be4c1d",
   "metadata": {},
   "source": [
    "### NOTE: loading a single cube\n",
    "You could instead load a single cube directly from the file.  \n",
    "```python\n",
    "um_rh = iris.load_cube(um_filepth, 'relative_humidity')\n",
    "```\n",
    "This is in fact rather faster, from a file like this with lots of data-variables (i.e. diagnostics)."
   ]
  },
  {
   "cell_type": "code",
   "execution_count": null,
   "id": "53d2dbf8-ae28-47d0-a5ef-ebb9e1cf2fe2",
   "metadata": {},
   "outputs": [],
   "source": []
  },
  {
   "cell_type": "markdown",
   "id": "fc957199-a772-49e6-bb4e-dbbe2c956826",
   "metadata": {},
   "source": [
    "## What's in the LFRic files ?\n",
    "\n",
    "Let's start with a quick look at a dump of the file  \n",
    " -- but not actually all of it, as there are ***dozens*** of disagnostic variables ...\n",
    " "
   ]
  },
  {
   "cell_type": "code",
   "execution_count": null,
   "id": "5cf3f75f-998d-4910-818a-8664ef22dec8",
   "metadata": {},
   "outputs": [],
   "source": [
    "!ncdump -h {lfric_filepth} | head -n 120"
   ]
  },
  {
   "cell_type": "markdown",
   "id": "f819695e-82e3-4354-9c8d-254d9132f2c9",
   "metadata": {},
   "source": [
    "The mesh metadata alone can be better viewed using the \"ugrid checker\" program, which knows how to interpret it ...\n",
    "( NOTE:  this is a public utility, also designed here in AVD : see https://github.com/pp-mo/ugrid-checks#readme )"
   ]
  },
  {
   "cell_type": "code",
   "execution_count": null,
   "id": "6467fcb5-999f-412b-92bd-7227bcbbc792",
   "metadata": {},
   "outputs": [],
   "source": [
    "!ugrid-checker -sqe {lfric_filepth} | head -n 24"
   ]
  },
  {
   "cell_type": "markdown",
   "id": "5d009754-44ac-4b09-9e02-c68ca96aa144",
   "metadata": {},
   "source": [
    "---\n",
    "\n",
    "Let's not bother any more with that : Instead, we can load it into Iris which does a reasonable job of interpreting the mesh-structured data.\n"
   ]
  },
  {
   "cell_type": "code",
   "execution_count": null,
   "id": "d2a2c581-f74a-4ada-a7a6-d472ff8b4c38",
   "metadata": {},
   "outputs": [],
   "source": [
    "# Load the LFRic single datafile \n",
    "\n",
    "from iris.experimental.ugrid.load import PARSE_UGRID_ON_LOAD\n",
    "# Note the use of the special context.  This is basically because the Iris mesh functionality is still 'experimental'\n",
    "with PARSE_UGRID_ON_LOAD.context():\n",
    "    lfric_cubes = iris.load(lfric_filepth)"
   ]
  },
  {
   "cell_type": "code",
   "execution_count": null,
   "id": "ccca09e6-fdd4-438e-a0f6-cff200aa0707",
   "metadata": {},
   "outputs": [],
   "source": [
    "print(\"n(LFRic-cubes) = \", len(lfric_cubes))\n",
    "print(\"first 10 cubes ...\")\n",
    "lfric_cubes[:10]"
   ]
  },
  {
   "cell_type": "code",
   "execution_count": null,
   "id": "76909a45-b78a-4a28-824c-b5bd00b2de3e",
   "metadata": {},
   "outputs": [],
   "source": [
    "lfric_rh = lfric_cubes.extract_cube('relative_humidity_at_screen_level')\n",
    "\n",
    "lfric_rh"
   ]
  },
  {
   "cell_type": "markdown",
   "id": "956fbb46-ab86-460d-a5da-23368f7d9c49",
   "metadata": {},
   "source": [
    "---\n",
    "Or, just to show a faster selective loading ..."
   ]
  },
  {
   "cell_type": "code",
   "execution_count": null,
   "id": "0de1b9de-82ae-4816-bbe6-dcc05d9fd74c",
   "metadata": {},
   "outputs": [],
   "source": [
    "with PARSE_UGRID_ON_LOAD.context():\n",
    "    lfric_rh = iris.load_cube(lfric_filepth, 'relative_humidity_at_screen_level')\n",
    "\n",
    "lfric_rh"
   ]
  },
  {
   "cell_type": "markdown",
   "id": "0ee9e097-b5ad-45d5-90e6-3121698af510",
   "metadata": {},
   "source": [
    "## What you initially notice about \"mesh cubes\"\n",
    "\n",
    "The cube printout has a \"Mesh\" section, which displays the mesh info.\n",
    "\n",
    "The cube itself now has some extra properties : `cube.mesh`, `cube.location` and `cube.mesh_dim()`  \n",
    "(these are otherwise all `None`)"
   ]
  },
  {
   "cell_type": "code",
   "execution_count": 54,
   "id": "0a4b655b-5c59-4f1c-9fd7-9b1a6be06989",
   "metadata": {},
   "outputs": [
    {
     "name": "stdout",
     "output_type": "stream",
     "text": [
      "cube.mesh :\n",
      "Mesh : 'Topology data of 2D unstructured mesh'\n",
      "    topology_dimension: 2\n",
      "    node\n",
      "        node_dimension: 'nMesh2d_node'\n",
      "        node coordinates\n",
      "            <AuxCoord: longitude / (degrees)  <lazy>  shape(221186,)>\n",
      "            <AuxCoord: latitude / (degrees)  <lazy>  shape(221186,)>\n",
      "    edge\n",
      "        edge_dimension: 'nMesh2d_edge'\n",
      "        edge_node_connectivity: <Connectivity: Maps every edge/link to two nodes that it connects. / (unknown)  <lazy>  shape(442368, 2)>\n",
      "        edge coordinates\n",
      "            <AuxCoord: longitude / (degrees)  <lazy>  shape(442368,)>\n",
      "            <AuxCoord: latitude / (degrees)  <lazy>  shape(442368,)>\n",
      "    face\n",
      "        face_dimension: 'nMesh2d_face'\n",
      "        face_node_connectivity: <Connectivity: Maps every face to its corner nodes. / (unknown)  <lazy>  shape(221184, 4)>\n",
      "        face coordinates\n",
      "            <AuxCoord: longitude / (degrees)  <lazy>  shape(221184,)>\n",
      "            <AuxCoord: latitude / (degrees)  <lazy>  shape(221184,)>\n",
      "    long_name: 'Topology data of 2D unstructured mesh'\n",
      "    var_name: 'Mesh2d'\n",
      "\n",
      "-------\n",
      "cube.location =  face\n",
      "1\n",
      "\n",
      "-------\n",
      "Help on method mesh_dim in module iris.cube:\n",
      "\n",
      "mesh_dim() method of iris.cube.Cube instance\n",
      "    Return the cube dimension of the mesh, if the cube has any\n",
      "    :class:`~iris.experimental.ugrid.MeshCoord`\\ s,\n",
      "    or ``None`` if it has none.\n",
      "    \n",
      "    Returns:\n",
      "    \n",
      "    * mesh_dim (int, or None):\n",
      "        the cube dimension which the cube\n",
      "        :class:`~iris.experimental.ugrid.MeshCoord`\\s map to,\n",
      "        or ``None``.\n",
      "\n",
      "mesh_dim() =  1\n"
     ]
    }
   ],
   "source": [
    "print(\"cube.mesh :\")\n",
    "print(lfric_rh.mesh)\n",
    "print(\"\\n-------\")\n",
    "print(\"cube.location = \", lfric_rh.location)\n",
    "print(lfric_rh.mesh_dim())\n",
    "print(\"\\n-------\")\n",
    "help(lfric_rh.mesh_dim)\n",
    "print(\"cube.mesh_dim() = \", lfric_rh.mesh_dim())"
   ]
  },
  {
   "cell_type": "code",
   "execution_count": null,
   "id": "c4ca996b-5851-4aa4-b21e-50b2a098d9d1",
   "metadata": {},
   "outputs": [],
   "source": []
  },
  {
   "cell_type": "markdown",
   "id": "147d28e2-51d6-4b70-a2a9-fdc21ab871ea",
   "metadata": {
    "tags": []
   },
   "source": [
    "---\n",
    "\n",
    "## Exercise: identifying mesh data\n",
    "**How, in your code, could you check whether a cube has structured or mesh-based data ?**"
   ]
  },
  {
   "cell_type": "code",
   "execution_count": 55,
   "id": "9a44dc14-e480-4812-adfe-ed236ccc5923",
   "metadata": {
    "tags": []
   },
   "outputs": [],
   "source": [
    "# (space for user commands)\n",
    "#  . . ."
   ]
  },
  {
   "cell_type": "markdown",
   "id": "9fe245d9-2427-4a0c-9757-e0670953c6fb",
   "metadata": {
    "tags": []
   },
   "source": [
    "---\n",
    "\n",
    "<details><summary><b>Sample code solution :</b> \"check whether cube has structured data ?\" <b>click to reveal</b></summary>\n",
    "\n",
    "<br>\n",
    "\n",
    "```python\n",
    "#-------------------------------\n",
    "# Utility Function\n",
    "#\n",
    "def is_meshcube(cube):\n",
    "    return cube.mesh is not None\n",
    "\n",
    "#-------------------------------\n",
    "# Testing ...\n",
    "#\n",
    "from iris.tests.stock import realistic_3d\n",
    "nonmesh_cube = realistic_3d()\n",
    "print('Cube: ', repr(nonmesh_cube), '\\n  - is_meshcube ?', is_meshcube(nonmesh_cube))\n",
    "\n",
    "print()\n",
    "from iris.tests.stock.mesh import sample_mesh_cube\n",
    "mesh_cube = sample_mesh_cube()\n",
    "print('Cube: ', repr(mesh_cube), '\\n  - is_meshcube ?', is_meshcube(mesh_cube))\n",
    "\n",
    "```\n",
    "---\n",
    "    \n",
    "**NOTE :**\n",
    "  * **Try this code**, by pasting it into a code cell + running ...\n",
    "  * try it also with the 'lfric_rh' cube\n",
    "</details>"
   ]
  },
  {
   "cell_type": "code",
   "execution_count": 56,
   "id": "bf4e7c7b-2927-44f3-8b1a-16a210d4e376",
   "metadata": {},
   "outputs": [],
   "source": [
    "# (space for user commands)\n",
    "#  . . ."
   ]
  },
  {
   "cell_type": "markdown",
   "id": "ff72e764-3609-4399-98ff-f3b9edc8d203",
   "metadata": {},
   "source": [
    "## Question : what is `cube.mesh_dim` for ?"
   ]
  },
  {
   "cell_type": "markdown",
   "id": "68109387-c4e4-466a-8f36-4b7906756205",
   "metadata": {},
   "source": [
    "<details><summary><b>Sample Answer :</b> what is cube.mesh_dim for ? <b>click to reveal</b></summary>\n",
    "It is a function which you call, returning an integer.\n",
    "<br/>The result tells you which cube dimension is the mesh dimension  -- that is, the cube dimension which indexes the individual elements of the mesh\n",
    "\n",
    "See [Iris API docs for `Cube.mesh_dim`](https://scitools-iris.readthedocs.io/en/latest/generated/api/iris/cube.html#iris.cube.Cube.mesh_dim)\n",
    "\n",
    "</details>"
   ]
  },
  {
   "cell_type": "markdown",
   "id": "ba5084c8-5299-49b3-925b-dda6753e4d3e",
   "metadata": {},
   "source": [
    "## Question : what does `cube.location` mean ?\n",
    "\n",
    "<details><summary>Sample answer : <b>click to reveal</b></summary>\n",
    "It returns a string, \"node\", \"edge\" or \"face\", indicating the type of mesh element which the cube data is mapped to.\n",
    "\n",
    "See in [Iris \"Mesh Support\" docs](https://scitools-iris.readthedocs.io/en/latest/further_topics/ugrid/data_model.html?highlight=location#the-basics)\n",
    "\n",
    "</details>"
   ]
  },
  {
   "cell_type": "markdown",
   "id": "6d04e8d9-f005-45ff-b100-a7f560211d84",
   "metadata": {},
   "source": [
    "## Additional questions to consider ...\n",
    "\n",
    "  * what does `cube.mesh_dim` do when a cube *has* no mesh ?\n",
    "        <details><summary>Sample answer : <b>click to reveal</b></summary>\n",
    "    It returns `None`.\n",
    "    </details>\n",
    "  * what happens if there is more than one mesh, or mesh dimension ?\n",
    "    <details><summary>Sample answer : <b>click to reveal</b></summary>\n",
    "    A bit of a \"trick question\" !  \n",
    "    </br>In UGRID, a data-variable can have at most <i>one</i> location and mesh.  Therefore, since each Iris cube represents a CF data-variable, it can only have one mesh, and one mesh dimension -- that of its location in the mesh.\n",
    "    </details>"
   ]
  },
  {
   "cell_type": "code",
   "execution_count": null,
   "id": "f731122b-a498-4d40-87b7-911c31725970",
   "metadata": {},
   "outputs": [],
   "source": []
  },
  {
   "cell_type": "code",
   "execution_count": null,
   "id": "075a6e1b-e188-4867-a101-1e7f06661072",
   "metadata": {},
   "outputs": [],
   "source": []
  }
 ],
 "metadata": {
  "kernelspec": {
   "display_name": "Python 3 (ipykernel)",
   "language": "python",
   "name": "python3"
  },
  "language_info": {
   "codemirror_mode": {
    "name": "ipython",
    "version": 3
   },
   "file_extension": ".py",
   "mimetype": "text/x-python",
   "name": "python",
   "nbconvert_exporter": "python",
   "pygments_lexer": "ipython3",
   "version": "3.9.15"
  }
 },
 "nbformat": 4,
 "nbformat_minor": 5
}
