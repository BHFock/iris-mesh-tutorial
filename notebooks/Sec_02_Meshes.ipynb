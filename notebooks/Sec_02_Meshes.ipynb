{
 "cells": [
  {
   "cell_type": "markdown",
   "id": "b575ede6-8433-418a-bb04-949b0ea52abe",
   "metadata": {},
   "source": [
    "# Section 2 : Mesh Concepts, and the LFRic mesh\n",
    "\n",
    "A Mesh is a way of describing spatial regions, which may also have data values associated to them.\n",
    "\n",
    "Iris uses the [UGRID](http://ugrid-conventions.github.io/ugrid-conventions/) conventions encoding standard as its basis for representing meshes.  \n",
    "UGRID is an extension of the [CF Conventions](https://cfconventions.org/Data/cf-conventions/cf-conventions-1.10/cf-conventions.html).  It prescribes a CF-compatible way of recording meshes and mesh data in NetCDF files.  \n",
    "\n",
    "We will briefly explain some UGRID concepts, and then go on to show how this looks in Iris (some of which you've already seen).  \n",
    "For a more thorough discussion, see the [Iris Mesh Data documentation pages](https://scitools-iris.readthedocs.io/en/latest/further_topics/ugrid/data_model.html#)"
   ]
  },
  {
   "cell_type": "markdown",
   "id": "9eb91b8d-1ecf-42a1-acd8-e2945f8fa9d3",
   "metadata": {
    "tags": []
   },
   "source": [
    "## Basic constructions\n",
    "\n",
    "UGRID can describe spatial **points**, **lines** and (polygonal) **faces**.  \n",
    "\n",
    "Appropriate data can be associated with any of these -- e.g. sampled values at cell corners (points), \n",
    "or average values over each cell region (faces).\n",
    "\n",
    "UGRID's permitted element types are :\n",
    "  * **node** - a point in space, defined by some M coordinate values\n",
    "  * **edge** - a line between 2 end nodes\n",
    "  * **face** - a polygon with some N nodes as its corners\n",
    "\n",
    "Thus, \"edges\" and \"faces\" are defined in terms of \"nodes\".  \n",
    "A **mesh** contains -\n",
    "  * arrays of coordinates which define its **nodes**, plus _optionally_ ..\n",
    "  * optional node-number arrays which add **edges** and/or **faces**, by listing the nodes which define them (i.e. their ends or corners)\n",
    "\n",
    "In addition, edges and faces can have associated coordinate values.\n",
    "These are independent of the nodes defining line-ends/face-vertices, and represent an additional associated\n",
    "spatial location for each element, often used to represent something like a mid-point."
   ]
  },
  {
   "cell_type": "markdown",
   "id": "03f019ca-89ff-48ab-b712-fd6a5ef9505b",
   "metadata": {
    "tags": []
   },
   "source": [
    "Extra Notes: \n",
    "  * a file can contain multiple meshes.  Each is self-contained.\n",
    "  * a file will contain a dimension mapping each component defined by a mesh,  \n",
    "    e.g. a node dimension and a face dimension.\n",
    "  * other types of component are also possible and may be present (more rarely).  \n",
    "    ( See full specs for details. )  \n"
   ]
  },
  {
   "cell_type": "markdown",
   "id": "0bcc11cf-3ba8-45d5-82f1-d2cfa392e3cf",
   "metadata": {},
   "source": [
    "### Construction of an abstract Mesh in Iris\n",
    "This is too complex to cover in detail here.  \n",
    "For those interested, this is explained in the bonus notebook [\"mesh_from_numbers.ipynb\"](./mesh_from_numbers.ipynb)."
   ]
  },
  {
   "cell_type": "markdown",
   "id": "a081493d-8587-4f90-b0e2-95ee0d1cefde",
   "metadata": {},
   "source": [
    "## Actual LFRic meshes\n",
    "\n",
    "The most common usage (at least in LFRic output), is to have a mesh which defines nodes + faces, \n",
    "plus data variables mapped to the face components.\n",
    "\n",
    "Here is an example of what that looks like :--"
   ]
  },
  {
   "cell_type": "markdown",
   "id": "74267854-e345-43ad-bc7d-cdde69f3043b",
   "metadata": {},
   "source": [
    "![Picture of nodes and faces](LFRic_mesh.svg)"
   ]
  },
  {
   "cell_type": "markdown",
   "id": "6ffd2393-1d94-47f1-b2ed-33eea856495a",
   "metadata": {},
   "source": [
    "This diagram demonstrates the relationship between face-numbers, node-numbers and node coordinates.\n",
    "Note that no _edges_ are shown here :  In UGRID, and Iris, mesh faces do not depend on edges, but are built only from nodes.\n",
    "\n",
    "Technically, the LFRic mesh is a \"**cubesphere**\".  \n",
    "  * the surface of the globe is divided into 6 equal 'panels', analagous to the 6 faces of a cube\n",
    "  * each panel is subdivided into N * N cells, giving 6.N^2 total cells\n",
    "  * the above view shows the neighbourhood of one cubesphere 'corner'\n",
    "\n",
    "**We will next load some actual LFRic data and look at how the mesh appears in Iris.**"
   ]
  },
  {
   "cell_type": "markdown",
   "id": "39769832-3d50-43f7-81a8-a4a2ea960888",
   "metadata": {},
   "source": [
    "---\n",
    "\n",
    "### Fetch some sample unstructured data\n",
    "As used in Section#01\n",
    "\n",
    "**Import the data-access routine `lfric_rh_singletime_2d` from `testdata_fetching`, and call it to get a single two-dimensional test cube.**"
   ]
  },
  {
   "cell_type": "code",
   "execution_count": 4,
   "id": "04f149fd-c8b1-46ee-b70f-3e3615d2f089",
   "metadata": {},
   "outputs": [],
   "source": [
    "from testdata_fetching import lfric_rh_singletime_2d\n",
    "lfric_rh = lfric_rh_singletime_2d()"
   ]
  },
  {
   "cell_type": "markdown",
   "id": "830162b4-d4a9-443f-bdbc-278e726b0a64",
   "metadata": {},
   "source": [
    "**Print the cube, and its `cube.mesh`**"
   ]
  },
  {
   "cell_type": "code",
   "execution_count": 5,
   "id": "85fb7d09-8e69-4bd9-bfff-13efaa0aa44a",
   "metadata": {},
   "outputs": [
    {
     "name": "stdout",
     "output_type": "stream",
     "text": [
      "relative_humidity_at_screen_level / (1) (-- : 13824)\n",
      "    Mesh coordinates:\n",
      "        latitude                            x\n",
      "        longitude                           x\n",
      "    Mesh:\n",
      "        name                            Topology data of 2D unstructured mesh\n",
      "        location                        face\n",
      "    Scalar coordinates:\n",
      "        forecast_period                 21600 seconds\n",
      "        forecast_reference_time         2021-03-24 00:00:00\n",
      "        time                            2021-03-24 06:00:00\n",
      "    Cell methods:\n",
      "        point                           time\n",
      "    Attributes:\n",
      "        Conventions                     'CF-1.7'\n",
      "        description                     'Created by xios'\n",
      "        interval_operation              '6 h'\n",
      "        interval_write                  '6 h'\n",
      "        online_operation                'instant'\n",
      "        title                           'Created by xios'\n",
      "\n",
      "----\n",
      "\n",
      "Mesh : 'Topology data of 2D unstructured mesh'\n",
      "    topology_dimension: 2\n",
      "    node\n",
      "        node_dimension: 'nMesh2d_node'\n",
      "        node coordinates\n",
      "            <AuxCoord: longitude / (degrees)  <lazy>  shape(13826,)>\n",
      "            <AuxCoord: latitude / (degrees)  <lazy>  shape(13826,)>\n",
      "    edge\n",
      "        edge_dimension: 'nMesh2d_edge'\n",
      "        edge_node_connectivity: <Connectivity: Maps every edge/link to two nodes that it connects. / (unknown)  <lazy>  shape(27648, 2)>\n",
      "        edge coordinates\n",
      "            <AuxCoord: longitude / (degrees)  <lazy>  shape(27648,)>\n",
      "            <AuxCoord: latitude / (degrees)  <lazy>  shape(27648,)>\n",
      "    face\n",
      "        face_dimension: 'nMesh2d_face'\n",
      "        face_node_connectivity: <Connectivity: Maps every face to its corner nodes. / (unknown)  <lazy>  shape(13824, 4)>\n",
      "        face coordinates\n",
      "            <AuxCoord: longitude / (degrees)  <lazy>  shape(13824,)>\n",
      "            <AuxCoord: latitude / (degrees)  <lazy>  shape(13824,)>\n",
      "    long_name: 'Topology data of 2D unstructured mesh'\n",
      "    var_name: 'Mesh2d'\n"
     ]
    }
   ],
   "source": [
    "print(lfric_rh)\n",
    "print('\\n----\\n')\n",
    "print(lfric_rh.mesh)"
   ]
  },
  {
   "cell_type": "markdown",
   "id": "84bde850-e688-4eed-901c-1259ac7716da",
   "metadata": {},
   "source": [
    "### Details of the Iris mesh content\n",
    "\n",
    "How Iris represents the mesh is not usually very relevant to working with cube data in Iris, nor to plotting it with PyVista.  \n",
    "So that is beyond the scope of an introductory tutorial.  \n",
    "\n",
    "However, for those interested, there is a bonus notebook showing some of this : [\"Mesh_Connectivities_demo.ipynb\"](./Mesh_Connectivities_demo.ipynb)\n"
   ]
  },
  {
   "cell_type": "markdown",
   "id": "84112b6b-6505-4369-9126-867ef26ac081",
   "metadata": {},
   "source": [
    "### Plotting mesh data : minimal 3D visualisation of a 2D cube"
   ]
  },
  {
   "cell_type": "markdown",
   "id": "007b8b1b-b1b2-45fb-9060-cee89859ef9e",
   "metadata": {},
   "source": [
    "This is just a quick preview of the next section (Sec_03_Plotting), to show a basic 3D plot.\n"
   ]
  },
  {
   "cell_type": "markdown",
   "id": "cb07a2dd-d4ee-4d56-9880-035531adfe22",
   "metadata": {
    "incorrectly_encoded_metadata": "jp-MarkdownHeadingCollapsed=true",
    "tags": []
   },
   "source": [
    "**Convert a cube to PyVista form for plotting**\n",
    "\n",
    "There are as yet *no* facilities in Iris for plotting unstructed cubes.  \n",
    "We can do that using PyVista, but we need first to convert the data to a PyVista format.  \n",
    "\n",
    "So first,  \n",
    "**Import the routine** `pv_conversions.pv_from_lfric_cube` **(provided here in the tutorial).  \n",
    "And call that..**\n"
   ]
  },
  {
   "cell_type": "code",
   "execution_count": null,
   "id": "e19c3641-28c2-47eb-a830-ee78d3d3a4a2",
   "metadata": {},
   "outputs": [],
   "source": [
    "from pv_conversions import pv_from_lfric_cube\n",
    "\n",
    "pv = pv_from_lfric_cube(rh_t0)"
   ]
  },
  {
   "cell_type": "markdown",
   "id": "ca4735d7-8bc9-4336-a039-d365a601f7f6",
   "metadata": {},
   "source": [
    "This produces a PyVista [\"PolyData\" object](https://docs.pyvista.org/api/core/_autosummary/pyvista.PolyData.html#pyvista-polydata).  \n",
    "Which is a thing we can plot, by simply calling its `.plot()` method."
   ]
  },
  {
   "cell_type": "markdown",
   "id": "d3d465b3-74f6-4433-9dd0-d210d8a6823a",
   "metadata": {},
   "source": [
    "---\n",
    "\n",
    "**Call the `plot` routine of the PolyData object.  An output should appear.**"
   ]
  },
  {
   "cell_type": "code",
   "execution_count": null,
   "id": "7605c046-e028-48be-b15d-3cd5405cb9f1",
   "metadata": {},
   "outputs": [],
   "source": [
    "pv.plot()"
   ]
  },
  {
   "cell_type": "markdown",
   "id": "cc4cd1c5-9725-41ff-af60-1cded398347a",
   "metadata": {},
   "source": [
    "**NOTES**:\n",
    "  * this plot is interactive -- try dragging to rotate, and the mouse scroll-wheel to zoom\n",
    "  * this obviously causes some clutter and uses up some space (e.g. you can't easily scroll past it)  \n",
    "    * To ***remove*** a plot output, use \"Clear Output\" from the \"Edit\" menu (or from right-click on the cell)\n",
    "  * alternatively, set the keyword `jupyter_backend='static'` in the command, for output as a plain image\n",
    "\n",
    "There are a lot more keywords available to [the `PolyData.plot()` method](https://docs.pyvista.org/api/core/_autosummary/pyvista.PolyData.plot.html), but it is not ideal to overcomplicate these calls.  \n",
    "Finer control is better achieved in a different ways :  See more detail on plotting in [the Plotting section](./Sec_03_Plotting.ipynb)."
   ]
  },
  {
   "cell_type": "markdown",
   "id": "4e96a9b0-1e62-47a3-b565-c6da620f7f7e",
   "metadata": {},
   "source": [
    "## Next notebook\n",
    "See the next section : [03 - Plotting and Visualisation](./Sec_03_Plotting.ipynb)"
   ]
  },
  {
   "cell_type": "code",
   "execution_count": null,
   "id": "12005e21-9a61-44a2-85c1-01d11da5ade3",
   "metadata": {},
   "outputs": [],
   "source": []
  }
 ],
 "metadata": {
  "kernelspec": {
   "display_name": "Python 3 (ipykernel)",
   "language": "python",
   "name": "python3"
  },
  "language_info": {
   "codemirror_mode": {
    "name": "ipython",
    "version": 3
   },
   "file_extension": ".py",
   "mimetype": "text/x-python",
   "name": "python",
   "nbconvert_exporter": "python",
   "pygments_lexer": "ipython3",
   "version": "3.9.16"
  },
  "toc-autonumbering": true,
  "toc-showmarkdowntxt": false
 },
 "nbformat": 4,
 "nbformat_minor": 5
}
