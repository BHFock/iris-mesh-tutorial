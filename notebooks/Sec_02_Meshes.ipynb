{
 "cells": [
  {
   "cell_type": "markdown",
   "id": "b575ede6-8433-418a-bb04-949b0ea52abe",
   "metadata": {},
   "source": [
    "# Section 2 : Mesh Concepts, and the LFRic mesh\n",
    "\n",
    "A Mesh is a way of describing spatial regions, which may also have data values associated to them.\n",
    "\n",
    "Iris uses the [UGRID](http://ugrid-conventions.github.io/ugrid-conventions/) conventions encoding standard as its basis for representing meshes.  \n",
    "UGRID is an extension of the [CF Conventions](https://cfconventions.org/Data/cf-conventions/cf-conventions-1.10/cf-conventions.html).  It prescribes a CF-compatible way of recording meshes and mesh data in NetCDF files.  \n",
    "\n",
    "We will briefly explain some UGRID concepts, and then go on to show how this looks in Iris (some of which you've already seen).  \n",
    "For a more thorough discussion, see the [Iris Mesh Data documentation pages](https://scitools-iris.readthedocs.io/en/latest/further_topics/ugrid/data_model.html#)"
   ]
  },
  {
   "cell_type": "markdown",
   "id": "9eb91b8d-1ecf-42a1-acd8-e2945f8fa9d3",
   "metadata": {
    "tags": []
   },
   "source": [
    "## Basic constructions\n",
    "\n",
    "UGRID can describe spatial **points**, **lines** and (polygonal) **faces**.  \n",
    "\n",
    "Appropriate data can be associated with any of these -- e.g. sampled values at cell corners (points), \n",
    "or average values over each cell region (faces).\n",
    "\n",
    "UGRID's permitted element types are :\n",
    "  * **node** - a point in space, defined by some M coordinate values\n",
    "  * **edge** - a line between 2 end nodes\n",
    "  * **face** - a polygon with some N nodes as its corners\n",
    "\n",
    "Thus, \"edges\" and \"faces\" are defined in terms of \"nodes\".  \n",
    "A **mesh** contains -\n",
    "  * arrays of coordinates which define its **nodes**, plus _optionally_ ..\n",
    "  * optional node-number arrays which add **edges** and/or **faces**, by listing the nodes which define them (i.e. their ends or corners)\n",
    "\n",
    "In addition, edges and faces can have associated coordinate values.\n",
    "These are independent of the nodes defining line-ends/face-vertices, and represent an additional associated\n",
    "spatial location for each element, often used to represent something like a mid-point."
   ]
  },
  {
   "cell_type": "markdown",
   "id": "03f019ca-89ff-48ab-b712-fd6a5ef9505b",
   "metadata": {
    "tags": []
   },
   "source": [
    "Extra Notes: \n",
    "  * a file can contain multiple meshes.  Each is self-contained.\n",
    "  * a file will contain a dimension mapping each component defined by a mesh,  \n",
    "    e.g. a node dimension and a face dimension.\n",
    "  * other types of component are also possible and may be present (more rarely).  \n",
    "    ( See full specs for details. )  \n"
   ]
  },
  {
   "cell_type": "markdown",
   "id": "67097ed0-347e-4a0a-bb97-f9bdb3735be5",
   "metadata": {},
   "source": [
    "## Actual LFRic meshes\n",
    "\n",
    "The most common usage (at least in LFRic output), is to have a mesh which defines nodes + faces, \n",
    "plus data variables mapped to the face components.\n",
    "\n",
    "Here is an example of what that looks like :--"
   ]
  },
  {
   "cell_type": "markdown",
   "id": "1b45ca85-04e7-4ee5-90aa-66b67dae74ee",
   "metadata": {},
   "source": [
    "![Picture of nodes and faces](ugrid_variable_faces.svg)"
   ]
  },
  {
   "cell_type": "markdown",
   "id": "0833a2e0-5be6-4fd9-a3b9-b7f6592dd0b8",
   "metadata": {},
   "source": [
    "**NOTE** that, in the above, the faces (polygons) have different numbers of corners.\n",
    "\n",
    "This does not happen in current LFRic data : the mesh is a \"cubesphere\" (see later images), and all cells have four corners."
   ]
  },
  {
   "cell_type": "code",
   "execution_count": 2,
   "id": "ae46d2e7-8673-4cb3-9f67-9b161b0c16a4",
   "metadata": {},
   "outputs": [],
   "source": [
    "# Get sample files, as used in Section#01\n",
    "\n",
    "from pathlib import Path\n",
    "datadir = Path('/scratch/sworsley/lfric_data')\n",
    "\n",
    "import iris\n",
    "from iris.experimental.ugrid.load import PARSE_UGRID_ON_LOAD\n",
    "iris.FUTURE.datum_support = True  # avoids some irritating warnings\n",
    "\n",
    "um_filepth = datadir / '20210324T0000Z_um_latlon.nc'\n",
    "lfric_filepth = datadir / '20210324T0000Z_lf_ugrid.nc'"
   ]
  },
  {
   "cell_type": "code",
   "execution_count": 3,
   "id": "58096462-eb63-48fe-9975-5eb3ce770228",
   "metadata": {},
   "outputs": [],
   "source": [
    "with PARSE_UGRID_ON_LOAD.context():\n",
    "    lfric_rh = iris.load_cube(lfric_filepth, 'relative_humidity_at_screen_level')\n",
    "    # Rename this cube, to make it clear wich model this came from.\n",
    "    lfric_rh.rename('LFRic Rh data')"
   ]
  },
  {
   "cell_type": "code",
   "execution_count": 4,
   "id": "b11528dd-28ed-4f5d-8ad4-6f1244add851",
   "metadata": {},
   "outputs": [
    {
     "name": "stdout",
     "output_type": "stream",
     "text": [
      "LFRic Rh data / (1)                 (time: 24; -- : 221184)\n",
      "    Dimension coordinates:\n",
      "        time                             x        -\n",
      "    Mesh coordinates:\n",
      "        latitude                         -        x\n",
      "        longitude                        -        x\n",
      "    Auxiliary coordinates:\n",
      "        forecast_period                  x        -\n",
      "    Mesh:\n",
      "        name                        Topology data of 2D unstructured mesh\n",
      "        location                    face\n",
      "    Scalar coordinates:\n",
      "        forecast_reference_time     2021-03-24 00:00:00\n",
      "    Cell methods:\n",
      "        point                       time\n",
      "    Attributes:\n",
      "        Conventions                 'CF-1.7'\n",
      "        description                 'Created by xios'\n",
      "        interval_operation          '6 h'\n",
      "        interval_write              '6 h'\n",
      "        online_operation            'instant'\n",
      "        title                       'Created by xios'\n",
      "\n",
      "----\n",
      "\n",
      "Mesh : 'Topology data of 2D unstructured mesh'\n",
      "    topology_dimension: 2\n",
      "    node\n",
      "        node_dimension: 'nMesh2d_node'\n",
      "        node coordinates\n",
      "            <AuxCoord: longitude / (degrees)  <lazy>  shape(221186,)>\n",
      "            <AuxCoord: latitude / (degrees)  <lazy>  shape(221186,)>\n",
      "    edge\n",
      "        edge_dimension: 'nMesh2d_edge'\n",
      "        edge_node_connectivity: <Connectivity: Maps every edge/link to two nodes that it connects. / (unknown)  <lazy>  shape(442368, 2)>\n",
      "        edge coordinates\n",
      "            <AuxCoord: longitude / (degrees)  <lazy>  shape(442368,)>\n",
      "            <AuxCoord: latitude / (degrees)  <lazy>  shape(442368,)>\n",
      "    face\n",
      "        face_dimension: 'nMesh2d_face'\n",
      "        face_node_connectivity: <Connectivity: Maps every face to its corner nodes. / (unknown)  <lazy>  shape(221184, 4)>\n",
      "        face coordinates\n",
      "            <AuxCoord: longitude / (degrees)  <lazy>  shape(221184,)>\n",
      "            <AuxCoord: latitude / (degrees)  <lazy>  shape(221184,)>\n",
      "    long_name: 'Topology data of 2D unstructured mesh'\n",
      "    var_name: 'Mesh2d'\n"
     ]
    }
   ],
   "source": [
    "print(lfric_rh)\n",
    "print('\\n----\\n')\n",
    "print(lfric_rh.mesh)"
   ]
  },
  {
   "cell_type": "code",
   "execution_count": null,
   "id": "dc6d9a07-cf28-4ada-b7fe-6dc65a5ed94b",
   "metadata": {},
   "outputs": [],
   "source": []
  },
  {
   "cell_type": "markdown",
   "id": "84bde850-e688-4eed-901c-1259ac7716da",
   "metadata": {},
   "source": [
    "### Todo : examine mesh content + demonstrate APIs"
   ]
  },
  {
   "cell_type": "markdown",
   "id": "84112b6b-6505-4369-9126-867ef26ac081",
   "metadata": {},
   "source": [
    "## Plotting mesh data : minimal 3D visualisation of a 2D cube"
   ]
  },
  {
   "cell_type": "markdown",
   "id": "007b8b1b-b1b2-45fb-9060-cee89859ef9e",
   "metadata": {},
   "source": [
    "First, slice the cube to get the first timestep only  \n",
    "  -- as we can only (easily) plot a 2d cube.\n",
    "\n",
    "**Ex: Put this in a new cube variable, which is our 2D cube.**\n",
    "<details><summary>Sample code solution : <b>click to reveal</b></summary>\n",
    "\n",
    "```python\n",
    "rh_t0 = lfric_rh[0]\n",
    "```\n",
    "</details>"
   ]
  },
  {
   "cell_type": "code",
   "execution_count": 5,
   "id": "52077e4a-ca12-4c50-b5ff-9d9d135958f7",
   "metadata": {},
   "outputs": [],
   "source": [
    "rh_t0 = lfric_rh[0]"
   ]
  },
  {
   "cell_type": "markdown",
   "id": "cb07a2dd-d4ee-4d56-9880-035531adfe22",
   "metadata": {
    "incorrectly_encoded_metadata": "jp-MarkdownHeadingCollapsed=true",
    "tags": []
   },
   "source": [
    "### Convert a cube to PyVista form for plotting\n",
    "\n",
    "There are as yet *no* facilities in Iris for plotting unstructed cubes.  \n",
    "We can do that using PyVista, but we need first to convert the data to a PyVista format.  \n",
    "\n",
    "So first,  \n",
    "**Ex: import the routine `pv_from_lfric_cube` from the package `pv_conversions` (provided here in the tutorial).**\n",
    "<details><summary>Sample code solution : <b>click to reveal</b></summary>\n",
    "\n",
    "```python\n",
    "from pv_conversions import pv_from_lfric_cube\n",
    "```\n",
    "</details>"
   ]
  },
  {
   "cell_type": "code",
   "execution_count": 6,
   "id": "42ac9d45-d716-41c8-a899-c40a3ef56897",
   "metadata": {},
   "outputs": [],
   "source": [
    "from pv_conversions import pv_from_lfric_cube"
   ]
  },
  {
   "cell_type": "markdown",
   "id": "488ddeb5-0149-41df-aa13-996646f321bc",
   "metadata": {},
   "source": [
    "**Ex: now call that function, passing it our 2D RH cube, to get a PyVista object.**\n",
    "<details><summary>Sample code solution : <b>click to reveal</b></summary>\n",
    "\n",
    "```python\n",
    "pv = pv_from_lfric_cube(rh_t0)\n",
    "```\n",
    "</details>"
   ]
  },
  {
   "cell_type": "code",
   "execution_count": 7,
   "id": "7d6a7e9d-3e6c-424e-a00e-a02794221f71",
   "metadata": {},
   "outputs": [],
   "source": [
    "pv = pv_from_lfric_cube(rh_t0)"
   ]
  },
  {
   "cell_type": "markdown",
   "id": "ca4735d7-8bc9-4336-a039-d365a601f7f6",
   "metadata": {},
   "source": [
    "This produces a PyVista [\"PolyData\" object](https://docs.pyvista.org/api/core/_autosummary/pyvista.PolyData.html#pyvista-polydata).  \n",
    "Which is a thing we can plot.  \n",
    "\n",
    "**Now just print that + see what it looks like ...**\n",
    "<details><summary>Sample code solution : <b>click to reveal</b></summary>\n",
    "\n",
    "```python\n",
    "pv\n",
    "```\n",
    "</details>"
   ]
  },
  {
   "cell_type": "code",
   "execution_count": 8,
   "id": "93b95c3f-373e-4b4f-b38a-cfcaa4bce0eb",
   "metadata": {},
   "outputs": [
    {
     "data": {
      "text/html": [
       "<table><tr><th>Header</th><th>Data Arrays</th></tr><tr><td>\n",
       "<table>\n",
       "<tr><th>PolyData</th><th>Information</th></tr>\n",
       "<tr><td>N Cells</td><td>221184</td></tr>\n",
       "<tr><td>N Points</td><td>221186</td></tr>\n",
       "<tr><td>N Strips</td><td>0</td></tr>\n",
       "<tr><td>X Bounds</td><td>-1.000e+00, 1.000e+00</td></tr>\n",
       "<tr><td>Y Bounds</td><td>-1.000e+00, 1.000e+00</td></tr>\n",
       "<tr><td>Z Bounds</td><td>-1.000e+00, 1.000e+00</td></tr>\n",
       "<tr><td>N Arrays</td><td>4</td></tr>\n",
       "</table>\n",
       "\n",
       "</td><td>\n",
       "<table>\n",
       "<tr><th>Name</th><th>Field</th><th>Type</th><th>N Comp</th><th>Min</th><th>Max</th></tr>\n",
       "<tr><td><b>LFRic Rh data</b></td><td>Cells</td><td>float64</td><td>1</td><td>1.966e+00</td><td>1.850e+02</td></tr>\n",
       "<tr><td>gvCRS</td><td>Fields</td><td><U821</td><td>1</td><td>nan</td><td>nan</td></tr>\n",
       "<tr><td>gvRadius</td><td>Fields</td><td>float64</td><td>1</td><td>1.000e+00</td><td>1.000e+00</td></tr>\n",
       "<tr><td>gvName</td><td>Fields</td><td><U13</td><td>1</td><td>nan</td><td>nan</td></tr>\n",
       "</table>\n",
       "\n",
       "</td></tr> </table>"
      ],
      "text/plain": [
       "PolyData (0x7fed28867f40)\n",
       "  N Cells:\t221184\n",
       "  N Points:\t221186\n",
       "  N Strips:\t0\n",
       "  X Bounds:\t-1.000e+00, 1.000e+00\n",
       "  Y Bounds:\t-1.000e+00, 1.000e+00\n",
       "  Z Bounds:\t-1.000e+00, 1.000e+00\n",
       "  N Arrays:\t4"
      ]
     },
     "execution_count": 8,
     "metadata": {},
     "output_type": "execute_result"
    }
   ],
   "source": [
    "pv"
   ]
  },
  {
   "cell_type": "markdown",
   "id": "72e7d5ef-7e44-4784-bafa-2851ddd9c9a5",
   "metadata": {},
   "source": [
    "***TODO:*** some notes here on what the detail means ?"
   ]
  },
  {
   "cell_type": "markdown",
   "id": "49ae0367-cfde-46e0-bba5-be66747a7b1b",
   "metadata": {},
   "source": [
    "( Note: like `Cube`s + `CubeList`s, these `PolyData` objects are provided with a specific visible within the Jupyter notebooks.  This is displayed when you just enter the variable in a cell.  \n",
    "You can also use \"print(x)\" to display the standard string representation of the object, but usually the notebook-style output is a bit more useful. )"
   ]
  },
  {
   "cell_type": "markdown",
   "id": "df146952-dbef-449f-9cb7-c291471573fa",
   "metadata": {},
   "source": [
    "### Create a plotter, and display 3D visualisation\n",
    "\n",
    "Finally, we will plot the 'PolyData' object via PyVista.  \n",
    "This requires a few additional steps ...\n",
    "\n",
    "First, we need a [PyVista \"plotter\"](https://docs.pyvista.org/api/plotting/_autosummary/pyvista.Plotter.html#pyvista.Plotter) object to display things in 3D.  \n",
    "Since our data is geo-located, we will use a special type of plotter from [GeoVista](https://github.com/bjlittle/geovista#philisophy) for this.\n",
    "\n",
    "**Import the class `GeoPlotter` from the `geovista` package, and create one** (with no arguments)\n",
    "<details><summary>Sample code solution : <b>click to reveal</b></summary>\n",
    "\n",
    "```python\n",
    "from geovista import GeoPlotter\n",
    "plotter = GeoPlotter()\n",
    "```\n",
    "</details>"
   ]
  },
  {
   "cell_type": "code",
   "execution_count": 9,
   "id": "ed772994-07e2-4e63-a957-96a444c21caa",
   "metadata": {},
   "outputs": [],
   "source": [
    "from geovista import GeoPlotter\n",
    "plotter = GeoPlotter()"
   ]
  },
  {
   "cell_type": "markdown",
   "id": "ec7a03fa-8228-4e68-8022-f84195b882d9",
   "metadata": {},
   "source": [
    "Call the plotter `add_mesh` function, passing in our PolyData object with the Rh cube data in it.  \n",
    "( **N.B.** don't worry about the object which this passes back -- just discard it ).\n",
    "<details><summary>Sample code solution : <b>click to reveal</b></summary>\n",
    "\n",
    "```python\n",
    "_ = plotter.add_mesh(pv)\n",
    "```\n",
    "</details>"
   ]
  },
  {
   "cell_type": "code",
   "execution_count": 10,
   "id": "ccb731e2-eb0d-4962-addc-c7a7c55aa940",
   "metadata": {},
   "outputs": [],
   "source": [
    "_ = plotter.add_mesh(pv)"
   ]
  },
  {
   "cell_type": "markdown",
   "id": "10e054ff-d318-4257-9d63-e7182688cfc4",
   "metadata": {},
   "source": [
    "Now simply plot this, by calling the plotter function \"show\" (with no args).\n",
    "<details><summary>Sample code solution : <b>click to reveal</b></summary>\n",
    "\n",
    "```python\n",
    "plotter.show()\n",
    "```\n",
    "</details>"
   ]
  },
  {
   "cell_type": "markdown",
   "id": "595dd3a8-e7b2-42a4-a498-16e1d40e734a",
   "metadata": {},
   "source": [
    "**NOTES**:\n",
    "  * this operation currently generates a warning message, which however can be ignored\n",
    "  * it is interactive, so it causes some clutter and uses up some space.  \n",
    "    To remove plot outputs, use \"Clear Output\" from the \"Edit\" menu (or from right-click on the cell)"
   ]
  },
  {
   "cell_type": "code",
   "execution_count": 11,
   "id": "4de414d0-ea77-4e26-8637-2b66b5ee2ffc",
   "metadata": {},
   "outputs": [
    {
     "name": "stderr",
     "output_type": "stream",
     "text": [
      "ERROR:root:Attempt to use a texture buffer exceeding your hardware's limits. This can happen when trying to color by cell data with a large dataset. Hardware limit is 65536 values while 442368 was requested.\n",
      "\u001b[0m\u001b[31m2023-01-18 15:56:48.890 (   3.499s) [        7E818740]   vtkTextureObject.cxx:1025   ERR| vtkTextureObject (0x55af818cf340): Attempt to use a texture buffer exceeding your hardware's limits. This can happen when trying to color by cell data with a large dataset. Hardware limit is 65536 values while 442368 was requested.\u001b[0m\n"
     ]
    },
    {
     "data": {
      "application/vnd.jupyter.widget-view+json": {
       "model_id": "6e12e65f7e254560b9ab2f080eb6a22f",
       "version_major": 2,
       "version_minor": 0
      },
      "text/plain": [
       "ViewInteractiveWidget(height=768, layout=Layout(height='auto', width='100%'), width=1024)"
      ]
     },
     "metadata": {},
     "output_type": "display_data"
    }
   ],
   "source": [
    "plotter.show()"
   ]
  },
  {
   "cell_type": "markdown",
   "id": "c35ea604-5df8-4fc0-89be-8d2b1caf3bec",
   "metadata": {},
   "source": [
    "**Some odd notes:**\n",
    "  * By default, `plotter.show()` opens an interactive window : **you can rotate and zoom it with the mouse**.\n",
    "    * you can instead generate static output (try `interactive=False`)\n",
    "  * VTK/PyVista doesn't use plot \"types\".  \n",
    "    Instead, you add meshes to a plotter + can subsequently control the presentation.\n",
    "  * GeoVista can also produce more familiar 2D plots (see on ...)\n"
   ]
  },
  {
   "cell_type": "markdown",
   "id": "4300fe76-0124-4920-878f-d760ec18d004",
   "metadata": {},
   "source": [
    "***TODO:*** can suggest some of these as follow-on exercises"
   ]
  },
  {
   "cell_type": "markdown",
   "id": "0dc9bf0b-fceb-4df1-9f2c-b3b493351164",
   "metadata": {},
   "source": [
    "# Comparing UM and LFRic fields"
   ]
  },
  {
   "cell_type": "code",
   "execution_count": 12,
   "id": "075a6e1b-e188-4867-a101-1e7f06661072",
   "metadata": {},
   "outputs": [
    {
     "data": {
      "text/html": [
       "\n",
       "<style>\n",
       "  a.iris {\n",
       "      text-decoration: none !important;\n",
       "  }\n",
       "  table.iris {\n",
       "      white-space: pre;\n",
       "      border: 1px solid;\n",
       "      border-color: #9c9c9c;\n",
       "      font-family: monaco, monospace;\n",
       "  }\n",
       "  th.iris {\n",
       "      background: #303f3f;\n",
       "      color: #e0e0e0;\n",
       "      border-left: 1px solid;\n",
       "      border-color: #9c9c9c;\n",
       "      font-size: 1.05em;\n",
       "      min-width: 50px;\n",
       "      max-width: 125px;\n",
       "  }\n",
       "  tr.iris :first-child {\n",
       "      border-right: 1px solid #9c9c9c !important;\n",
       "  }\n",
       "  td.iris-title {\n",
       "      background: #d5dcdf;\n",
       "      border-top: 1px solid #9c9c9c;\n",
       "      font-weight: bold;\n",
       "  }\n",
       "  .iris-word-cell {\n",
       "      text-align: left !important;\n",
       "      white-space: pre;\n",
       "  }\n",
       "  .iris-subheading-cell {\n",
       "      padding-left: 2em !important;\n",
       "  }\n",
       "  .iris-inclusion-cell {\n",
       "      padding-right: 1em !important;\n",
       "  }\n",
       "  .iris-panel-body {\n",
       "      padding-top: 0px;\n",
       "  }\n",
       "  .iris-panel-title {\n",
       "      padding-left: 3em;\n",
       "  }\n",
       "  .iris-panel-title {\n",
       "      margin-top: 7px;\n",
       "  }\n",
       "</style>\n",
       "<table class=\"iris\" id=\"140656021732368\">\n",
       "    <tr class=\"iris\">\n",
       "<th class=\"iris iris-word-cell\">Relative Humidity (%)</th>\n",
       "<th class=\"iris iris-word-cell\">time</th>\n",
       "<th class=\"iris iris-word-cell\">latitude</th>\n",
       "<th class=\"iris iris-word-cell\">longitude</th>\n",
       "</tr>\n",
       "    <tr class=\"iris\">\n",
       "<td class=\"iris-word-cell iris-subheading-cell\">Shape</td>\n",
       "<td class=\"iris iris-inclusion-cell\">24</td>\n",
       "<td class=\"iris iris-inclusion-cell\">480</td>\n",
       "<td class=\"iris iris-inclusion-cell\">640</td>\n",
       "</tr>\n",
       "    <tr class=\"iris\">\n",
       "    <td class=\"iris-title iris-word-cell\">Dimension coordinates</td>\n",
       "    <td class=\"iris-title\"></td>\n",
       "    <td class=\"iris-title\"></td>\n",
       "    <td class=\"iris-title\"></td>\n",
       "</tr>\n",
       "<tr class=\"iris\">\n",
       "    <td class=\"iris-word-cell iris-subheading-cell\">\ttime</td>\n",
       "    <td class=\"iris-inclusion-cell\">x</td>\n",
       "    <td class=\"iris-inclusion-cell\">-</td>\n",
       "    <td class=\"iris-inclusion-cell\">-</td>\n",
       "</tr>\n",
       "<tr class=\"iris\">\n",
       "    <td class=\"iris-word-cell iris-subheading-cell\">\tlatitude</td>\n",
       "    <td class=\"iris-inclusion-cell\">-</td>\n",
       "    <td class=\"iris-inclusion-cell\">x</td>\n",
       "    <td class=\"iris-inclusion-cell\">-</td>\n",
       "</tr>\n",
       "<tr class=\"iris\">\n",
       "    <td class=\"iris-word-cell iris-subheading-cell\">\tlongitude</td>\n",
       "    <td class=\"iris-inclusion-cell\">-</td>\n",
       "    <td class=\"iris-inclusion-cell\">-</td>\n",
       "    <td class=\"iris-inclusion-cell\">x</td>\n",
       "</tr>\n",
       "<tr class=\"iris\">\n",
       "    <td class=\"iris-title iris-word-cell\">Auxiliary coordinates</td>\n",
       "    <td class=\"iris-title\"></td>\n",
       "    <td class=\"iris-title\"></td>\n",
       "    <td class=\"iris-title\"></td>\n",
       "</tr>\n",
       "<tr class=\"iris\">\n",
       "    <td class=\"iris-word-cell iris-subheading-cell\">\tforecast_period</td>\n",
       "    <td class=\"iris-inclusion-cell\">x</td>\n",
       "    <td class=\"iris-inclusion-cell\">-</td>\n",
       "    <td class=\"iris-inclusion-cell\">-</td>\n",
       "</tr>\n",
       "<tr class=\"iris\">\n",
       "    <td class=\"iris-title iris-word-cell\">Scalar coordinates</td>\n",
       "    <td class=\"iris-title\"></td>\n",
       "    <td class=\"iris-title\"></td>\n",
       "    <td class=\"iris-title\"></td>\n",
       "</tr>\n",
       "<tr class=\"iris\">\n",
       "    <td class=\"iris-word-cell iris-subheading-cell\">\tforecast_reference_time</td>\n",
       "    <td class=\"iris-word-cell\" colspan=\"3\">2021-03-24 00:00:00</td>\n",
       "</tr>\n",
       "<tr class=\"iris\">\n",
       "    <td class=\"iris-word-cell iris-subheading-cell\">\theight</td>\n",
       "    <td class=\"iris-word-cell\" colspan=\"3\">1.5 m</td>\n",
       "</tr>\n",
       "<tr class=\"iris\">\n",
       "    <td class=\"iris-title iris-word-cell\">Attributes</td>\n",
       "    <td class=\"iris-title\"></td>\n",
       "    <td class=\"iris-title\"></td>\n",
       "    <td class=\"iris-title\"></td>\n",
       "</tr>\n",
       "<tr class=\"iris\">\n",
       "    <td class=\"iris-word-cell iris-subheading-cell\">\tConventions</td>\n",
       "    <td class=\"iris-word-cell\" colspan=\"3\">&#x27;CF-1.7&#x27;</td>\n",
       "</tr>\n",
       "<tr class=\"iris\">\n",
       "    <td class=\"iris-word-cell iris-subheading-cell\">\tSTASH</td>\n",
       "    <td class=\"iris-word-cell\" colspan=\"3\">m01s03i245</td>\n",
       "</tr>\n",
       "<tr class=\"iris\">\n",
       "    <td class=\"iris-word-cell iris-subheading-cell\">\tsource</td>\n",
       "    <td class=\"iris-word-cell\" colspan=\"3\">&#x27;Data from Met Office Unified Model&#x27;</td>\n",
       "</tr>\n",
       "<tr class=\"iris\">\n",
       "    <td class=\"iris-word-cell iris-subheading-cell\">\tum_version</td>\n",
       "    <td class=\"iris-word-cell\" colspan=\"3\">&#x27;12.2&#x27;</td>\n",
       "</tr>\n",
       "</table>\n",
       "        "
      ],
      "text/plain": [
       "<iris 'Cube' of relative_humidity / (%) (time: 24; latitude: 480; longitude: 640)>"
      ]
     },
     "execution_count": 12,
     "metadata": {},
     "output_type": "execute_result"
    }
   ],
   "source": [
    "um_rh = iris.load_cube(um_filepth, 'relative_humidity')\n",
    "# Rename so we are clear which model this came from\n",
    "lfric_rh.rename('UM Rh data')\n",
    "um_rh"
   ]
  },
  {
   "cell_type": "code",
   "execution_count": 13,
   "id": "e0caec24-1a80-4803-9a31-f988a66bf479",
   "metadata": {},
   "outputs": [],
   "source": [
    "from pv_conversions import pv_from_um_cube\n",
    "um_pv = pv_from_um_cube(um_rh[0])"
   ]
  },
  {
   "cell_type": "markdown",
   "id": "340dc7ef-cb16-451d-bd72-bb818b419605",
   "metadata": {},
   "source": [
    "## Simple side-by-side plotting : UM vs LFRic data"
   ]
  },
  {
   "cell_type": "code",
   "execution_count": 14,
   "id": "6307bf61-0840-433b-b581-393570d6a09f",
   "metadata": {},
   "outputs": [],
   "source": [
    "my_plotter = GeoPlotter(shape=(1, 2))\n",
    "\n",
    "my_plotter.subplot(0, 0)\n",
    "my_plotter.add_coastlines()\n",
    "my_plotter.add_mesh(um_pv, show_edges=True, cmap='magma')\n",
    "\n",
    "my_plotter.subplot(0, 1)\n",
    "my_plotter.add_coastlines()\n",
    "my_plotter.add_mesh(pv, show_edges=True, cmap='magma')\n",
    "\n",
    "my_plotter.link_views()\n",
    "my_plotter.camera.position = [0, -2.5, 2.5]"
   ]
  },
  {
   "cell_type": "code",
   "execution_count": null,
   "id": "773ec049-1e91-4a4f-9f5f-129b35e32d0a",
   "metadata": {},
   "outputs": [],
   "source": [
    "my_plotter.show()\n"
   ]
  },
  {
   "cell_type": "markdown",
   "id": "2ca8a3bf-1a8a-49a3-83b0-79937d7436f6",
   "metadata": {},
   "source": [
    "## A handy hint : how to record + re-use a camera view"
   ]
  },
  {
   "cell_type": "code",
   "execution_count": null,
   "id": "60cb570f-c9c6-46a9-87ca-5c78d46a5cf5",
   "metadata": {},
   "outputs": [],
   "source": [
    "viewpoint = my_plotter.camera_position\n",
    "viewpoint"
   ]
  },
  {
   "cell_type": "code",
   "execution_count": null,
   "id": "9fee8dbd-836d-4351-9a28-cea74e6958a1",
   "metadata": {},
   "outputs": [],
   "source": [
    "# This pre-loaded position focusses on a cubesphere \"corner\" in the middle East\n",
    "viewpoint = [\n",
    "    (0.9550352379408845, 0.9378277371075855, 0.9637172962958191),\n",
    "    (0.0, 0.0, 0.0),\n",
    "    (-0.3202752464164225, -0.5004192729867466, 0.8043657860428399)\n",
    "]"
   ]
  },
  {
   "cell_type": "code",
   "execution_count": null,
   "id": "28e3867e-da05-48a8-903e-164a0471c360",
   "metadata": {},
   "outputs": [],
   "source": [
    "# Plot just the LFRIC data with the same view ...\n",
    "new_plotter = GeoPlotter()\n",
    "new_plotter.add_coastlines()\n",
    "new_plotter.add_mesh(pv, show_edges=True)\n",
    "new_plotter.camera_position = viewpoint\n",
    "new_plotter.show()"
   ]
  },
  {
   "cell_type": "code",
   "execution_count": null,
   "id": "6c429dec-0df0-4576-823b-686e697f6a77",
   "metadata": {},
   "outputs": [],
   "source": []
  },
  {
   "cell_type": "code",
   "execution_count": null,
   "id": "29748973-4438-46ea-8893-d38aa51aeadd",
   "metadata": {},
   "outputs": [],
   "source": [
    "# WIP : projected 2D plotting"
   ]
  },
  {
   "cell_type": "code",
   "execution_count": null,
   "id": "0ed1f051-821c-4b03-9c4a-8fdc5d824bdb",
   "metadata": {},
   "outputs": [],
   "source": [
    "# GeoVista coastline projection not yet supported. Use a representation of coastlines as Cube data instead.\n",
    "\n",
    "# import requests\n",
    "# r = requests.get(\"https://github.com/SciTools-incubator/presentations/raw/main/ngms_champions_2022-04-12/coastline_grid.nc\")\n",
    "# open(\"coastline_grid.nc\", \"wb\").write(r.content)\n",
    "\n",
    "# coastline_cube = iris.load_cube(\"coastline_grid.nc\")\n",
    "\n",
    "# coastline_polydata = pv_from_structcube(coastline_cube)\n",
    "# # Remove all NaN's (grid squares that aren't on a coast).\n",
    "# coastline_polydata = coastline_polydata.threshold()"
   ]
  },
  {
   "cell_type": "code",
   "execution_count": null,
   "id": "12b77c35-bccf-453a-aecc-8c2d3d477759",
   "metadata": {},
   "outputs": [],
   "source": [
    "def plot_projected(my_polydata, plotter=None):\n",
    "    \"\"\"Plot polydata on a given plotter\"\"\"\n",
    "    if plotter is None:\n",
    "        plotter = GeoPlotter()\n",
    "    # Add the coastline cells 'above' the data itself.\n",
    "    plotter.add_mesh(\n",
    "        coastline_polydata,\n",
    "        color=\"white\",\n",
    "        show_edges=True,\n",
    "        edge_color=\"white\",\n",
    "        radius=1.1,     # For globe plots\n",
    "        zlevel=10,       # For planar plots\n",
    "    )\n",
    "    plot_polydata = my_polydata.copy()\n",
    "    plotter.add_mesh(plot_polydata)\n",
    "    # if plotter.crs != WGS84:\n",
    "    #     # Projected plot.\n",
    "    #     plotter.camera_position = \"xy\"\n",
    "    #     backend = \"static\"\n",
    "    # else:\n",
    "    #     backend = \"pythreejs\"\n",
    "#         backend = \"static\"\n",
    "    plotter.show()  # jupyter_backend=backend)"
   ]
  },
  {
   "cell_type": "code",
   "execution_count": null,
   "id": "64445361-645f-4c01-8f1d-a0c2317a5c3b",
   "metadata": {},
   "outputs": [],
   "source": [
    "# Plot these side-by-side ...\n"
   ]
  }
 ],
 "metadata": {
  "kernelspec": {
   "display_name": "Python 3 (ipykernel)",
   "language": "python",
   "name": "python3"
  },
  "language_info": {
   "codemirror_mode": {
    "name": "ipython",
    "version": 3
   },
   "file_extension": ".py",
   "mimetype": "text/x-python",
   "name": "python",
   "nbconvert_exporter": "python",
   "pygments_lexer": "ipython3",
   "version": "3.9.15"
  },
  "toc-autonumbering": true,
  "toc-showmarkdowntxt": false
 },
 "nbformat": 4,
 "nbformat_minor": 5
}
