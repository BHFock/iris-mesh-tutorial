{
 "cells": [
  {
   "cell_type": "markdown",
   "id": "b575ede6-8433-418a-bb04-949b0ea52abe",
   "metadata": {},
   "source": [
    "# Section 2 : Mesh Concepts, and the LFRic mesh\n",
    "\n",
    "A Mesh is a way of describing spatial regions, which may also have data values associated to them.\n",
    "\n",
    "Iris uses the [UGRID](http://ugrid-conventions.github.io/ugrid-conventions/) conventions encoding standard as its basis for representing meshes.  \n",
    "UGRID is an extension of the [CF Conventions](https://cfconventions.org/Data/cf-conventions/cf-conventions-1.10/cf-conventions.html).  It prescribes a CF-compatible way of recording meshes and mesh data in NetCDF files.  \n",
    "\n",
    "We will briefly explain some UGRID concepts, and then go on to show how this looks in Iris (some of which you've already seen).  \n",
    "For a more thorough discussion, see the [Iris Mesh Data documentation pages](https://scitools-iris.readthedocs.io/en/latest/further_topics/ugrid/data_model.html#)"
   ]
  },
  {
   "cell_type": "markdown",
   "id": "9eb91b8d-1ecf-42a1-acd8-e2945f8fa9d3",
   "metadata": {
    "tags": []
   },
   "source": [
    "## Basic constructions\n",
    "\n",
    "UGRID can describe spatial **points**, **lines** and (polygonal) **faces**.  \n",
    "\n",
    "Appropriate data can be associated with any of these -- e.g. sampled values at cell corners (points), \n",
    "or average values over each cell region (faces).\n",
    "\n",
    "UGRID's permitted element types are :\n",
    "  * **node** - a point in space, defined by some M coordinate values\n",
    "  * **edge** - a line between 2 end nodes\n",
    "  * **face** - a polygon with some N nodes as its corners\n",
    "\n",
    "Thus, \"edges\" and \"faces\" are defined in terms of \"nodes\".  \n",
    "A **mesh** contains -\n",
    "  * arrays of coordinates which define its **nodes**, plus _optionally_ ..\n",
    "  * optional node-number arrays which add **edges** and/or **faces**, by listing the nodes which define them (i.e. their ends or corners)\n",
    "\n",
    "In addition, edges and faces can have associated coordinate values.\n",
    "These are independent of the nodes defining line-ends/face-vertices, and represent an additional associated\n",
    "spatial location for each element, often used to represent something like a mid-point."
   ]
  },
  {
   "cell_type": "markdown",
   "id": "03f019ca-89ff-48ab-b712-fd6a5ef9505b",
   "metadata": {
    "tags": []
   },
   "source": [
    "Extra Notes: \n",
    "  * a file can contain multiple meshes.  Each is self-contained.\n",
    "  * a file will contain a dimension mapping each component defined by a mesh,  \n",
    "    e.g. a node dimension and a face dimension.\n",
    "  * other types of component are also possible and may be present (more rarely).  \n",
    "    ( See full specs for details. )  \n"
   ]
  },
  {
   "cell_type": "markdown",
   "id": "67097ed0-347e-4a0a-bb97-f9bdb3735be5",
   "metadata": {},
   "source": [
    "## Actual LFRic meshes\n",
    "\n",
    "The most common usage (at least in LFRic output), is to have a mesh which defines nodes + faces, \n",
    "plus data variables mapped to the face components.\n",
    "\n",
    "Here is an example of what that looks like :--"
   ]
  },
  {
   "cell_type": "markdown",
   "id": "74267854-e345-43ad-bc7d-cdde69f3043b",
   "metadata": {},
   "source": [
    "![Picture of nodes and faces](LFRic_mesh.svg)"
   ]
  },
  {
   "cell_type": "markdown",
   "id": "131494d4-6aa6-4093-a1f5-8b497fbe5bda",
   "metadata": {},
   "source": [
    "This demonstrates the relationship between face-numbers, node-numbers and node coordinates.\n",
    "Note that no _edges_ are shown here :  In UGRID, and Iris, mesh faces do not depend on edges, but are built only from nodes."
   ]
  },
  {
   "cell_type": "markdown",
   "id": "39769832-3d50-43f7-81a8-a4a2ea960888",
   "metadata": {},
   "source": [
    "---\n",
    "\n",
    "## Fetch some sample unstructured data, as used in Section#01\n",
    "\n",
    "**Import the data-access routine `lfric_rh_singletime_2d` from `testdata_fetching`, and call it to get a single two-dimensional test cube.**"
   ]
  },
  {
   "cell_type": "code",
   "execution_count": 1,
   "id": "eff85024-6efb-4195-9dd2-157c254f5125",
   "metadata": {},
   "outputs": [],
   "source": [
    "## TODO : remove later -- this bit is temporary, for initial testing with C48 data\n",
    "from testdata_fetching import switch_data\n",
    "switch_data(use_newer_smaller_c48_data=True)"
   ]
  },
  {
   "cell_type": "code",
   "execution_count": 2,
   "id": "04f149fd-c8b1-46ee-b70f-3e3615d2f089",
   "metadata": {},
   "outputs": [],
   "source": [
    "from testdata_fetching import lfric_rh_singletime_2d\n",
    "lfric_rh = lfric_rh_singletime_2d()"
   ]
  },
  {
   "cell_type": "markdown",
   "id": "830162b4-d4a9-443f-bdbc-278e726b0a64",
   "metadata": {},
   "source": [
    "**Print the cube, and its `cube.mesh`**"
   ]
  },
  {
   "cell_type": "code",
   "execution_count": 3,
   "id": "85fb7d09-8e69-4bd9-bfff-13efaa0aa44a",
   "metadata": {},
   "outputs": [
    {
     "name": "stdout",
     "output_type": "stream",
     "text": [
      "relative_humidity_at_screen_level / (1) (-- : 13824)\n",
      "    Mesh coordinates:\n",
      "        latitude                            x\n",
      "        longitude                           x\n",
      "    Mesh:\n",
      "        name                            Topology data of 2D unstructured mesh\n",
      "        location                        face\n",
      "    Scalar coordinates:\n",
      "        forecast_period                 21600 seconds\n",
      "        forecast_reference_time         2021-03-24 00:00:00\n",
      "        time                            2021-03-24 06:00:00\n",
      "    Cell methods:\n",
      "        point                           time\n",
      "    Attributes:\n",
      "        Conventions                     'CF-1.7'\n",
      "        description                     'Created by xios'\n",
      "        interval_operation              '6 h'\n",
      "        interval_write                  '6 h'\n",
      "        online_operation                'instant'\n",
      "        title                           'Created by xios'\n",
      "\n",
      "----\n",
      "\n",
      "Mesh : 'Topology data of 2D unstructured mesh'\n",
      "    topology_dimension: 2\n",
      "    node\n",
      "        node_dimension: 'nMesh2d_node'\n",
      "        node coordinates\n",
      "            <AuxCoord: longitude / (degrees)  <lazy>  shape(13826,)>\n",
      "            <AuxCoord: latitude / (degrees)  <lazy>  shape(13826,)>\n",
      "    edge\n",
      "        edge_dimension: 'nMesh2d_edge'\n",
      "        edge_node_connectivity: <Connectivity: Maps every edge/link to two nodes that it connects. / (unknown)  <lazy>  shape(27648, 2)>\n",
      "        edge coordinates\n",
      "            <AuxCoord: longitude / (degrees)  <lazy>  shape(27648,)>\n",
      "            <AuxCoord: latitude / (degrees)  <lazy>  shape(27648,)>\n",
      "    face\n",
      "        face_dimension: 'nMesh2d_face'\n",
      "        face_node_connectivity: <Connectivity: Maps every face to its corner nodes. / (unknown)  <lazy>  shape(13824, 4)>\n",
      "        face coordinates\n",
      "            <AuxCoord: longitude / (degrees)  <lazy>  shape(13824,)>\n",
      "            <AuxCoord: latitude / (degrees)  <lazy>  shape(13824,)>\n",
      "    long_name: 'Topology data of 2D unstructured mesh'\n",
      "    var_name: 'Mesh2d'\n"
     ]
    }
   ],
   "source": [
    "print(lfric_rh)\n",
    "print('\\n----\\n')\n",
    "print(lfric_rh.mesh)"
   ]
  },
  {
   "cell_type": "code",
   "execution_count": 4,
   "id": "22d1c6be-dbc2-4873-a1c2-d8f5159532bb",
   "metadata": {},
   "outputs": [
    {
     "data": {
      "application/vnd.jupyter.widget-view+json": {
       "model_id": "2d12e203547845bd92d58648d09c473c",
       "version_major": 2,
       "version_minor": 0
      },
      "text/plain": [
       "ViewInteractiveWidget(height=768, layout=Layout(height='auto', width='100%'), width=1024)"
      ]
     },
     "metadata": {},
     "output_type": "display_data"
    }
   ],
   "source": [
    "# TODO: work this up for user input\n",
    "\n",
    "# Simply plot that ..\n",
    "from pv_conversions import pv_from_lfric_cube\n",
    "pv = pv_from_lfric_cube(lfric_rh)\n",
    "pv.plot() #jupyter_backend='static')"
   ]
  },
  {
   "cell_type": "code",
   "execution_count": null,
   "id": "32ed8732-64fe-41fa-847d-ee8a9d4b9653",
   "metadata": {},
   "outputs": [],
   "source": []
  },
  {
   "cell_type": "markdown",
   "id": "84bde850-e688-4eed-901c-1259ac7716da",
   "metadata": {},
   "source": [
    "### Investigate the Iris mesh content\n",
    "\n",
    "Details of how the Iris mesh is constructed are not usually relevant to working with the cube data in Iris, nor to plotting it with PyVista.  \n",
    "So that is beyond the scope of an introductory tutorial.  \n",
    "\n",
    "However, for those interested, bonus material is provided showing some of this [in this additional notebook](./Mesh_Connectivities_demo.ipynb)\n"
   ]
  },
  {
   "cell_type": "markdown",
   "id": "84112b6b-6505-4369-9126-867ef26ac081",
   "metadata": {},
   "source": [
    "## Plotting mesh data : minimal 3D visualisation of a 2D cube"
   ]
  },
  {
   "cell_type": "markdown",
   "id": "007b8b1b-b1b2-45fb-9060-cee89859ef9e",
   "metadata": {},
   "source": [
    "First, slice the cube to get the first timestep only  \n",
    "  -- as we can only (easily) plot a 2d cube.\n",
    "\n",
    "**Ex: Put this in a new cube variable, which is our 2D cube.**\n",
    "<details><summary>Sample code solution : <b>click to reveal</b></summary>\n",
    "\n",
    "```python\n",
    "rh_t0 = lfric_rh[0]\n",
    "```\n",
    "</details>"
   ]
  },
  {
   "cell_type": "code",
   "execution_count": 5,
   "id": "52077e4a-ca12-4c50-b5ff-9d9d135958f7",
   "metadata": {},
   "outputs": [],
   "source": [
    "from testdata_fetching import lfric_rh_singletime_2d\n",
    "\n",
    "rh_t0 = lfric_rh_singletime_2d()"
   ]
  },
  {
   "cell_type": "markdown",
   "id": "cb07a2dd-d4ee-4d56-9880-035531adfe22",
   "metadata": {
    "incorrectly_encoded_metadata": "jp-MarkdownHeadingCollapsed=true",
    "tags": []
   },
   "source": [
    "### Convert a cube to PyVista form for plotting\n",
    "\n",
    "There are as yet *no* facilities in Iris for plotting unstructed cubes.  \n",
    "We can do that using PyVista, but we need first to convert the data to a PyVista format.  \n",
    "\n",
    "So first,  \n",
    "**Ex: import the routine `pv_from_lfric_cube` from the package `pv_conversions` (provided here in the tutorial).**\n",
    "<details><summary>Sample code solution : <b>click to reveal</b></summary>\n",
    "\n",
    "```python\n",
    "from pv_conversions import pv_from_lfric_cube\n",
    "```\n",
    "</details>"
   ]
  },
  {
   "cell_type": "code",
   "execution_count": 6,
   "id": "42ac9d45-d716-41c8-a899-c40a3ef56897",
   "metadata": {},
   "outputs": [],
   "source": [
    "from pv_conversions import pv_from_lfric_cube"
   ]
  },
  {
   "cell_type": "markdown",
   "id": "488ddeb5-0149-41df-aa13-996646f321bc",
   "metadata": {},
   "source": [
    "**Ex: now call that function, passing it our 2D RH cube, to get a PyVista object.**\n",
    "<details><summary>Sample code solution : <b>click to reveal</b></summary>\n",
    "\n",
    "```python\n",
    "pv = pv_from_lfric_cube(rh_t0)\n",
    "```\n",
    "</details>"
   ]
  },
  {
   "cell_type": "code",
   "execution_count": 7,
   "id": "7d6a7e9d-3e6c-424e-a00e-a02794221f71",
   "metadata": {},
   "outputs": [],
   "source": [
    "pv = pv_from_lfric_cube(rh_t0)"
   ]
  },
  {
   "cell_type": "markdown",
   "id": "ca4735d7-8bc9-4336-a039-d365a601f7f6",
   "metadata": {},
   "source": [
    "This produces a PyVista [\"PolyData\" object](https://docs.pyvista.org/api/core/_autosummary/pyvista.PolyData.html#pyvista-polydata).  \n",
    "Which is a thing we can plot.  \n",
    "\n",
    "**Now just print that + see what it looks like ...**\n",
    "<details><summary>Sample code solution : <b>click to reveal</b></summary>\n",
    "\n",
    "```python\n",
    "pv\n",
    "```\n",
    "</details>"
   ]
  },
  {
   "cell_type": "code",
   "execution_count": 8,
   "id": "cff3ad67-894c-4d37-8336-4be3058956d1",
   "metadata": {},
   "outputs": [
    {
     "data": {
      "text/html": [
       "<table><tr><th>Header</th><th>Data Arrays</th></tr><tr><td>\n",
       "<table>\n",
       "<tr><th>PolyData</th><th>Information</th></tr>\n",
       "<tr><td>N Cells</td><td>13824</td></tr>\n",
       "<tr><td>N Points</td><td>13826</td></tr>\n",
       "<tr><td>N Strips</td><td>0</td></tr>\n",
       "<tr><td>X Bounds</td><td>-1.000e+00, 1.000e+00</td></tr>\n",
       "<tr><td>Y Bounds</td><td>-1.000e+00, 1.000e+00</td></tr>\n",
       "<tr><td>Z Bounds</td><td>-1.000e+00, 1.000e+00</td></tr>\n",
       "<tr><td>N Arrays</td><td>4</td></tr>\n",
       "</table>\n",
       "\n",
       "</td><td>\n",
       "<table>\n",
       "<tr><th>Name</th><th>Field</th><th>Type</th><th>N Comp</th><th>Min</th><th>Max</th></tr>\n",
       "<tr><td><b>relative_humidity_at_screen_level</b></td><td>Cells</td><td>float64</td><td>1</td><td>3.518e+00</td><td>1.812e+02</td></tr>\n",
       "<tr><td>gvCRS</td><td>Fields</td><td><U821</td><td>1</td><td>nan</td><td>nan</td></tr>\n",
       "<tr><td>gvRadius</td><td>Fields</td><td>float64</td><td>1</td><td>1.000e+00</td><td>1.000e+00</td></tr>\n",
       "<tr><td>gvName</td><td>Fields</td><td><U33</td><td>1</td><td>nan</td><td>nan</td></tr>\n",
       "</table>\n",
       "\n",
       "</td></tr> </table>"
      ],
      "text/plain": [
       "PolyData (0x7f38dd1d6700)\n",
       "  N Cells:\t13824\n",
       "  N Points:\t13826\n",
       "  N Strips:\t0\n",
       "  X Bounds:\t-1.000e+00, 1.000e+00\n",
       "  Y Bounds:\t-1.000e+00, 1.000e+00\n",
       "  Z Bounds:\t-1.000e+00, 1.000e+00\n",
       "  N Arrays:\t4"
      ]
     },
     "execution_count": 8,
     "metadata": {},
     "output_type": "execute_result"
    }
   ],
   "source": [
    "pv"
   ]
  },
  {
   "cell_type": "markdown",
   "id": "72e7d5ef-7e44-4784-bafa-2851ddd9c9a5",
   "metadata": {},
   "source": [
    "***TODO:*** some notes here on what the detail means ?"
   ]
  },
  {
   "cell_type": "markdown",
   "id": "49ae0367-cfde-46e0-bba5-be66747a7b1b",
   "metadata": {},
   "source": [
    "( Note: like `Cube`s + `CubeList`s, these `PolyData` objects are provided with a specific visible within the Jupyter notebooks.  This is displayed when you just enter the variable in a cell.  \n",
    "You can also use \"print(x)\" to display the standard string representation of the object, but usually the notebook-style output is a bit more useful. )"
   ]
  },
  {
   "cell_type": "markdown",
   "id": "d3d465b3-74f6-4433-9dd0-d210d8a6823a",
   "metadata": {},
   "source": [
    "---\n",
    "### Quick 3d plotting\n",
    "\n",
    "For a really quick, basic plot, you can display a PolyData as a VTK view with PyVista, by simply calling its `.plot` method.\n",
    "\n",
    "**Call the `plot` routine of the PolyData object.  An output should appear.**"
   ]
  },
  {
   "cell_type": "code",
   "execution_count": 9,
   "id": "7605c046-e028-48be-b15d-3cd5405cb9f1",
   "metadata": {},
   "outputs": [
    {
     "data": {
      "application/vnd.jupyter.widget-view+json": {
       "model_id": "83cabd3957334cb9a28f982de29f2664",
       "version_major": 2,
       "version_minor": 0
      },
      "text/plain": [
       "ViewInteractiveWidget(height=768, layout=Layout(height='auto', width='100%'), width=1024)"
      ]
     },
     "metadata": {},
     "output_type": "display_data"
    }
   ],
   "source": [
    "pv.plot()"
   ]
  },
  {
   "cell_type": "markdown",
   "id": "595dd3a8-e7b2-42a4-a498-16e1d40e734a",
   "metadata": {},
   "source": [
    "**NOTES**:\n",
    "  * this plot is interactive -- try dragging to rotate, and the mouse scroll-wheel to zoom\n",
    "  * this obviously causes some clutter and uses up some space (e.g. you can't easily scroll past it)  \n",
    "    * To ***remove*** a plot output, use \"Clear Output\" from the \"Edit\" menu (or from right-click on the cell)\n",
    "  * alternatively, set the keyword `jupyter_backend='static'` in the command, for output as a plain image\n",
    "\n",
    "There are a lot more keywords available to [the `PolyData.plot()` method](https://docs.pyvista.org/api/core/_autosummary/pyvista.PolyData.plot.html), but it is not ideal to overcomplicate these calls.  :  \n",
    "Finer control is better achieved in a different ways :  See more detail on plotting in [the Plotting section](./Sec_03_Plotting.ipynb).\n"
   ]
  },
  {
   "cell_type": "markdown",
   "id": "df146952-dbef-449f-9cb7-c291471573fa",
   "metadata": {
    "tags": []
   },
   "source": [
    "### Create a plotter, and display 3D visualisation\n",
    "\n",
    "Finally, we will plot the 'PolyData' object via PyVista.  \n",
    "This requires a few additional steps ...\n",
    "\n",
    "First, we need a [PyVista \"plotter\"](https://docs.pyvista.org/api/plotting/_autosummary/pyvista.Plotter.html#pyvista.Plotter) object to display things in 3D.  \n",
    "Since our data is geo-located, we will use a special type of plotter from [GeoVista](https://github.com/bjlittle/geovista#philisophy) for this.\n",
    "\n",
    "**Import the class `GeoPlotter` from the `geovista` package, and create one** (with no arguments)\n",
    "<details><summary>Sample code solution : <b>click to reveal</b></summary>\n",
    "\n",
    "```python\n",
    "from geovista import GeoPlotter\n",
    "plotter = GeoPlotter()\n",
    "```\n",
    "</details>"
   ]
  },
  {
   "cell_type": "code",
   "execution_count": null,
   "id": "ed772994-07e2-4e63-a957-96a444c21caa",
   "metadata": {},
   "outputs": [],
   "source": [
    "from geovista import GeoPlotter\n",
    "plotter = GeoPlotter()"
   ]
  },
  {
   "cell_type": "markdown",
   "id": "ec7a03fa-8228-4e68-8022-f84195b882d9",
   "metadata": {},
   "source": [
    "Call the plotter `add_mesh` function, passing in our PolyData object with the Rh cube data in it.  \n",
    "( **N.B.** don't worry about the object which this passes back -- just discard it ).\n",
    "<details><summary>Sample code solution : <b>click to reveal</b></summary>\n",
    "\n",
    "```python\n",
    "_ = plotter.add_mesh(pv)\n",
    "```\n",
    "</details>"
   ]
  },
  {
   "cell_type": "code",
   "execution_count": null,
   "id": "ccb731e2-eb0d-4962-addc-c7a7c55aa940",
   "metadata": {},
   "outputs": [],
   "source": [
    "_ = plotter.add_mesh(pv)"
   ]
  },
  {
   "cell_type": "markdown",
   "id": "10e054ff-d318-4257-9d63-e7182688cfc4",
   "metadata": {},
   "source": [
    "Now simply plot this, by calling the plotter function \"show\" (with no args).\n",
    "<details><summary>Sample code solution : <b>click to reveal</b></summary>\n",
    "\n",
    "```python\n",
    "plotter.show()\n",
    "```\n",
    "</details>"
   ]
  },
  {
   "cell_type": "code",
   "execution_count": null,
   "id": "84c55d31-72eb-4e3c-9925-182c42275daa",
   "metadata": {},
   "outputs": [],
   "source": [
    "plotter.show()"
   ]
  },
  {
   "cell_type": "markdown",
   "id": "c35ea604-5df8-4fc0-89be-8d2b1caf3bec",
   "metadata": {},
   "source": [
    "**Some odd notes:**\n",
    "  * By default, `plotter.show()` opens an interactive window : **you can rotate and zoom it with the mouse**.\n",
    "    * you can instead generate static output \n",
    "        * in a notebook, you do this with `jupyter_backend='static'`\n",
    "        * or in a Python session, try `interactive=False`\n",
    "  * VTK/PyVista doesn't use plot \"types\".  \n",
    "    Instead, you add meshes to a plotter + can subsequently control the presentation.\n",
    "  * GeoVista can also produce more familiar 2D plots (see on ...)\n"
   ]
  },
  {
   "cell_type": "markdown",
   "id": "4300fe76-0124-4920-878f-d760ec18d004",
   "metadata": {},
   "source": [
    "***TODO:*** can suggest some of these as follow-on exercises"
   ]
  }
 ],
 "metadata": {
  "kernelspec": {
   "display_name": "Python 3 (ipykernel)",
   "language": "python",
   "name": "python3"
  },
  "language_info": {
   "codemirror_mode": {
    "name": "ipython",
    "version": 3
   },
   "file_extension": ".py",
   "mimetype": "text/x-python",
   "name": "python",
   "nbconvert_exporter": "python",
   "pygments_lexer": "ipython3",
   "version": "3.9.15"
  },
  "toc-autonumbering": true,
  "toc-showmarkdowntxt": false
 },
 "nbformat": 4,
 "nbformat_minor": 5
}
