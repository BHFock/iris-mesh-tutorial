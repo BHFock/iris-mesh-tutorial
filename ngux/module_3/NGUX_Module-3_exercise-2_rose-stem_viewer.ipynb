{
 "cells": [
  {
   "cell_type": "markdown",
   "id": "ec88877e-6c9b-4bc2-8694-a3036655d660",
   "metadata": {},
   "source": [
    "Here we will load an LFRic NetCDF output file and plot some fields from the model output."
   ]
  },
  {
   "cell_type": "code",
   "execution_count": null,
   "id": "d8f07276-230c-4f46-b064-934a54b79aff",
   "metadata": {},
   "outputs": [],
   "source": [
    "import numpy as np\n",
    "import matplotlib.pyplot as plt\n",
    "import iris\n",
    "import geovista as gv\n",
    "import pyvista as pv\n",
    "import netCDF4 as nc\n",
    "import os"
   ]
  },
  {
   "cell_type": "markdown",
   "id": "e5362529-6a58-4459-ba88-354ab2d9fbf9",
   "metadata": {},
   "source": [
    "First, let's load the mesh file, in order to get the connectivity information between the faces for plotting."
   ]
  },
  {
   "cell_type": "code",
   "execution_count": null,
   "id": "4e715c6e-6a28-411f-97cb-00c70940f3a6",
   "metadata": {},
   "outputs": [],
   "source": [
    "mesh_path = '/PATH/TO/MY/MESH/FILE/'\n",
    "# mesh_path = '~/cylc-run/my_lfric_dir/run1/share/output/meshes/intel_fast-debug-64bit/'\n",
    "#\n",
    "# You may have executed the test on another machine and may need to use scp to transfer files in order to plot.\n",
    "# scp MACHINE:~/cylc-run/my_lfric_dir/run1/share/output/meshes/intel_fast-debug-64bit/mesh_C24_MG.nc .\n",
    "# mesh_path = os.getcwd()\n",
    "\n",
    "mesh_data = nc.Dataset(mesh_path + '/' + 'mesh_C24_MG.nc','r')\n",
    "face_conn = mesh_data['dynamics_face_links'][:]"
   ]
  },
  {
   "cell_type": "markdown",
   "id": "e7ddc5fe-74d9-4885-be0f-ee06caf493ad",
   "metadata": {},
   "source": [
    "Now, let's load the model output file, and check the header info."
   ]
  },
  {
   "cell_type": "code",
   "execution_count": null,
   "id": "91f91761-0dd0-4c2e-943c-3257eca2f1a5",
   "metadata": {},
   "outputs": [],
   "source": [
    "file_path = '/PATH/TO/MY/OUTPUT/FILE/'\n",
    "# file_path = '~/cylc-run/my_lfric_dir/run1/share/output/gungho_model/gungho_model_baroclinic-C24_MG_xc40_intel_fast-debug-64bit/results/'\n",
    "#\n",
    "# You may have executed the test on another machine and may need to use scp to transfer files in order to plot.\n",
    "# scp MACHINE:~/cylc-run/my_lfric_dir/run1/share/output/gungho_model/gungho_model_baroclinic-C24_MG_xc40_intel_fast-debug-64bit/results/lfric_diag.nc .\n",
    "# file_path = os.getcwd()\n",
    "\n",
    "data = nc.Dataset(file_path + '/' + 'lfric_diag.nc','r')\n",
    "print(data)"
   ]
  },
  {
   "cell_type": "markdown",
   "id": "442af5b0-6210-4eb8-9e33-5b2420095521",
   "metadata": {},
   "source": [
    "OK, now from the field names in the header info above, let's pick a field to view, maybe the Exner pressure?"
   ]
  },
  {
   "cell_type": "code",
   "execution_count": null,
   "id": "e3a39274-5dc4-46b4-8a0a-e7b81e6c46da",
   "metadata": {},
   "outputs": [],
   "source": [
    "field_name = 'exner'\n",
    "field = data[field_name][:]\n",
    "print(field.shape)"
   ]
  },
  {
   "cell_type": "markdown",
   "id": "2ae2c087-9d31-484d-9138-5e955744d1c7",
   "metadata": {},
   "source": [
    "The first dimension is the number of time dumps, the second the number of vertical levels, and the third is the number of values on the faces of the elements at each level. Let's look at the botttom level at the final time."
   ]
  },
  {
   "cell_type": "code",
   "execution_count": null,
   "id": "b6c395d3-edc9-4db7-b5d6-113731d69b67",
   "metadata": {},
   "outputs": [],
   "source": [
    "time = field.shape[0]-1\n",
    "level = 0\n",
    "field_2d = field[time,level,:]"
   ]
  },
  {
   "cell_type": "markdown",
   "id": "6d897257-e930-4cad-8676-cf9b061690b6",
   "metadata": {},
   "source": [
    "Now let's plot the final time, bottom level of the field you've selected. For this we'll need to the 2D coordinates on the sphere (longitude, latitude), the field data array and the face connectivity from the mesh file. We'll also add the coastlines at the element edges just to be fancy :)"
   ]
  },
  {
   "cell_type": "code",
   "execution_count": null,
   "id": "bcce79d2-ae72-465b-acee-5cc8e23c8c1b",
   "metadata": {},
   "outputs": [],
   "source": [
    "face_lon = data['Mesh2d_face_x'][:]\n",
    "face_lat = data['Mesh2d_face_y'][:]\n",
    "gv_mesh = gv.Transform.from_unstructured(face_lon, face_lat, connectivity=face_conn, data=field_2d)\n",
    "\n",
    "plotter = gv.GeoPlotter()\n",
    "plotter.add_mesh(gv_mesh, cmap=\"nipy_spectral\", show_edges=True)\n",
    "plotter.add_coastlines(color='k')\n",
    "plotter.camera.zoom(1.6)\n",
    "viewpoint=[(1.6839421754488628, 4.701586250713391, 4.454449119537074), (0.0, 0.0, 0.0), (-0.2577906080031461, -0.6142650898541594, 0.7458031924119324)]\n",
    "plotter.camera_position=viewpoint\n",
    "plotter.show()"
   ]
  }
 ],
 "metadata": {
  "kernelspec": {
   "display_name": "Python 3 (ipykernel)",
   "language": "python",
   "name": "python3"
  },
  "language_info": {
   "codemirror_mode": {
    "name": "ipython",
    "version": 3
   },
   "file_extension": ".py",
   "mimetype": "text/x-python",
   "name": "python",
   "nbconvert_exporter": "python",
   "pygments_lexer": "ipython3",
   "version": "3.9.16"
  }
 },
 "nbformat": 4,
 "nbformat_minor": 5
}
